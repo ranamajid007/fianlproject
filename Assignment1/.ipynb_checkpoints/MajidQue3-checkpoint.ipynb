{
 "cells": [
  {
   "cell_type": "code",
   "execution_count": 1,
   "metadata": {
    "collapsed": true
   },
   "outputs": [],
   "source": [
    "import numpy as np\n",
    "from pandas import Series, DataFrame\n",
    "import pandas as pd"
   ]
  },
  {
   "cell_type": "code",
   "execution_count": 2,
   "metadata": {
    "collapsed": true
   },
   "outputs": [],
   "source": [
    "import json"
   ]
  },
  {
   "cell_type": "code",
   "execution_count": 5,
   "metadata": {
    "collapsed": true
   },
   "outputs": [],
   "source": [
    "jf = json.loads(open('customer_info.json').read())"
   ]
  },
  {
   "cell_type": "code",
   "execution_count": 17,
   "metadata": {
    "collapsed": false
   },
   "outputs": [
    {
     "data": {
      "text/plain": [
       "[{'address': {'city': 'New York',\n",
       "   'postalCode': '10021',\n",
       "   'state': 'NY',\n",
       "   'streetAddress': '21 2nd Street'},\n",
       "  'age': 25,\n",
       "  'creditLimit': 5000,\n",
       "  'firstName': 'John',\n",
       "  'lastName': 'Smith',\n",
       "  'phoneNumber': [{'number': '212 555-1234', 'type': 'home'},\n",
       "   {'number': '646 555-4567', 'type': 'fax'}]},\n",
       " {'address': {'city': 'New York',\n",
       "   'postalCode': '10025',\n",
       "   'state': 'NY',\n",
       "   'streetAddress': '42 1st Avenue'},\n",
       "  'age': 30,\n",
       "  'creditLimit': 15000,\n",
       "  'firstName': 'Bob',\n",
       "  'lastName': 'Johnson',\n",
       "  'phoneNumber': [{'number': '213 556-4567', 'type': 'home'},\n",
       "   {'number': '647 557-3445', 'type': 'fax'}]},\n",
       " {'address': {'city': 'Los Angeles',\n",
       "   'postalCode': '90210',\n",
       "   'state': 'CA',\n",
       "   'streetAddress': '405 Beverly Hills'},\n",
       "  'age': 35,\n",
       "  'creditLimit': 7500,\n",
       "  'firstName': 'Frank',\n",
       "  'lastName': 'Gupta',\n",
       "  'phoneNumber': [{'number': '212 558-4321', 'type': 'office'},\n",
       "   {'number': '646 553-2227', 'type': 'fax'}]}]"
      ]
     },
     "execution_count": 17,
     "metadata": {},
     "output_type": "execute_result"
    }
   ],
   "source": [
    "jf"
   ]
  },
  {
   "cell_type": "markdown",
   "metadata": {},
   "source": [
    "#  Total Number of Customers"
   ]
  },
  {
   "cell_type": "code",
   "execution_count": 6,
   "metadata": {
    "collapsed": false
   },
   "outputs": [
    {
     "data": {
      "text/plain": [
       "3"
      ]
     },
     "execution_count": 6,
     "metadata": {},
     "output_type": "execute_result"
    }
   ],
   "source": [
    "len(jf) "
   ]
  },
  {
   "cell_type": "markdown",
   "metadata": {},
   "source": [
    "# Customers with age more than 27"
   ]
  },
  {
   "cell_type": "code",
   "execution_count": 48,
   "metadata": {
    "collapsed": false
   },
   "outputs": [
    {
     "name": "stdout",
     "output_type": "stream",
     "text": [
      "Bob Johnson 30\n",
      "Frank Gupta 35\n"
     ]
    }
   ],
   "source": [
    "for customers in list(filter(lambda x:x['age'] > 27, jf)):\n",
    "    print(customers['firstName'], customers['lastName'],customers['age'])"
   ]
  },
  {
   "cell_type": "markdown",
   "metadata": {},
   "source": [
    "# Customers with no home phone number"
   ]
  },
  {
   "cell_type": "code",
   "execution_count": 53,
   "metadata": {
    "collapsed": false
   },
   "outputs": [
    {
     "name": "stdout",
     "output_type": "stream",
     "text": [
      "Frank Gupta\n"
     ]
    }
   ],
   "source": [
    "def withouthomenumber(a):\n",
    "\n",
    "    found = False\n",
    "    for i in a['phoneNumber']:\n",
    "        if i['type']=='home':\n",
    "            found = True\n",
    "            break;\n",
    "    return not found\n",
    "\n",
    "for customers in filter(withouthomenumber, jf):\n",
    "    print(customers['firstName'], customers['lastName'])\n",
    "    \n"
   ]
  },
  {
   "cell_type": "markdown",
   "metadata": {},
   "source": [
    "# Customers with no office number"
   ]
  },
  {
   "cell_type": "code",
   "execution_count": 56,
   "metadata": {
    "collapsed": false
   },
   "outputs": [
    {
     "name": "stdout",
     "output_type": "stream",
     "text": [
      "John Smith [{'type': 'home', 'number': '212 555-1234'}, {'type': 'fax', 'number': '646 555-4567'}]\n",
      "Bob Johnson [{'type': 'home', 'number': '213 556-4567'}, {'type': 'fax', 'number': '647 557-3445'}]\n"
     ]
    }
   ],
   "source": [
    "def withoutofficenumber(a):\n",
    "\n",
    "    found = False\n",
    "    for i in a['phoneNumber']:\n",
    "        if i['type']=='office':\n",
    "            found = True\n",
    "            break;\n",
    "    return not found\n",
    "\n",
    "for customers in filter(withoutofficenumber, jf):\n",
    "    print(customers['firstName'], customers['lastName'], customers['phoneNumber'])"
   ]
  },
  {
   "cell_type": "markdown",
   "metadata": {},
   "source": [
    "# Customers who live in New York"
   ]
  },
  {
   "cell_type": "code",
   "execution_count": 35,
   "metadata": {
    "collapsed": false
   },
   "outputs": [
    {
     "name": "stdout",
     "output_type": "stream",
     "text": [
      "John Smith New York\n",
      "Bob Johnson New York\n"
     ]
    }
   ],
   "source": [
    "for customers in filter(lambda x: x['address']['city'] == 'New York', jf):\n",
    "    print(customers['firstName'], customers['lastName'], customers['address']['city'])"
   ]
  },
  {
   "cell_type": "markdown",
   "metadata": {},
   "source": [
    "# Customers with credit limit more than 10000!"
   ]
  },
  {
   "cell_type": "code",
   "execution_count": 37,
   "metadata": {
    "collapsed": false
   },
   "outputs": [
    {
     "name": "stdout",
     "output_type": "stream",
     "text": [
      "Bob Johnson 15000\n"
     ]
    }
   ],
   "source": [
    "for customers in filter(lambda x: x['creditLimit'] > 10000, jf):\n",
    "    print(customers['firstName'], customers['lastName'], customers['creditLimit'])"
   ]
  },
  {
   "cell_type": "code",
   "execution_count": null,
   "metadata": {
    "collapsed": true
   },
   "outputs": [],
   "source": []
  }
 ],
 "metadata": {
  "kernelspec": {
   "display_name": "Python 3",
   "language": "python",
   "name": "python3"
  },
  "language_info": {
   "codemirror_mode": {
    "name": "ipython",
    "version": 3
   },
   "file_extension": ".py",
   "mimetype": "text/x-python",
   "name": "python",
   "nbconvert_exporter": "python",
   "pygments_lexer": "ipython3",
   "version": "3.6.0"
  }
 },
 "nbformat": 4,
 "nbformat_minor": 0
}
