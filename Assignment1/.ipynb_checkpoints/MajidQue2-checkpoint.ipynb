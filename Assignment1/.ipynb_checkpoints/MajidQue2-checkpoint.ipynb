{
 "cells": [
  {
   "cell_type": "code",
   "execution_count": 1,
   "metadata": {
    "collapsed": true
   },
   "outputs": [],
   "source": [
    "import numpy as np"
   ]
  },
  {
   "cell_type": "code",
   "execution_count": 2,
   "metadata": {
    "collapsed": true
   },
   "outputs": [],
   "source": [
    "from pandas import Series, DataFrame"
   ]
  },
  {
   "cell_type": "code",
   "execution_count": 3,
   "metadata": {
    "collapsed": true
   },
   "outputs": [],
   "source": [
    "import pandas as pd"
   ]
  },
  {
   "cell_type": "code",
   "execution_count": 5,
   "metadata": {
    "collapsed": true
   },
   "outputs": [],
   "source": [
    "from lxml import etree"
   ]
  },
  {
   "cell_type": "code",
   "execution_count": 10,
   "metadata": {
    "collapsed": false
   },
   "outputs": [],
   "source": [
    "bookfile = open('books.xml').read()\n",
    "xml_data = etree.fromstring(bookfile)\n",
    "\n",
    "\n",
    "lst = []\n",
    "columns = []\n",
    "idx = 0\n",
    "for book in xml_data:\n",
    "    row = []\n",
    "    for tag in book:\n",
    "        if idx == 0:\n",
    "            columns.append(tag.tag)\n",
    "        row.append(tag.text.strip())\n",
    "\n",
    "    idx += 1\n",
    "    lst.append(row)\n",
    "\n",
    "xf = DataFrame(lst, columns=columns)\n"
   ]
  },
  {
   "cell_type": "code",
   "execution_count": 11,
   "metadata": {
    "collapsed": false
   },
   "outputs": [
    {
     "data": {
      "text/html": [
       "<div>\n",
       "<table border=\"1\" class=\"dataframe\">\n",
       "  <thead>\n",
       "    <tr style=\"text-align: right;\">\n",
       "      <th></th>\n",
       "      <th>author</th>\n",
       "      <th>title</th>\n",
       "      <th>genre</th>\n",
       "      <th>price</th>\n",
       "      <th>publish_date</th>\n",
       "      <th>description</th>\n",
       "    </tr>\n",
       "  </thead>\n",
       "  <tbody>\n",
       "    <tr>\n",
       "      <th>0</th>\n",
       "      <td>Gambardella, Matthew</td>\n",
       "      <td>XML Developer's Guide</td>\n",
       "      <td>Computer</td>\n",
       "      <td>44.95</td>\n",
       "      <td>2000-10-01</td>\n",
       "      <td>An in-depth look at creating applications \\n  ...</td>\n",
       "    </tr>\n",
       "    <tr>\n",
       "      <th>1</th>\n",
       "      <td>Ralls, Kim</td>\n",
       "      <td>Midnight Rain</td>\n",
       "      <td>Fantasy</td>\n",
       "      <td>5.95</td>\n",
       "      <td>2000-12-16</td>\n",
       "      <td>A former architect battles corporate zombies, ...</td>\n",
       "    </tr>\n",
       "    <tr>\n",
       "      <th>2</th>\n",
       "      <td>Corets, Eva</td>\n",
       "      <td>Maeve Ascendant</td>\n",
       "      <td>Fantasy</td>\n",
       "      <td>5.95</td>\n",
       "      <td>2000-11-17</td>\n",
       "      <td>After the collapse of a nanotechnology \\n     ...</td>\n",
       "    </tr>\n",
       "    <tr>\n",
       "      <th>3</th>\n",
       "      <td>Corets, Eva</td>\n",
       "      <td>Oberon's Legacy</td>\n",
       "      <td>Fantasy</td>\n",
       "      <td>5.95</td>\n",
       "      <td>2001-03-10</td>\n",
       "      <td>In post-apocalypse England, the mysterious \\n ...</td>\n",
       "    </tr>\n",
       "    <tr>\n",
       "      <th>4</th>\n",
       "      <td>Corets, Eva</td>\n",
       "      <td>The Sundered Grail</td>\n",
       "      <td>Fantasy</td>\n",
       "      <td>5.95</td>\n",
       "      <td>2001-09-10</td>\n",
       "      <td>The two daughters of Maeve, half-sisters, \\n  ...</td>\n",
       "    </tr>\n",
       "    <tr>\n",
       "      <th>5</th>\n",
       "      <td>Randall, Cynthia</td>\n",
       "      <td>Lover Birds</td>\n",
       "      <td>Romance</td>\n",
       "      <td>4.95</td>\n",
       "      <td>2000-09-02</td>\n",
       "      <td>When Carla meets Paul at an ornithology \\n    ...</td>\n",
       "    </tr>\n",
       "    <tr>\n",
       "      <th>6</th>\n",
       "      <td>Thurman, Paula</td>\n",
       "      <td>Splish Splash</td>\n",
       "      <td>Romance</td>\n",
       "      <td>4.95</td>\n",
       "      <td>2000-11-02</td>\n",
       "      <td>A deep sea diver finds true love twenty \\n    ...</td>\n",
       "    </tr>\n",
       "    <tr>\n",
       "      <th>7</th>\n",
       "      <td>Knorr, Stefan</td>\n",
       "      <td>Creepy Crawlies</td>\n",
       "      <td>Horror</td>\n",
       "      <td>4.95</td>\n",
       "      <td>2000-12-06</td>\n",
       "      <td>An anthology of horror stories about roaches,\\...</td>\n",
       "    </tr>\n",
       "    <tr>\n",
       "      <th>8</th>\n",
       "      <td>Kress, Peter</td>\n",
       "      <td>Paradox Lost</td>\n",
       "      <td>Science Fiction</td>\n",
       "      <td>6.95</td>\n",
       "      <td>2000-11-02</td>\n",
       "      <td>After an inadvertant trip through a Heisenberg...</td>\n",
       "    </tr>\n",
       "    <tr>\n",
       "      <th>9</th>\n",
       "      <td>O'Brien, Tim</td>\n",
       "      <td>Microsoft .NET: The Programming Bible</td>\n",
       "      <td>Computer</td>\n",
       "      <td>36.95</td>\n",
       "      <td>2000-12-09</td>\n",
       "      <td>Microsoft's .NET initiative is explored in \\n ...</td>\n",
       "    </tr>\n",
       "    <tr>\n",
       "      <th>10</th>\n",
       "      <td>O'Brien, Tim</td>\n",
       "      <td>MSXML3: A Comprehensive Guide</td>\n",
       "      <td>Computer</td>\n",
       "      <td>36.95</td>\n",
       "      <td>2000-12-01</td>\n",
       "      <td>The Microsoft MSXML3 parser is covered in \\n  ...</td>\n",
       "    </tr>\n",
       "    <tr>\n",
       "      <th>11</th>\n",
       "      <td>Galos, Mike</td>\n",
       "      <td>Visual Studio 7: A Comprehensive Guide</td>\n",
       "      <td>Computer</td>\n",
       "      <td>49.95</td>\n",
       "      <td>2001-04-16</td>\n",
       "      <td>Microsoft Visual Studio 7 is explored in depth...</td>\n",
       "    </tr>\n",
       "  </tbody>\n",
       "</table>\n",
       "</div>"
      ],
      "text/plain": [
       "                  author                                   title  \\\n",
       "0   Gambardella, Matthew                   XML Developer's Guide   \n",
       "1             Ralls, Kim                           Midnight Rain   \n",
       "2            Corets, Eva                         Maeve Ascendant   \n",
       "3            Corets, Eva                         Oberon's Legacy   \n",
       "4            Corets, Eva                      The Sundered Grail   \n",
       "5       Randall, Cynthia                             Lover Birds   \n",
       "6         Thurman, Paula                           Splish Splash   \n",
       "7          Knorr, Stefan                         Creepy Crawlies   \n",
       "8           Kress, Peter                            Paradox Lost   \n",
       "9           O'Brien, Tim   Microsoft .NET: The Programming Bible   \n",
       "10          O'Brien, Tim           MSXML3: A Comprehensive Guide   \n",
       "11           Galos, Mike  Visual Studio 7: A Comprehensive Guide   \n",
       "\n",
       "              genre  price publish_date  \\\n",
       "0          Computer  44.95   2000-10-01   \n",
       "1           Fantasy   5.95   2000-12-16   \n",
       "2           Fantasy   5.95   2000-11-17   \n",
       "3           Fantasy   5.95   2001-03-10   \n",
       "4           Fantasy   5.95   2001-09-10   \n",
       "5           Romance   4.95   2000-09-02   \n",
       "6           Romance   4.95   2000-11-02   \n",
       "7            Horror   4.95   2000-12-06   \n",
       "8   Science Fiction   6.95   2000-11-02   \n",
       "9          Computer  36.95   2000-12-09   \n",
       "10         Computer  36.95   2000-12-01   \n",
       "11         Computer  49.95   2001-04-16   \n",
       "\n",
       "                                          description  \n",
       "0   An in-depth look at creating applications \\n  ...  \n",
       "1   A former architect battles corporate zombies, ...  \n",
       "2   After the collapse of a nanotechnology \\n     ...  \n",
       "3   In post-apocalypse England, the mysterious \\n ...  \n",
       "4   The two daughters of Maeve, half-sisters, \\n  ...  \n",
       "5   When Carla meets Paul at an ornithology \\n    ...  \n",
       "6   A deep sea diver finds true love twenty \\n    ...  \n",
       "7   An anthology of horror stories about roaches,\\...  \n",
       "8   After an inadvertant trip through a Heisenberg...  \n",
       "9   Microsoft's .NET initiative is explored in \\n ...  \n",
       "10  The Microsoft MSXML3 parser is covered in \\n  ...  \n",
       "11  Microsoft Visual Studio 7 is explored in depth...  "
      ]
     },
     "execution_count": 11,
     "metadata": {},
     "output_type": "execute_result"
    }
   ],
   "source": [
    "xf"
   ]
  },
  {
   "cell_type": "markdown",
   "metadata": {},
   "source": [
    "#  Number of books in catalog"
   ]
  },
  {
   "cell_type": "code",
   "execution_count": 12,
   "metadata": {
    "collapsed": false
   },
   "outputs": [
    {
     "data": {
      "text/plain": [
       "12"
      ]
     },
     "execution_count": 12,
     "metadata": {},
     "output_type": "execute_result"
    }
   ],
   "source": [
    "len(xf)"
   ]
  },
  {
   "cell_type": "markdown",
   "metadata": {},
   "source": [
    "# Books which have price higher than 10 dollar"
   ]
  },
  {
   "cell_type": "code",
   "execution_count": 28,
   "metadata": {
    "collapsed": false
   },
   "outputs": [
    {
     "data": {
      "text/html": [
       "<div>\n",
       "<table border=\"1\" class=\"dataframe\">\n",
       "  <thead>\n",
       "    <tr style=\"text-align: right;\">\n",
       "      <th></th>\n",
       "      <th>title</th>\n",
       "      <th>price</th>\n",
       "    </tr>\n",
       "  </thead>\n",
       "  <tbody>\n",
       "    <tr>\n",
       "      <th>0</th>\n",
       "      <td>XML Developer's Guide</td>\n",
       "      <td>44.95</td>\n",
       "    </tr>\n",
       "    <tr>\n",
       "      <th>9</th>\n",
       "      <td>Microsoft .NET: The Programming Bible</td>\n",
       "      <td>36.95</td>\n",
       "    </tr>\n",
       "    <tr>\n",
       "      <th>10</th>\n",
       "      <td>MSXML3: A Comprehensive Guide</td>\n",
       "      <td>36.95</td>\n",
       "    </tr>\n",
       "    <tr>\n",
       "      <th>11</th>\n",
       "      <td>Visual Studio 7: A Comprehensive Guide</td>\n",
       "      <td>49.95</td>\n",
       "    </tr>\n",
       "  </tbody>\n",
       "</table>\n",
       "</div>"
      ],
      "text/plain": [
       "                                     title  price\n",
       "0                    XML Developer's Guide  44.95\n",
       "9    Microsoft .NET: The Programming Bible  36.95\n",
       "10           MSXML3: A Comprehensive Guide  36.95\n",
       "11  Visual Studio 7: A Comprehensive Guide  49.95"
      ]
     },
     "execution_count": 28,
     "metadata": {},
     "output_type": "execute_result"
    }
   ],
   "source": [
    "booksdollar = xf[xf['price'].map(lambda x:float(x)) > 10].ix[:,['title', 'price']]\n",
    "booksdollar"
   ]
  },
  {
   "cell_type": "markdown",
   "metadata": {},
   "source": [
    "# Books less than 10 dollar"
   ]
  },
  {
   "cell_type": "code",
   "execution_count": 29,
   "metadata": {
    "collapsed": false
   },
   "outputs": [
    {
     "data": {
      "text/plain": [
       "8"
      ]
     },
     "execution_count": 29,
     "metadata": {},
     "output_type": "execute_result"
    }
   ],
   "source": [
    "len(xf) - len(booksdollar)  #booksdollar are books with price more than 10 dollar"
   ]
  },
  {
   "cell_type": "markdown",
   "metadata": {},
   "source": [
    "# Maximum book price"
   ]
  },
  {
   "cell_type": "code",
   "execution_count": 32,
   "metadata": {
    "collapsed": false
   },
   "outputs": [
    {
     "data": {
      "text/plain": [
       "'49.95'"
      ]
     },
     "execution_count": 32,
     "metadata": {},
     "output_type": "execute_result"
    }
   ],
   "source": [
    "\"%.2f\" % xf['price'].map(lambda x:float(x)).describe()['max']"
   ]
  },
  {
   "cell_type": "markdown",
   "metadata": {},
   "source": [
    "# Minimum book price"
   ]
  },
  {
   "cell_type": "code",
   "execution_count": 33,
   "metadata": {
    "collapsed": false
   },
   "outputs": [
    {
     "data": {
      "text/plain": [
       "'4.95'"
      ]
     },
     "execution_count": 33,
     "metadata": {},
     "output_type": "execute_result"
    }
   ],
   "source": [
    "\"%.2f\" % xf['price'].map(lambda x:float(x)).describe()['min']"
   ]
  },
  {
   "cell_type": "markdown",
   "metadata": {},
   "source": [
    "# Books published on same date"
   ]
  },
  {
   "cell_type": "code",
   "execution_count": 34,
   "metadata": {
    "collapsed": true
   },
   "outputs": [],
   "source": [
    "#sorting books by published date"
   ]
  },
  {
   "cell_type": "code",
   "execution_count": 41,
   "metadata": {
    "collapsed": false
   },
   "outputs": [
    {
     "data": {
      "text/html": [
       "<div>\n",
       "<table border=\"1\" class=\"dataframe\">\n",
       "  <thead>\n",
       "    <tr style=\"text-align: right;\">\n",
       "      <th></th>\n",
       "      <th></th>\n",
       "    </tr>\n",
       "    <tr>\n",
       "      <th>publish_date</th>\n",
       "      <th>title</th>\n",
       "    </tr>\n",
       "  </thead>\n",
       "  <tbody>\n",
       "    <tr>\n",
       "      <th>2000-09-02</th>\n",
       "      <th>Lover Birds</th>\n",
       "    </tr>\n",
       "    <tr>\n",
       "      <th>2000-10-01</th>\n",
       "      <th>XML Developer's Guide</th>\n",
       "    </tr>\n",
       "    <tr>\n",
       "      <th rowspan=\"2\" valign=\"top\">2000-11-02</th>\n",
       "      <th>Splish Splash</th>\n",
       "    </tr>\n",
       "    <tr>\n",
       "      <th>Paradox Lost</th>\n",
       "    </tr>\n",
       "    <tr>\n",
       "      <th>2000-11-17</th>\n",
       "      <th>Maeve Ascendant</th>\n",
       "    </tr>\n",
       "    <tr>\n",
       "      <th>2000-12-01</th>\n",
       "      <th>MSXML3: A Comprehensive Guide</th>\n",
       "    </tr>\n",
       "    <tr>\n",
       "      <th>2000-12-06</th>\n",
       "      <th>Creepy Crawlies</th>\n",
       "    </tr>\n",
       "    <tr>\n",
       "      <th>2000-12-09</th>\n",
       "      <th>Microsoft .NET: The Programming Bible</th>\n",
       "    </tr>\n",
       "    <tr>\n",
       "      <th>2000-12-16</th>\n",
       "      <th>Midnight Rain</th>\n",
       "    </tr>\n",
       "    <tr>\n",
       "      <th>2001-03-10</th>\n",
       "      <th>Oberon's Legacy</th>\n",
       "    </tr>\n",
       "    <tr>\n",
       "      <th>2001-04-16</th>\n",
       "      <th>Visual Studio 7: A Comprehensive Guide</th>\n",
       "    </tr>\n",
       "    <tr>\n",
       "      <th>2001-09-10</th>\n",
       "      <th>The Sundered Grail</th>\n",
       "    </tr>\n",
       "  </tbody>\n",
       "</table>\n",
       "</div>"
      ],
      "text/plain": [
       "Empty DataFrame\n",
       "Columns: []\n",
       "Index: [(2000-09-02, Lover Birds), (2000-10-01, XML Developer's Guide), (2000-11-02, Splish Splash), (2000-11-02, Paradox Lost), (2000-11-17, Maeve Ascendant), (2000-12-01, MSXML3: A Comprehensive Guide), (2000-12-06, Creepy Crawlies), (2000-12-09, Microsoft .NET: The Programming Bible), (2000-12-16, Midnight Rain), (2001-03-10, Oberon's Legacy), (2001-04-16, Visual Studio 7: A Comprehensive Guide), (2001-09-10, The Sundered Grail)]"
      ]
     },
     "execution_count": 41,
     "metadata": {},
     "output_type": "execute_result"
    }
   ],
   "source": [
    "xf.sort_values(by=['publish_date']).set_index(['publish_date', 'title']).ix[:,[]]"
   ]
  },
  {
   "cell_type": "markdown",
   "metadata": {},
   "source": [
    "# Book genre are there in the catalog"
   ]
  },
  {
   "cell_type": "code",
   "execution_count": 43,
   "metadata": {
    "collapsed": false
   },
   "outputs": [
    {
     "data": {
      "text/plain": [
       "5"
      ]
     },
     "execution_count": 43,
     "metadata": {},
     "output_type": "execute_result"
    }
   ],
   "source": [
    "len(xf['genre'].unique())"
   ]
  },
  {
   "cell_type": "markdown",
   "metadata": {},
   "source": [
    "# Number of books according to the genre"
   ]
  },
  {
   "cell_type": "code",
   "execution_count": 45,
   "metadata": {
    "collapsed": false
   },
   "outputs": [
    {
     "data": {
      "text/html": [
       "<div>\n",
       "<table border=\"1\" class=\"dataframe\">\n",
       "  <thead>\n",
       "    <tr style=\"text-align: right;\">\n",
       "      <th></th>\n",
       "      <th>genre</th>\n",
       "    </tr>\n",
       "  </thead>\n",
       "  <tbody>\n",
       "    <tr>\n",
       "      <th>Computer</th>\n",
       "      <td>4</td>\n",
       "    </tr>\n",
       "    <tr>\n",
       "      <th>Fantasy</th>\n",
       "      <td>4</td>\n",
       "    </tr>\n",
       "    <tr>\n",
       "      <th>Romance</th>\n",
       "      <td>2</td>\n",
       "    </tr>\n",
       "    <tr>\n",
       "      <th>Horror</th>\n",
       "      <td>1</td>\n",
       "    </tr>\n",
       "    <tr>\n",
       "      <th>Science Fiction</th>\n",
       "      <td>1</td>\n",
       "    </tr>\n",
       "  </tbody>\n",
       "</table>\n",
       "</div>"
      ],
      "text/plain": [
       "                 genre\n",
       "Computer             4\n",
       "Fantasy              4\n",
       "Romance              2\n",
       "Horror               1\n",
       "Science Fiction      1"
      ]
     },
     "execution_count": 45,
     "metadata": {},
     "output_type": "execute_result"
    }
   ],
   "source": [
    "DataFrame(xf['genre'].value_counts())"
   ]
  },
  {
   "cell_type": "markdown",
   "metadata": {},
   "source": [
    "# Authors who have published more than 1 book!"
   ]
  },
  {
   "cell_type": "code",
   "execution_count": 55,
   "metadata": {
    "collapsed": false
   },
   "outputs": [
    {
     "data": {
      "text/plain": [
       "Corets, Eva     3\n",
       "O'Brien, Tim    2\n",
       "Name: author, dtype: int64"
      ]
     },
     "execution_count": 55,
     "metadata": {},
     "output_type": "execute_result"
    }
   ],
   "source": [
    "xf['author'].value_counts()[lambda x: x > 1]"
   ]
  },
  {
   "cell_type": "markdown",
   "metadata": {},
   "source": [
    "# Do the year of 2000 have more books than the year of 2001"
   ]
  },
  {
   "cell_type": "code",
   "execution_count": 56,
   "metadata": {
    "collapsed": true
   },
   "outputs": [],
   "source": [
    "#creating a column for year from the publishing date"
   ]
  },
  {
   "cell_type": "code",
   "execution_count": 57,
   "metadata": {
    "collapsed": true
   },
   "outputs": [],
   "source": [
    "pyear = xf['publish_date'].map(lambda x:x[0:4])"
   ]
  },
  {
   "cell_type": "code",
   "execution_count": 65,
   "metadata": {
    "collapsed": false
   },
   "outputs": [
    {
     "data": {
      "text/plain": [
       "2000    9\n",
       "2001    3\n",
       "Name: publish_date, dtype: int64"
      ]
     },
     "execution_count": 65,
     "metadata": {},
     "output_type": "execute_result"
    }
   ],
   "source": [
    "check = pyear.value_counts()\n",
    "check"
   ]
  },
  {
   "cell_type": "code",
   "execution_count": 66,
   "metadata": {
    "collapsed": false
   },
   "outputs": [
    {
     "data": {
      "text/plain": [
       "True"
      ]
     },
     "execution_count": 66,
     "metadata": {},
     "output_type": "execute_result"
    }
   ],
   "source": [
    "check[0] > check[1]"
   ]
  },
  {
   "cell_type": "code",
   "execution_count": null,
   "metadata": {
    "collapsed": true
   },
   "outputs": [],
   "source": [
    "#Yes 2000 have more books than year of 2001"
   ]
  }
 ],
 "metadata": {
  "kernelspec": {
   "display_name": "Python 3",
   "language": "python",
   "name": "python3"
  },
  "language_info": {
   "codemirror_mode": {
    "name": "ipython",
    "version": 3
   },
   "file_extension": ".py",
   "mimetype": "text/x-python",
   "name": "python",
   "nbconvert_exporter": "python",
   "pygments_lexer": "ipython3",
   "version": "3.6.0"
  }
 },
 "nbformat": 4,
 "nbformat_minor": 0
}
