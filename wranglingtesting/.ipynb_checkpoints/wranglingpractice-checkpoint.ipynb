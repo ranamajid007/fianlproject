{
 "cells": [
  {
   "cell_type": "code",
   "execution_count": 1,
   "metadata": {
    "collapsed": true
   },
   "outputs": [],
   "source": [
    "import requests"
   ]
  },
  {
   "cell_type": "code",
   "execution_count": 3,
   "metadata": {
    "collapsed": false
   },
   "outputs": [],
   "source": [
    "page = requests.get(\"https://raw.githubusercontent.com/bernardonugroho/storage/master/first.html\")"
   ]
  },
  {
   "cell_type": "code",
   "execution_count": 4,
   "metadata": {
    "collapsed": false
   },
   "outputs": [
    {
     "name": "stdout",
     "output_type": "stream",
     "text": [
      "<!DOCTYPE html>\n",
      "<html>\n",
      " <head>\n",
      "  <title>\n",
      "   A simple example page\n",
      "  </title>\n",
      " </head>\n",
      " <body>\n",
      "  <p>\n",
      "   Here is some simple content for this page.\n",
      "  </p>\n",
      " </body>\n",
      "</html>\n",
      "\n"
     ]
    }
   ],
   "source": [
    "from bs4 import BeautifulSoup\n",
    "soup = BeautifulSoup(page.content, 'html.parser')\n",
    "print(soup.prettify())"
   ]
  },
  {
   "cell_type": "code",
   "execution_count": 5,
   "metadata": {
    "collapsed": false
   },
   "outputs": [
    {
     "data": {
      "text/plain": [
       "['html', '\\n', <html>\n",
       " <head>\n",
       " <title>\n",
       "    A simple example page\n",
       "   </title>\n",
       " </head>\n",
       " <body>\n",
       " <p>\n",
       "    Here is some simple content for this page.\n",
       "   </p>\n",
       " </body>\n",
       " </html>, '\\n']"
      ]
     },
     "execution_count": 5,
     "metadata": {},
     "output_type": "execute_result"
    }
   ],
   "source": [
    "list(soup.children)"
   ]
  },
  {
   "cell_type": "code",
   "execution_count": 6,
   "metadata": {
    "collapsed": false
   },
   "outputs": [
    {
     "data": {
      "text/plain": [
       "[bs4.element.Doctype,\n",
       " bs4.element.NavigableString,\n",
       " bs4.element.Tag,\n",
       " bs4.element.NavigableString]"
      ]
     },
     "execution_count": 6,
     "metadata": {},
     "output_type": "execute_result"
    }
   ],
   "source": [
    "[type(item) for item in list(soup.children)]"
   ]
  },
  {
   "cell_type": "code",
   "execution_count": 7,
   "metadata": {
    "collapsed": true
   },
   "outputs": [],
   "source": [
    "html = list(soup.children)[2]"
   ]
  },
  {
   "cell_type": "code",
   "execution_count": 9,
   "metadata": {
    "collapsed": false
   },
   "outputs": [
    {
     "name": "stdout",
     "output_type": "stream",
     "text": [
      "<html>\n",
      "<head>\n",
      "<title>\n",
      "   A simple example page\n",
      "  </title>\n",
      "</head>\n",
      "<body>\n",
      "<p>\n",
      "   Here is some simple content for this page.\n",
      "  </p>\n",
      "</body>\n",
      "</html>\n"
     ]
    }
   ],
   "source": [
    "print(html)"
   ]
  },
  {
   "cell_type": "code",
   "execution_count": 10,
   "metadata": {
    "collapsed": false
   },
   "outputs": [
    {
     "data": {
      "text/plain": [
       "['\\n', <head>\n",
       " <title>\n",
       "    A simple example page\n",
       "   </title>\n",
       " </head>, '\\n', <body>\n",
       " <p>\n",
       "    Here is some simple content for this page.\n",
       "   </p>\n",
       " </body>, '\\n']"
      ]
     },
     "execution_count": 10,
     "metadata": {},
     "output_type": "execute_result"
    }
   ],
   "source": [
    "list(html.children)"
   ]
  },
  {
   "cell_type": "code",
   "execution_count": 13,
   "metadata": {
    "collapsed": false
   },
   "outputs": [
    {
     "data": {
      "text/plain": [
       "['\\n', <p>\n",
       "    Here is some simple content for this page.\n",
       "   </p>, '\\n']"
      ]
     },
     "execution_count": 13,
     "metadata": {},
     "output_type": "execute_result"
    }
   ],
   "source": [
    "body = list(html.children)[3]\n",
    "list(body.children)"
   ]
  },
  {
   "cell_type": "markdown",
   "metadata": {},
   "source": [
    "# Finding all instances of a tag at once"
   ]
  },
  {
   "cell_type": "code",
   "execution_count": 14,
   "metadata": {
    "collapsed": false
   },
   "outputs": [
    {
     "data": {
      "text/plain": [
       "[<p>\n",
       "    Here is some simple content for this page.\n",
       "   </p>]"
      ]
     },
     "execution_count": 14,
     "metadata": {},
     "output_type": "execute_result"
    }
   ],
   "source": [
    "soup = BeautifulSoup(page.content, 'html.parser')\n",
    "soup.find_all('p')"
   ]
  },
  {
   "cell_type": "markdown",
   "metadata": {},
   "source": [
    "# Searching for tags by class and id"
   ]
  },
  {
   "cell_type": "code",
   "execution_count": 17,
   "metadata": {
    "collapsed": false
   },
   "outputs": [
    {
     "data": {
      "text/plain": [
       "<html>\n",
       "<head>\n",
       "<title>A simple example page</title>\n",
       "</head>\n",
       "<body>\n",
       "<div>\n",
       "<p class=\"inner-text first-item\" id=\"first\">\n",
       "                First paragraph.\n",
       "            </p>\n",
       "<p class=\"inner-text\">\n",
       "                Second paragraph.\n",
       "            </p>\n",
       "</div>\n",
       "<p class=\"outer-text first-item\" id=\"second\">\n",
       "<b>\n",
       "                First outer paragraph.\n",
       "            </b>\n",
       "</p>\n",
       "<p class=\"outer-text\">\n",
       "<b>\n",
       "                Second outer paragraph.\n",
       "            </b>\n",
       "</p>\n",
       "</body>\n",
       "</html>"
      ]
     },
     "execution_count": 17,
     "metadata": {},
     "output_type": "execute_result"
    }
   ],
   "source": [
    "page = requests.get(\"https://raw.githubusercontent.com/bernardonugroho/storage/master/second.html\")\n",
    "soup = BeautifulSoup(page.content, 'html.parser')\n",
    "soup"
   ]
  },
  {
   "cell_type": "code",
   "execution_count": 19,
   "metadata": {
    "collapsed": false
   },
   "outputs": [
    {
     "data": {
      "text/plain": [
       "[<p class=\"outer-text first-item\" id=\"second\">\n",
       " <b>\n",
       "                 First outer paragraph.\n",
       "             </b>\n",
       " </p>, <p class=\"outer-text\">\n",
       " <b>\n",
       "                 Second outer paragraph.\n",
       "             </b>\n",
       " </p>]"
      ]
     },
     "execution_count": 19,
     "metadata": {},
     "output_type": "execute_result"
    }
   ],
   "source": [
    "soup.find_all('p', class_='outer-text')"
   ]
  },
  {
   "cell_type": "code",
   "execution_count": 20,
   "metadata": {
    "collapsed": false
   },
   "outputs": [
    {
     "data": {
      "text/plain": [
       "[<p class=\"inner-text first-item\" id=\"first\">\n",
       "                 First paragraph.\n",
       "             </p>]"
      ]
     },
     "execution_count": 20,
     "metadata": {},
     "output_type": "execute_result"
    }
   ],
   "source": [
    "soup.find_all(id=\"first\")"
   ]
  },
  {
   "cell_type": "markdown",
   "metadata": {},
   "source": [
    "# Downloading weather data"
   ]
  },
  {
   "cell_type": "code",
   "execution_count": 21,
   "metadata": {
    "collapsed": false
   },
   "outputs": [
    {
     "name": "stdout",
     "output_type": "stream",
     "text": [
      "<div class=\"tombstone-container\">\n",
      " <p class=\"period-name\">\n",
      "  Tonight\n",
      "  <br>\n",
      "   <br/>\n",
      "  </br>\n",
      " </p>\n",
      " <p>\n",
      "  <img alt=\"Tonight: A 20 percent chance of showers after midnight.  Mostly cloudy, with a low around 53. Breezy, with a west wind 20 to 22 mph, with gusts as high as 29 mph.  New precipitation amounts of less than a tenth of an inch possible. \" class=\"forecast-icon\" src=\"DualImage.php?i=nwind_bkn&amp;j=nshra&amp;jp=20\" title=\"Tonight: A 20 percent chance of showers after midnight.  Mostly cloudy, with a low around 53. Breezy, with a west wind 20 to 22 mph, with gusts as high as 29 mph.  New precipitation amounts of less than a tenth of an inch possible. \"/>\n",
      " </p>\n",
      " <p class=\"short-desc\">\n",
      "  Breezy.\n",
      "  <br>\n",
      "   Mostly Cloudy\n",
      "   <br>\n",
      "    then Slight\n",
      "    <br>\n",
      "     Chance\n",
      "     <br>\n",
      "      Showers\n",
      "     </br>\n",
      "    </br>\n",
      "   </br>\n",
      "  </br>\n",
      " </p>\n",
      " <p class=\"temp temp-low\">\n",
      "  Low: 53 °F\n",
      " </p>\n",
      "</div>\n"
     ]
    }
   ],
   "source": [
    "page = requests.get(\"http://forecast.weather.gov/MapClick.php?lat=37.7772&lon=-122.4168\")\n",
    "soup = BeautifulSoup(page.content, 'html.parser')\n",
    "seven_day = soup.find(id=\"seven-day-forecast\")\n",
    "forecast_items = seven_day.find_all(class_=\"tombstone-container\")\n",
    "tonight = forecast_items[0]\n",
    "print(tonight.prettify())"
   ]
  },
  {
   "cell_type": "code",
   "execution_count": 22,
   "metadata": {
    "collapsed": false
   },
   "outputs": [
    {
     "name": "stdout",
     "output_type": "stream",
     "text": [
      "Tonight: A 20 percent chance of showers after midnight.  Mostly cloudy, with a low around 53. Breezy, with a west wind 20 to 22 mph, with gusts as high as 29 mph.  New precipitation amounts of less than a tenth of an inch possible. \n"
     ]
    }
   ],
   "source": [
    "img = tonight.find(\"img\")\n",
    "desc = img['title']\n",
    "print(desc)"
   ]
  },
  {
   "cell_type": "markdown",
   "metadata": {},
   "source": [
    "# Extracting all information from the page"
   ]
  },
  {
   "cell_type": "code",
   "execution_count": null,
   "metadata": {
    "collapsed": true
   },
   "outputs": [],
   "source": []
  },
  {
   "cell_type": "code",
   "execution_count": 24,
   "metadata": {
    "collapsed": false
   },
   "outputs": [
    {
     "data": {
      "text/plain": [
       "['Tonight',\n",
       " 'Wednesday',\n",
       " 'WednesdayNight',\n",
       " 'Thursday',\n",
       " 'ThursdayNight',\n",
       " 'Friday',\n",
       " 'FridayNight',\n",
       " 'Saturday',\n",
       " 'SaturdayNight']"
      ]
     },
     "execution_count": 24,
     "metadata": {},
     "output_type": "execute_result"
    }
   ],
   "source": [
    "period_tags = seven_day.select(\".tombstone-container .period-name\")\n",
    "periods = [pt.get_text() for pt in period_tags]\n",
    "periods"
   ]
  },
  {
   "cell_type": "code",
   "execution_count": 37,
   "metadata": {
    "collapsed": false
   },
   "outputs": [
    {
     "name": "stdout",
     "output_type": "stream",
     "text": [
      "['Breezy.Mostly Cloudythen SlightChanceShowers', 'Slight ChanceShowers thenPartly Sunnyand Breezy', 'Partly Cloudyand Breezythen PatchyFog', 'Patchy Fogthen MostlySunny', 'Mostly Clearand Breezythen PatchyFog', 'Patchy Fogthen MostlySunny', 'Mostly Clearthen PatchyFog', 'Patchy Fogthen MostlySunny', 'Partly Cloudythen PatchyFog']\n",
      "['Low: 53 °F', 'High: 68 °F', 'Low: 54 °F', 'High: 69 °F', 'Low: 53 °F', 'High: 73 °F', 'Low: 53 °F', 'High: 70 °F', 'Low: 52 °F']\n",
      "['Tonight: A 20 percent chance of showers after midnight.  Mostly cloudy, with a low around 53. Breezy, with a west wind 20 to 22 mph, with gusts as high as 29 mph.  New precipitation amounts of less than a tenth of an inch possible. ', 'Wednesday: A 20 percent chance of showers before noon.  Partly sunny, with a high near 68. Breezy, with a west wind 17 to 23 mph, with gusts as high as 30 mph.  New precipitation amounts of less than a tenth of an inch possible. ', 'Wednesday Night: Patchy fog after midnight.  Otherwise, mostly cloudy, with a low around 54. Breezy, with a west wind 14 to 23 mph, with gusts as high as 30 mph. ', 'Thursday: Patchy fog before noon.  Otherwise, partly sunny, with a high near 69. West wind 14 to 18 mph, with gusts as high as 24 mph. ', 'Thursday Night: Patchy fog after midnight.  Otherwise, partly cloudy, with a low around 53. Breezy, with a west wind 17 to 22 mph, with gusts as high as 29 mph. ', 'Friday: Patchy fog before noon.  Otherwise, mostly sunny, with a high near 73.', 'Friday Night: Patchy fog after midnight.  Otherwise, partly cloudy, with a low around 53.', 'Saturday: Patchy fog before noon.  Otherwise, partly sunny, with a high near 70.', 'Saturday Night: Patchy fog after midnight.  Otherwise, partly cloudy, with a low around 52.']\n"
     ]
    }
   ],
   "source": [
    "short_descs = [sd.get_text() for sd in seven_day.select(\".tombstone-container .short-desc\")]\n",
    "temps = [t.get_text() for t in seven_day.select(\".tombstone-container .temp\")]\n",
    "descs = [d[\"title\"] for d in seven_day.select(\".tombstone-container img\")]\n",
    "print(short_descs)\n",
    "print(temps)\n",
    "print(descs)"
   ]
  },
  {
   "cell_type": "markdown",
   "metadata": {},
   "source": [
    "# Combinig our data into Pandas DataFrame"
   ]
  },
  {
   "cell_type": "code",
   "execution_count": 38,
   "metadata": {
    "collapsed": false
   },
   "outputs": [
    {
     "data": {
      "text/html": [
       "<div>\n",
       "<table border=\"1\" class=\"dataframe\">\n",
       "  <thead>\n",
       "    <tr style=\"text-align: right;\">\n",
       "      <th></th>\n",
       "      <th>desc</th>\n",
       "      <th>period</th>\n",
       "      <th>short_desc</th>\n",
       "      <th>temp</th>\n",
       "    </tr>\n",
       "  </thead>\n",
       "  <tbody>\n",
       "    <tr>\n",
       "      <th>0</th>\n",
       "      <td>Tonight: A 20 percent chance of showers after ...</td>\n",
       "      <td>Tonight</td>\n",
       "      <td>Breezy.Mostly Cloudythen SlightChanceShowers</td>\n",
       "      <td>Low: 53 °F</td>\n",
       "    </tr>\n",
       "    <tr>\n",
       "      <th>1</th>\n",
       "      <td>Wednesday: A 20 percent chance of showers befo...</td>\n",
       "      <td>Wednesday</td>\n",
       "      <td>Slight ChanceShowers thenPartly Sunnyand Breezy</td>\n",
       "      <td>High: 68 °F</td>\n",
       "    </tr>\n",
       "    <tr>\n",
       "      <th>2</th>\n",
       "      <td>Wednesday Night: Patchy fog after midnight.  O...</td>\n",
       "      <td>WednesdayNight</td>\n",
       "      <td>Partly Cloudyand Breezythen PatchyFog</td>\n",
       "      <td>Low: 54 °F</td>\n",
       "    </tr>\n",
       "    <tr>\n",
       "      <th>3</th>\n",
       "      <td>Thursday: Patchy fog before noon.  Otherwise, ...</td>\n",
       "      <td>Thursday</td>\n",
       "      <td>Patchy Fogthen MostlySunny</td>\n",
       "      <td>High: 69 °F</td>\n",
       "    </tr>\n",
       "    <tr>\n",
       "      <th>4</th>\n",
       "      <td>Thursday Night: Patchy fog after midnight.  Ot...</td>\n",
       "      <td>ThursdayNight</td>\n",
       "      <td>Mostly Clearand Breezythen PatchyFog</td>\n",
       "      <td>Low: 53 °F</td>\n",
       "    </tr>\n",
       "    <tr>\n",
       "      <th>5</th>\n",
       "      <td>Friday: Patchy fog before noon.  Otherwise, mo...</td>\n",
       "      <td>Friday</td>\n",
       "      <td>Patchy Fogthen MostlySunny</td>\n",
       "      <td>High: 73 °F</td>\n",
       "    </tr>\n",
       "    <tr>\n",
       "      <th>6</th>\n",
       "      <td>Friday Night: Patchy fog after midnight.  Othe...</td>\n",
       "      <td>FridayNight</td>\n",
       "      <td>Mostly Clearthen PatchyFog</td>\n",
       "      <td>Low: 53 °F</td>\n",
       "    </tr>\n",
       "    <tr>\n",
       "      <th>7</th>\n",
       "      <td>Saturday: Patchy fog before noon.  Otherwise, ...</td>\n",
       "      <td>Saturday</td>\n",
       "      <td>Patchy Fogthen MostlySunny</td>\n",
       "      <td>High: 70 °F</td>\n",
       "    </tr>\n",
       "    <tr>\n",
       "      <th>8</th>\n",
       "      <td>Saturday Night: Patchy fog after midnight.  Ot...</td>\n",
       "      <td>SaturdayNight</td>\n",
       "      <td>Partly Cloudythen PatchyFog</td>\n",
       "      <td>Low: 52 °F</td>\n",
       "    </tr>\n",
       "  </tbody>\n",
       "</table>\n",
       "</div>"
      ],
      "text/plain": [
       "                                                desc          period  \\\n",
       "0  Tonight: A 20 percent chance of showers after ...         Tonight   \n",
       "1  Wednesday: A 20 percent chance of showers befo...       Wednesday   \n",
       "2  Wednesday Night: Patchy fog after midnight.  O...  WednesdayNight   \n",
       "3  Thursday: Patchy fog before noon.  Otherwise, ...        Thursday   \n",
       "4  Thursday Night: Patchy fog after midnight.  Ot...   ThursdayNight   \n",
       "5  Friday: Patchy fog before noon.  Otherwise, mo...          Friday   \n",
       "6  Friday Night: Patchy fog after midnight.  Othe...     FridayNight   \n",
       "7  Saturday: Patchy fog before noon.  Otherwise, ...        Saturday   \n",
       "8  Saturday Night: Patchy fog after midnight.  Ot...   SaturdayNight   \n",
       "\n",
       "                                        short_desc         temp  \n",
       "0     Breezy.Mostly Cloudythen SlightChanceShowers   Low: 53 °F  \n",
       "1  Slight ChanceShowers thenPartly Sunnyand Breezy  High: 68 °F  \n",
       "2            Partly Cloudyand Breezythen PatchyFog   Low: 54 °F  \n",
       "3                       Patchy Fogthen MostlySunny  High: 69 °F  \n",
       "4             Mostly Clearand Breezythen PatchyFog   Low: 53 °F  \n",
       "5                       Patchy Fogthen MostlySunny  High: 73 °F  \n",
       "6                       Mostly Clearthen PatchyFog   Low: 53 °F  \n",
       "7                       Patchy Fogthen MostlySunny  High: 70 °F  \n",
       "8                      Partly Cloudythen PatchyFog   Low: 52 °F  "
      ]
     },
     "execution_count": 38,
     "metadata": {},
     "output_type": "execute_result"
    }
   ],
   "source": [
    "import pandas as pd\n",
    "from pandas import Series, DataFrame\n",
    "import numpy as np\n",
    "\n",
    "weather = pd.DataFrame({\"period\": periods,\"short_desc\": short_descs,\"temp\": temps,\"desc\": descs})\n",
    "weather"
   ]
  },
  {
   "cell_type": "code",
   "execution_count": null,
   "metadata": {
    "collapsed": true
   },
   "outputs": [],
   "source": []
  },
  {
   "cell_type": "code",
   "execution_count": null,
   "metadata": {
    "collapsed": true
   },
   "outputs": [],
   "source": []
  }
 ],
 "metadata": {
  "kernelspec": {
   "display_name": "Python 3",
   "language": "python",
   "name": "python3"
  },
  "language_info": {
   "codemirror_mode": {
    "name": "ipython",
    "version": 3
   },
   "file_extension": ".py",
   "mimetype": "text/x-python",
   "name": "python",
   "nbconvert_exporter": "python",
   "pygments_lexer": "ipython3",
   "version": "3.6.0"
  }
 },
 "nbformat": 4,
 "nbformat_minor": 0
}
