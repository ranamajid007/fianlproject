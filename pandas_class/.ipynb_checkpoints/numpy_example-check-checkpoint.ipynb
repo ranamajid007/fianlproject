{
 "cells": [
  {
   "cell_type": "code",
   "execution_count": 1,
   "metadata": {
    "collapsed": true
   },
   "outputs": [],
   "source": [
    "import numpy as np"
   ]
  },
  {
   "cell_type": "code",
   "execution_count": 7,
   "metadata": {
    "collapsed": true
   },
   "outputs": [],
   "source": [
    "arr2 = ([1,2,3],[4,5,6])"
   ]
  },
  {
   "cell_type": "code",
   "execution_count": 8,
   "metadata": {
    "collapsed": true
   },
   "outputs": [],
   "source": [
    "import numpy as np"
   ]
  },
  {
   "cell_type": "code",
   "execution_count": 9,
   "metadata": {
    "collapsed": false
   },
   "outputs": [
    {
     "data": {
      "text/plain": [
       "([1, 2, 3], [4, 5, 6])"
      ]
     },
     "execution_count": 9,
     "metadata": {},
     "output_type": "execute_result"
    }
   ],
   "source": [
    "arr2"
   ]
  },
  {
   "cell_type": "code",
   "execution_count": 10,
   "metadata": {
    "collapsed": false
   },
   "outputs": [
    {
     "ename": "ImportError",
     "evalue": "cannot import name 'DataFrama'",
     "output_type": "error",
     "traceback": [
      "\u001b[0;31m---------------------------------------------------------------------------\u001b[0m",
      "\u001b[0;31mImportError\u001b[0m                               Traceback (most recent call last)",
      "\u001b[0;32m<ipython-input-10-d10db4e5ce2d>\u001b[0m in \u001b[0;36m<module>\u001b[0;34m()\u001b[0m\n\u001b[0;32m----> 1\u001b[0;31m \u001b[1;32mfrom\u001b[0m \u001b[0mpandas\u001b[0m \u001b[1;32mimport\u001b[0m \u001b[0mSeries\u001b[0m\u001b[1;33m,\u001b[0m \u001b[0mDataFrama\u001b[0m\u001b[1;33m\u001b[0m\u001b[0m\n\u001b[0m",
      "\u001b[0;31mImportError\u001b[0m: cannot import name 'DataFrama'"
     ]
    }
   ],
   "source": [
    "# from pandas import Series, DataFrama"
   ]
  },
  {
   "cell_type": "code",
   "execution_count": 11,
   "metadata": {
    "collapsed": true
   },
   "outputs": [],
   "source": [
    "from pandas import Series, DataFrame #library for data"
   ]
  },
  {
   "cell_type": "code",
   "execution_count": 12,
   "metadata": {
    "collapsed": true
   },
   "outputs": [],
   "source": [
    "import pandas as pd"
   ]
  },
  {
   "cell_type": "code",
   "execution_count": 13,
   "metadata": {
    "collapsed": true
   },
   "outputs": [],
   "source": [
    "import numpy as np"
   ]
  },
  {
   "cell_type": "code",
   "execution_count": 14,
   "metadata": {
    "collapsed": true
   },
   "outputs": [],
   "source": [
    "obj = Series ([4,7,-5,3])"
   ]
  },
  {
   "cell_type": "code",
   "execution_count": 15,
   "metadata": {
    "collapsed": false
   },
   "outputs": [
    {
     "data": {
      "text/plain": [
       "array([ 4,  7, -5,  3], dtype=int64)"
      ]
     },
     "execution_count": 15,
     "metadata": {},
     "output_type": "execute_result"
    }
   ],
   "source": [
    "obj.values"
   ]
  },
  {
   "cell_type": "code",
   "execution_count": 16,
   "metadata": {
    "collapsed": false
   },
   "outputs": [
    {
     "data": {
      "text/plain": [
       "RangeIndex(start=0, stop=4, step=1)"
      ]
     },
     "execution_count": 16,
     "metadata": {},
     "output_type": "execute_result"
    }
   ],
   "source": [
    "obj.index"
   ]
  },
  {
   "cell_type": "code",
   "execution_count": 17,
   "metadata": {
    "collapsed": true
   },
   "outputs": [],
   "source": [
    "obj2 = Series([4,7,-5,3], index = ['d','b','a','c']) #in series, we can create our"
   ]
  },
  {
   "cell_type": "code",
   "execution_count": 18,
   "metadata": {
    "collapsed": false
   },
   "outputs": [
    {
     "data": {
      "text/plain": [
       "d    4\n",
       "b    7\n",
       "a   -5\n",
       "c    3\n",
       "dtype: int64"
      ]
     },
     "execution_count": 18,
     "metadata": {},
     "output_type": "execute_result"
    }
   ],
   "source": [
    "obj2"
   ]
  },
  {
   "cell_type": "code",
   "execution_count": 19,
   "metadata": {
    "collapsed": false
   },
   "outputs": [
    {
     "data": {
      "text/plain": [
       "Index(['d', 'b', 'a', 'c'], dtype='object')"
      ]
     },
     "execution_count": 19,
     "metadata": {},
     "output_type": "execute_result"
    }
   ],
   "source": [
    "obj2.index"
   ]
  },
  {
   "cell_type": "code",
   "execution_count": 20,
   "metadata": {
    "collapsed": false
   },
   "outputs": [
    {
     "data": {
      "text/plain": [
       "4"
      ]
     },
     "execution_count": 20,
     "metadata": {},
     "output_type": "execute_result"
    }
   ],
   "source": [
    "obj2[0]"
   ]
  },
  {
   "cell_type": "code",
   "execution_count": 21,
   "metadata": {
    "collapsed": false
   },
   "outputs": [
    {
     "data": {
      "text/plain": [
       "4"
      ]
     },
     "execution_count": 21,
     "metadata": {},
     "output_type": "execute_result"
    }
   ],
   "source": [
    "obj2['d'] #value 4 at index d which is also same as index 0"
   ]
  },
  {
   "cell_type": "code",
   "execution_count": 22,
   "metadata": {
    "collapsed": true
   },
   "outputs": [],
   "source": [
    "obj2['d'] = 6"
   ]
  },
  {
   "cell_type": "code",
   "execution_count": 23,
   "metadata": {
    "collapsed": false
   },
   "outputs": [
    {
     "data": {
      "text/plain": [
       "d    6\n",
       "b    7\n",
       "a   -5\n",
       "c    3\n",
       "dtype: int64"
      ]
     },
     "execution_count": 23,
     "metadata": {},
     "output_type": "execute_result"
    }
   ],
   "source": [
    "obj2"
   ]
  },
  {
   "cell_type": "code",
   "execution_count": 24,
   "metadata": {
    "collapsed": false
   },
   "outputs": [
    {
     "ename": "SyntaxError",
     "evalue": "invalid syntax (<ipython-input-24-9f8fa0b8dbce>, line 1)",
     "output_type": "error",
     "traceback": [
      "\u001b[0;36m  File \u001b[0;32m\"<ipython-input-24-9f8fa0b8dbce>\"\u001b[0;36m, line \u001b[0;32m1\u001b[0m\n\u001b[0;31m    obj2[['a','b,'c]]\u001b[0m\n\u001b[0m                  ^\u001b[0m\n\u001b[0;31mSyntaxError\u001b[0m\u001b[0;31m:\u001b[0m invalid syntax\n"
     ]
    }
   ],
   "source": [
    "obj2[['a','b,'c]]"
   ]
  },
  {
   "cell_type": "code",
   "execution_count": 25,
   "metadata": {
    "collapsed": false
   },
   "outputs": [
    {
     "ename": "SyntaxError",
     "evalue": "invalid syntax (<ipython-input-25-9f8fa0b8dbce>, line 1)",
     "output_type": "error",
     "traceback": [
      "\u001b[0;36m  File \u001b[0;32m\"<ipython-input-25-9f8fa0b8dbce>\"\u001b[0;36m, line \u001b[0;32m1\u001b[0m\n\u001b[0;31m    obj2[['a','b,'c]]\u001b[0m\n\u001b[0m                  ^\u001b[0m\n\u001b[0;31mSyntaxError\u001b[0m\u001b[0;31m:\u001b[0m invalid syntax\n"
     ]
    }
   ],
   "source": [
    "obj2[['a','b,'c]]"
   ]
  },
  {
   "cell_type": "code",
   "execution_count": 26,
   "metadata": {
    "collapsed": false
   },
   "outputs": [
    {
     "data": {
      "text/plain": [
       "a   -5\n",
       "b    7\n",
       "c    3\n",
       "dtype: int64"
      ]
     },
     "execution_count": 26,
     "metadata": {},
     "output_type": "execute_result"
    }
   ],
   "source": [
    "obj2[['a','b','c']]"
   ]
  },
  {
   "cell_type": "code",
   "execution_count": 27,
   "metadata": {
    "collapsed": false
   },
   "outputs": [
    {
     "data": {
      "text/plain": [
       "d    12\n",
       "b    14\n",
       "a   -10\n",
       "c     6\n",
       "dtype: int64"
      ]
     },
     "execution_count": 27,
     "metadata": {},
     "output_type": "execute_result"
    }
   ],
   "source": [
    "obj2 * 2"
   ]
  },
  {
   "cell_type": "code",
   "execution_count": 28,
   "metadata": {
    "collapsed": false
   },
   "outputs": [
    {
     "data": {
      "text/plain": [
       "d    6\n",
       "b    7\n",
       "c    3\n",
       "dtype: int64"
      ]
     },
     "execution_count": 28,
     "metadata": {},
     "output_type": "execute_result"
    }
   ],
   "source": [
    "obj2[obj2>0]"
   ]
  },
  {
   "cell_type": "code",
   "execution_count": 29,
   "metadata": {
    "collapsed": false
   },
   "outputs": [
    {
     "data": {
      "text/plain": [
       "0      54.598150\n",
       "1    1096.633158\n",
       "2       0.006738\n",
       "3      20.085537\n",
       "dtype: float64"
      ]
     },
     "execution_count": 29,
     "metadata": {},
     "output_type": "execute_result"
    }
   ],
   "source": [
    "np.exp(obj)"
   ]
  },
  {
   "cell_type": "code",
   "execution_count": 30,
   "metadata": {
    "collapsed": false
   },
   "outputs": [
    {
     "data": {
      "text/plain": [
       "True"
      ]
     },
     "execution_count": 30,
     "metadata": {},
     "output_type": "execute_result"
    }
   ],
   "source": [
    "'b' in obj2"
   ]
  },
  {
   "cell_type": "code",
   "execution_count": 31,
   "metadata": {
    "collapsed": false
   },
   "outputs": [
    {
     "data": {
      "text/plain": [
       "False"
      ]
     },
     "execution_count": 31,
     "metadata": {},
     "output_type": "execute_result"
    }
   ],
   "source": [
    "'e' in obj2"
   ]
  },
  {
   "cell_type": "code",
   "execution_count": 32,
   "metadata": {
    "collapsed": true
   },
   "outputs": [],
   "source": [
    "sdata = {'Seoul': 12000, 'Busan': 5000, 'Gwangju': 3000,'Daegu':1500} # its a dictionary"
   ]
  },
  {
   "cell_type": "code",
   "execution_count": 33,
   "metadata": {
    "collapsed": false
   },
   "outputs": [
    {
     "data": {
      "text/plain": [
       "{'Busan': 5000, 'Daegu': 1500, 'Gwangju': 3000, 'Seoul': 12000}"
      ]
     },
     "execution_count": 33,
     "metadata": {},
     "output_type": "execute_result"
    }
   ],
   "source": [
    "sdata #output is a dictionary"
   ]
  },
  {
   "cell_type": "code",
   "execution_count": 34,
   "metadata": {
    "collapsed": true
   },
   "outputs": [],
   "source": [
    "obj3 = Series(sdata) #making dictionary as Series."
   ]
  },
  {
   "cell_type": "code",
   "execution_count": 35,
   "metadata": {
    "collapsed": false
   },
   "outputs": [
    {
     "data": {
      "text/plain": [
       "Busan       5000\n",
       "Daegu       1500\n",
       "Gwangju     3000\n",
       "Seoul      12000\n",
       "dtype: int64"
      ]
     },
     "execution_count": 35,
     "metadata": {},
     "output_type": "execute_result"
    }
   ],
   "source": [
    "obj3"
   ]
  },
  {
   "cell_type": "code",
   "execution_count": 36,
   "metadata": {
    "collapsed": false
   },
   "outputs": [
    {
     "data": {
      "text/plain": [
       "5000"
      ]
     },
     "execution_count": 36,
     "metadata": {},
     "output_type": "execute_result"
    }
   ],
   "source": [
    "obj3[0]"
   ]
  },
  {
   "cell_type": "code",
   "execution_count": 37,
   "metadata": {
    "collapsed": true
   },
   "outputs": [],
   "source": [
    "cities = ['Seoul','Busan', 'Gwangju','Daegu']"
   ]
  },
  {
   "cell_type": "code",
   "execution_count": 38,
   "metadata": {
    "collapsed": true
   },
   "outputs": [],
   "source": [
    "obj4 = Series(sdata, index = cities) #making obj4 according to cities index"
   ]
  },
  {
   "cell_type": "code",
   "execution_count": 39,
   "metadata": {
    "collapsed": false
   },
   "outputs": [
    {
     "data": {
      "text/plain": [
       "Seoul      12000\n",
       "Busan       5000\n",
       "Gwangju     3000\n",
       "Daegu       1500\n",
       "dtype: int64"
      ]
     },
     "execution_count": 39,
     "metadata": {},
     "output_type": "execute_result"
    }
   ],
   "source": [
    "obj4"
   ]
  },
  {
   "cell_type": "code",
   "execution_count": 40,
   "metadata": {
    "collapsed": true
   },
   "outputs": [],
   "source": [
    "cities = ['Seoul','Busan', 'Gwangju','Daegu', 'Daejon']"
   ]
  },
  {
   "cell_type": "code",
   "execution_count": 41,
   "metadata": {
    "collapsed": true
   },
   "outputs": [],
   "source": [
    "obj4 = Series(sdata, index = cities)"
   ]
  },
  {
   "cell_type": "code",
   "execution_count": 42,
   "metadata": {
    "collapsed": false
   },
   "outputs": [
    {
     "data": {
      "text/plain": [
       "Seoul      12000.0\n",
       "Busan       5000.0\n",
       "Gwangju     3000.0\n",
       "Daegu       1500.0\n",
       "Daejon         NaN\n",
       "dtype: float64"
      ]
     },
     "execution_count": 42,
     "metadata": {},
     "output_type": "execute_result"
    }
   ],
   "source": [
    "obj4"
   ]
  },
  {
   "cell_type": "code",
   "execution_count": 43,
   "metadata": {
    "collapsed": false
   },
   "outputs": [
    {
     "data": {
      "text/plain": [
       "Seoul      False\n",
       "Busan      False\n",
       "Gwangju    False\n",
       "Daegu      False\n",
       "Daejon      True\n",
       "dtype: bool"
      ]
     },
     "execution_count": 43,
     "metadata": {},
     "output_type": "execute_result"
    }
   ],
   "source": [
    "pd.isnull(obj4)"
   ]
  },
  {
   "cell_type": "code",
   "execution_count": 44,
   "metadata": {
    "collapsed": false
   },
   "outputs": [
    {
     "data": {
      "text/plain": [
       "Seoul      False\n",
       "Busan      False\n",
       "Gwangju    False\n",
       "Daegu      False\n",
       "Daejon      True\n",
       "dtype: bool"
      ]
     },
     "execution_count": 44,
     "metadata": {},
     "output_type": "execute_result"
    }
   ],
   "source": [
    "obj4.isnull()"
   ]
  },
  {
   "cell_type": "code",
   "execution_count": 45,
   "metadata": {
    "collapsed": true
   },
   "outputs": [],
   "source": [
    "obj4.name = 'population'"
   ]
  },
  {
   "cell_type": "code",
   "execution_count": 46,
   "metadata": {
    "collapsed": true
   },
   "outputs": [],
   "source": [
    "obj4.index.name = 'cities'"
   ]
  },
  {
   "cell_type": "code",
   "execution_count": null,
   "metadata": {
    "collapsed": false
   },
   "outputs": [],
   "source": []
  },
  {
   "cell_type": "code",
   "execution_count": 47,
   "metadata": {
    "collapsed": false
   },
   "outputs": [
    {
     "data": {
      "text/plain": [
       "cities\n",
       "Seoul      12000.0\n",
       "Busan       5000.0\n",
       "Gwangju     3000.0\n",
       "Daegu       1500.0\n",
       "Daejon         NaN\n",
       "Name: population, dtype: float64"
      ]
     },
     "execution_count": 47,
     "metadata": {},
     "output_type": "execute_result"
    }
   ],
   "source": [
    "obj4"
   ]
  },
  {
   "cell_type": "markdown",
   "metadata": {},
   "source": [
    "# Data Frame"
   ]
  },
  {
   "cell_type": "code",
   "execution_count": 48,
   "metadata": {
    "collapsed": true
   },
   "outputs": [],
   "source": [
    "data = {'cities': ['Seoul','Seoul','Seoul','Busan','Busan'],\n",
    "        'year': [2000,2001,2002,2001,2002],\n",
    "        'pop': [8,8.2,8.4,3,3.2]}"
   ]
  },
  {
   "cell_type": "code",
   "execution_count": 49,
   "metadata": {
    "collapsed": true
   },
   "outputs": [],
   "source": [
    "frame = DataFrame (data) #dataframe is colletion of series, one columns is one series,"
   ]
  },
  {
   "cell_type": "code",
   "execution_count": 50,
   "metadata": {
    "collapsed": false
   },
   "outputs": [
    {
     "data": {
      "text/html": [
       "<div>\n",
       "<table border=\"1\" class=\"dataframe\">\n",
       "  <thead>\n",
       "    <tr style=\"text-align: right;\">\n",
       "      <th></th>\n",
       "      <th>cities</th>\n",
       "      <th>pop</th>\n",
       "      <th>year</th>\n",
       "    </tr>\n",
       "  </thead>\n",
       "  <tbody>\n",
       "    <tr>\n",
       "      <th>0</th>\n",
       "      <td>Seoul</td>\n",
       "      <td>8.0</td>\n",
       "      <td>2000</td>\n",
       "    </tr>\n",
       "    <tr>\n",
       "      <th>1</th>\n",
       "      <td>Seoul</td>\n",
       "      <td>8.2</td>\n",
       "      <td>2001</td>\n",
       "    </tr>\n",
       "    <tr>\n",
       "      <th>2</th>\n",
       "      <td>Seoul</td>\n",
       "      <td>8.4</td>\n",
       "      <td>2002</td>\n",
       "    </tr>\n",
       "    <tr>\n",
       "      <th>3</th>\n",
       "      <td>Busan</td>\n",
       "      <td>3.0</td>\n",
       "      <td>2001</td>\n",
       "    </tr>\n",
       "    <tr>\n",
       "      <th>4</th>\n",
       "      <td>Busan</td>\n",
       "      <td>3.2</td>\n",
       "      <td>2002</td>\n",
       "    </tr>\n",
       "  </tbody>\n",
       "</table>\n",
       "</div>"
      ],
      "text/plain": [
       "  cities  pop  year\n",
       "0  Seoul  8.0  2000\n",
       "1  Seoul  8.2  2001\n",
       "2  Seoul  8.4  2002\n",
       "3  Busan  3.0  2001\n",
       "4  Busan  3.2  2002"
      ]
     },
     "execution_count": 50,
     "metadata": {},
     "output_type": "execute_result"
    }
   ],
   "source": [
    "frame"
   ]
  },
  {
   "cell_type": "code",
   "execution_count": 51,
   "metadata": {
    "collapsed": false
   },
   "outputs": [
    {
     "data": {
      "text/html": [
       "<div>\n",
       "<table border=\"1\" class=\"dataframe\">\n",
       "  <thead>\n",
       "    <tr style=\"text-align: right;\">\n",
       "      <th></th>\n",
       "      <th>year</th>\n",
       "      <th>cities</th>\n",
       "      <th>pop</th>\n",
       "    </tr>\n",
       "  </thead>\n",
       "  <tbody>\n",
       "    <tr>\n",
       "      <th>0</th>\n",
       "      <td>2000</td>\n",
       "      <td>Seoul</td>\n",
       "      <td>8.0</td>\n",
       "    </tr>\n",
       "    <tr>\n",
       "      <th>1</th>\n",
       "      <td>2001</td>\n",
       "      <td>Seoul</td>\n",
       "      <td>8.2</td>\n",
       "    </tr>\n",
       "    <tr>\n",
       "      <th>2</th>\n",
       "      <td>2002</td>\n",
       "      <td>Seoul</td>\n",
       "      <td>8.4</td>\n",
       "    </tr>\n",
       "    <tr>\n",
       "      <th>3</th>\n",
       "      <td>2001</td>\n",
       "      <td>Busan</td>\n",
       "      <td>3.0</td>\n",
       "    </tr>\n",
       "    <tr>\n",
       "      <th>4</th>\n",
       "      <td>2002</td>\n",
       "      <td>Busan</td>\n",
       "      <td>3.2</td>\n",
       "    </tr>\n",
       "  </tbody>\n",
       "</table>\n",
       "</div>"
      ],
      "text/plain": [
       "   year cities  pop\n",
       "0  2000  Seoul  8.0\n",
       "1  2001  Seoul  8.2\n",
       "2  2002  Seoul  8.4\n",
       "3  2001  Busan  3.0\n",
       "4  2002  Busan  3.2"
      ]
     },
     "execution_count": 51,
     "metadata": {},
     "output_type": "execute_result"
    }
   ],
   "source": [
    "DataFrame(data, columns = ['year', 'cities','pop'])"
   ]
  },
  {
   "cell_type": "code",
   "execution_count": 53,
   "metadata": {
    "collapsed": true
   },
   "outputs": [],
   "source": [
    "frame2 = DataFrame(data, columns = ['year','cities','pop','debt'],\n",
    "                  index = ['one','two','three','found','fiver'])"
   ]
  },
  {
   "cell_type": "code",
   "execution_count": 54,
   "metadata": {
    "collapsed": false
   },
   "outputs": [
    {
     "data": {
      "text/html": [
       "<div>\n",
       "<table border=\"1\" class=\"dataframe\">\n",
       "  <thead>\n",
       "    <tr style=\"text-align: right;\">\n",
       "      <th></th>\n",
       "      <th>year</th>\n",
       "      <th>cities</th>\n",
       "      <th>pop</th>\n",
       "      <th>debt</th>\n",
       "    </tr>\n",
       "  </thead>\n",
       "  <tbody>\n",
       "    <tr>\n",
       "      <th>one</th>\n",
       "      <td>2000</td>\n",
       "      <td>Seoul</td>\n",
       "      <td>8.0</td>\n",
       "      <td>NaN</td>\n",
       "    </tr>\n",
       "    <tr>\n",
       "      <th>two</th>\n",
       "      <td>2001</td>\n",
       "      <td>Seoul</td>\n",
       "      <td>8.2</td>\n",
       "      <td>NaN</td>\n",
       "    </tr>\n",
       "    <tr>\n",
       "      <th>three</th>\n",
       "      <td>2002</td>\n",
       "      <td>Seoul</td>\n",
       "      <td>8.4</td>\n",
       "      <td>NaN</td>\n",
       "    </tr>\n",
       "    <tr>\n",
       "      <th>found</th>\n",
       "      <td>2001</td>\n",
       "      <td>Busan</td>\n",
       "      <td>3.0</td>\n",
       "      <td>NaN</td>\n",
       "    </tr>\n",
       "    <tr>\n",
       "      <th>fiver</th>\n",
       "      <td>2002</td>\n",
       "      <td>Busan</td>\n",
       "      <td>3.2</td>\n",
       "      <td>NaN</td>\n",
       "    </tr>\n",
       "  </tbody>\n",
       "</table>\n",
       "</div>"
      ],
      "text/plain": [
       "       year cities  pop debt\n",
       "one    2000  Seoul  8.0  NaN\n",
       "two    2001  Seoul  8.2  NaN\n",
       "three  2002  Seoul  8.4  NaN\n",
       "found  2001  Busan  3.0  NaN\n",
       "fiver  2002  Busan  3.2  NaN"
      ]
     },
     "execution_count": 54,
     "metadata": {},
     "output_type": "execute_result"
    }
   ],
   "source": [
    "frame2"
   ]
  },
  {
   "cell_type": "code",
   "execution_count": 55,
   "metadata": {
    "collapsed": false
   },
   "outputs": [
    {
     "data": {
      "text/plain": [
       "Index(['year', 'cities', 'pop', 'debt'], dtype='object')"
      ]
     },
     "execution_count": 55,
     "metadata": {},
     "output_type": "execute_result"
    }
   ],
   "source": [
    "frame2.columns"
   ]
  },
  {
   "cell_type": "code",
   "execution_count": 56,
   "metadata": {
    "collapsed": false
   },
   "outputs": [
    {
     "data": {
      "text/plain": [
       "one      Seoul\n",
       "two      Seoul\n",
       "three    Seoul\n",
       "found    Busan\n",
       "fiver    Busan\n",
       "Name: cities, dtype: object"
      ]
     },
     "execution_count": 56,
     "metadata": {},
     "output_type": "execute_result"
    }
   ],
   "source": [
    "frame2['cities']"
   ]
  },
  {
   "cell_type": "code",
   "execution_count": 57,
   "metadata": {
    "collapsed": false
   },
   "outputs": [
    {
     "data": {
      "text/plain": [
       "year       2002\n",
       "cities    Seoul\n",
       "pop         8.4\n",
       "debt        NaN\n",
       "Name: three, dtype: object"
      ]
     },
     "execution_count": 57,
     "metadata": {},
     "output_type": "execute_result"
    }
   ],
   "source": [
    "frame2.ix['three'] #in order to access data of one row"
   ]
  },
  {
   "cell_type": "code",
   "execution_count": 58,
   "metadata": {
    "collapsed": true
   },
   "outputs": [],
   "source": [
    "frame2['debt'] = 16.5"
   ]
  },
  {
   "cell_type": "code",
   "execution_count": 59,
   "metadata": {
    "collapsed": false
   },
   "outputs": [
    {
     "data": {
      "text/html": [
       "<div>\n",
       "<table border=\"1\" class=\"dataframe\">\n",
       "  <thead>\n",
       "    <tr style=\"text-align: right;\">\n",
       "      <th></th>\n",
       "      <th>year</th>\n",
       "      <th>cities</th>\n",
       "      <th>pop</th>\n",
       "      <th>debt</th>\n",
       "    </tr>\n",
       "  </thead>\n",
       "  <tbody>\n",
       "    <tr>\n",
       "      <th>one</th>\n",
       "      <td>2000</td>\n",
       "      <td>Seoul</td>\n",
       "      <td>8.0</td>\n",
       "      <td>16.5</td>\n",
       "    </tr>\n",
       "    <tr>\n",
       "      <th>two</th>\n",
       "      <td>2001</td>\n",
       "      <td>Seoul</td>\n",
       "      <td>8.2</td>\n",
       "      <td>16.5</td>\n",
       "    </tr>\n",
       "    <tr>\n",
       "      <th>three</th>\n",
       "      <td>2002</td>\n",
       "      <td>Seoul</td>\n",
       "      <td>8.4</td>\n",
       "      <td>16.5</td>\n",
       "    </tr>\n",
       "    <tr>\n",
       "      <th>found</th>\n",
       "      <td>2001</td>\n",
       "      <td>Busan</td>\n",
       "      <td>3.0</td>\n",
       "      <td>16.5</td>\n",
       "    </tr>\n",
       "    <tr>\n",
       "      <th>fiver</th>\n",
       "      <td>2002</td>\n",
       "      <td>Busan</td>\n",
       "      <td>3.2</td>\n",
       "      <td>16.5</td>\n",
       "    </tr>\n",
       "  </tbody>\n",
       "</table>\n",
       "</div>"
      ],
      "text/plain": [
       "       year cities  pop  debt\n",
       "one    2000  Seoul  8.0  16.5\n",
       "two    2001  Seoul  8.2  16.5\n",
       "three  2002  Seoul  8.4  16.5\n",
       "found  2001  Busan  3.0  16.5\n",
       "fiver  2002  Busan  3.2  16.5"
      ]
     },
     "execution_count": 59,
     "metadata": {},
     "output_type": "execute_result"
    }
   ],
   "source": [
    "frame2"
   ]
  },
  {
   "cell_type": "code",
   "execution_count": 61,
   "metadata": {
    "collapsed": true
   },
   "outputs": [],
   "source": [
    "frame2['debt'] = np.arange(5)"
   ]
  },
  {
   "cell_type": "code",
   "execution_count": 62,
   "metadata": {
    "collapsed": false
   },
   "outputs": [
    {
     "data": {
      "text/html": [
       "<div>\n",
       "<table border=\"1\" class=\"dataframe\">\n",
       "  <thead>\n",
       "    <tr style=\"text-align: right;\">\n",
       "      <th></th>\n",
       "      <th>year</th>\n",
       "      <th>cities</th>\n",
       "      <th>pop</th>\n",
       "      <th>debt</th>\n",
       "    </tr>\n",
       "  </thead>\n",
       "  <tbody>\n",
       "    <tr>\n",
       "      <th>one</th>\n",
       "      <td>2000</td>\n",
       "      <td>Seoul</td>\n",
       "      <td>8.0</td>\n",
       "      <td>0</td>\n",
       "    </tr>\n",
       "    <tr>\n",
       "      <th>two</th>\n",
       "      <td>2001</td>\n",
       "      <td>Seoul</td>\n",
       "      <td>8.2</td>\n",
       "      <td>1</td>\n",
       "    </tr>\n",
       "    <tr>\n",
       "      <th>three</th>\n",
       "      <td>2002</td>\n",
       "      <td>Seoul</td>\n",
       "      <td>8.4</td>\n",
       "      <td>2</td>\n",
       "    </tr>\n",
       "    <tr>\n",
       "      <th>found</th>\n",
       "      <td>2001</td>\n",
       "      <td>Busan</td>\n",
       "      <td>3.0</td>\n",
       "      <td>3</td>\n",
       "    </tr>\n",
       "    <tr>\n",
       "      <th>fiver</th>\n",
       "      <td>2002</td>\n",
       "      <td>Busan</td>\n",
       "      <td>3.2</td>\n",
       "      <td>4</td>\n",
       "    </tr>\n",
       "  </tbody>\n",
       "</table>\n",
       "</div>"
      ],
      "text/plain": [
       "       year cities  pop  debt\n",
       "one    2000  Seoul  8.0     0\n",
       "two    2001  Seoul  8.2     1\n",
       "three  2002  Seoul  8.4     2\n",
       "found  2001  Busan  3.0     3\n",
       "fiver  2002  Busan  3.2     4"
      ]
     },
     "execution_count": 62,
     "metadata": {},
     "output_type": "execute_result"
    }
   ],
   "source": [
    "frame2"
   ]
  },
  {
   "cell_type": "code",
   "execution_count": 64,
   "metadata": {
    "collapsed": true
   },
   "outputs": [],
   "source": [
    "val = Series([-1.2, -1.5,-1.7], index = ['two','found','fiver'])"
   ]
  },
  {
   "cell_type": "code",
   "execution_count": 66,
   "metadata": {
    "collapsed": true
   },
   "outputs": [],
   "source": [
    "frame2['debt'] = val"
   ]
  },
  {
   "cell_type": "code",
   "execution_count": 67,
   "metadata": {
    "collapsed": false
   },
   "outputs": [
    {
     "data": {
      "text/html": [
       "<div>\n",
       "<table border=\"1\" class=\"dataframe\">\n",
       "  <thead>\n",
       "    <tr style=\"text-align: right;\">\n",
       "      <th></th>\n",
       "      <th>year</th>\n",
       "      <th>cities</th>\n",
       "      <th>pop</th>\n",
       "      <th>debt</th>\n",
       "    </tr>\n",
       "  </thead>\n",
       "  <tbody>\n",
       "    <tr>\n",
       "      <th>one</th>\n",
       "      <td>2000</td>\n",
       "      <td>Seoul</td>\n",
       "      <td>8.0</td>\n",
       "      <td>NaN</td>\n",
       "    </tr>\n",
       "    <tr>\n",
       "      <th>two</th>\n",
       "      <td>2001</td>\n",
       "      <td>Seoul</td>\n",
       "      <td>8.2</td>\n",
       "      <td>-1.2</td>\n",
       "    </tr>\n",
       "    <tr>\n",
       "      <th>three</th>\n",
       "      <td>2002</td>\n",
       "      <td>Seoul</td>\n",
       "      <td>8.4</td>\n",
       "      <td>NaN</td>\n",
       "    </tr>\n",
       "    <tr>\n",
       "      <th>found</th>\n",
       "      <td>2001</td>\n",
       "      <td>Busan</td>\n",
       "      <td>3.0</td>\n",
       "      <td>-1.5</td>\n",
       "    </tr>\n",
       "    <tr>\n",
       "      <th>fiver</th>\n",
       "      <td>2002</td>\n",
       "      <td>Busan</td>\n",
       "      <td>3.2</td>\n",
       "      <td>-1.7</td>\n",
       "    </tr>\n",
       "  </tbody>\n",
       "</table>\n",
       "</div>"
      ],
      "text/plain": [
       "       year cities  pop  debt\n",
       "one    2000  Seoul  8.0   NaN\n",
       "two    2001  Seoul  8.2  -1.2\n",
       "three  2002  Seoul  8.4   NaN\n",
       "found  2001  Busan  3.0  -1.5\n",
       "fiver  2002  Busan  3.2  -1.7"
      ]
     },
     "execution_count": 67,
     "metadata": {},
     "output_type": "execute_result"
    }
   ],
   "source": [
    "frame2"
   ]
  },
  {
   "cell_type": "code",
   "execution_count": 68,
   "metadata": {
    "collapsed": true
   },
   "outputs": [],
   "source": [
    "frame2['eastern'] = frame2['cities'] == 'Seoul'"
   ]
  },
  {
   "cell_type": "code",
   "execution_count": 69,
   "metadata": {
    "collapsed": false
   },
   "outputs": [
    {
     "data": {
      "text/html": [
       "<div>\n",
       "<table border=\"1\" class=\"dataframe\">\n",
       "  <thead>\n",
       "    <tr style=\"text-align: right;\">\n",
       "      <th></th>\n",
       "      <th>year</th>\n",
       "      <th>cities</th>\n",
       "      <th>pop</th>\n",
       "      <th>debt</th>\n",
       "      <th>eastern</th>\n",
       "    </tr>\n",
       "  </thead>\n",
       "  <tbody>\n",
       "    <tr>\n",
       "      <th>one</th>\n",
       "      <td>2000</td>\n",
       "      <td>Seoul</td>\n",
       "      <td>8.0</td>\n",
       "      <td>NaN</td>\n",
       "      <td>True</td>\n",
       "    </tr>\n",
       "    <tr>\n",
       "      <th>two</th>\n",
       "      <td>2001</td>\n",
       "      <td>Seoul</td>\n",
       "      <td>8.2</td>\n",
       "      <td>-1.2</td>\n",
       "      <td>True</td>\n",
       "    </tr>\n",
       "    <tr>\n",
       "      <th>three</th>\n",
       "      <td>2002</td>\n",
       "      <td>Seoul</td>\n",
       "      <td>8.4</td>\n",
       "      <td>NaN</td>\n",
       "      <td>True</td>\n",
       "    </tr>\n",
       "    <tr>\n",
       "      <th>found</th>\n",
       "      <td>2001</td>\n",
       "      <td>Busan</td>\n",
       "      <td>3.0</td>\n",
       "      <td>-1.5</td>\n",
       "      <td>False</td>\n",
       "    </tr>\n",
       "    <tr>\n",
       "      <th>fiver</th>\n",
       "      <td>2002</td>\n",
       "      <td>Busan</td>\n",
       "      <td>3.2</td>\n",
       "      <td>-1.7</td>\n",
       "      <td>False</td>\n",
       "    </tr>\n",
       "  </tbody>\n",
       "</table>\n",
       "</div>"
      ],
      "text/plain": [
       "       year cities  pop  debt eastern\n",
       "one    2000  Seoul  8.0   NaN    True\n",
       "two    2001  Seoul  8.2  -1.2    True\n",
       "three  2002  Seoul  8.4   NaN    True\n",
       "found  2001  Busan  3.0  -1.5   False\n",
       "fiver  2002  Busan  3.2  -1.7   False"
      ]
     },
     "execution_count": 69,
     "metadata": {},
     "output_type": "execute_result"
    }
   ],
   "source": [
    "frame2"
   ]
  },
  {
   "cell_type": "code",
   "execution_count": 70,
   "metadata": {
    "collapsed": true
   },
   "outputs": [],
   "source": [
    "frame2 = DataFrame(data, columns = ['year','cities','pop','debt'],\n",
    "                  index = ['one','two','three','four','five'])"
   ]
  },
  {
   "cell_type": "code",
   "execution_count": 71,
   "metadata": {
    "collapsed": false
   },
   "outputs": [
    {
     "data": {
      "text/html": [
       "<div>\n",
       "<table border=\"1\" class=\"dataframe\">\n",
       "  <thead>\n",
       "    <tr style=\"text-align: right;\">\n",
       "      <th></th>\n",
       "      <th>year</th>\n",
       "      <th>cities</th>\n",
       "      <th>pop</th>\n",
       "      <th>debt</th>\n",
       "    </tr>\n",
       "  </thead>\n",
       "  <tbody>\n",
       "    <tr>\n",
       "      <th>one</th>\n",
       "      <td>2000</td>\n",
       "      <td>Seoul</td>\n",
       "      <td>8.0</td>\n",
       "      <td>NaN</td>\n",
       "    </tr>\n",
       "    <tr>\n",
       "      <th>two</th>\n",
       "      <td>2001</td>\n",
       "      <td>Seoul</td>\n",
       "      <td>8.2</td>\n",
       "      <td>NaN</td>\n",
       "    </tr>\n",
       "    <tr>\n",
       "      <th>three</th>\n",
       "      <td>2002</td>\n",
       "      <td>Seoul</td>\n",
       "      <td>8.4</td>\n",
       "      <td>NaN</td>\n",
       "    </tr>\n",
       "    <tr>\n",
       "      <th>four</th>\n",
       "      <td>2001</td>\n",
       "      <td>Busan</td>\n",
       "      <td>3.0</td>\n",
       "      <td>NaN</td>\n",
       "    </tr>\n",
       "    <tr>\n",
       "      <th>five</th>\n",
       "      <td>2002</td>\n",
       "      <td>Busan</td>\n",
       "      <td>3.2</td>\n",
       "      <td>NaN</td>\n",
       "    </tr>\n",
       "  </tbody>\n",
       "</table>\n",
       "</div>"
      ],
      "text/plain": [
       "       year cities  pop debt\n",
       "one    2000  Seoul  8.0  NaN\n",
       "two    2001  Seoul  8.2  NaN\n",
       "three  2002  Seoul  8.4  NaN\n",
       "four   2001  Busan  3.0  NaN\n",
       "five   2002  Busan  3.2  NaN"
      ]
     },
     "execution_count": 71,
     "metadata": {},
     "output_type": "execute_result"
    }
   ],
   "source": [
    "frame2"
   ]
  },
  {
   "cell_type": "code",
   "execution_count": 72,
   "metadata": {
    "collapsed": true
   },
   "outputs": [],
   "source": [
    "val = Series([-1.2, -1.5,-1.7], index = ['two','found','fiver'])"
   ]
  },
  {
   "cell_type": "code",
   "execution_count": 73,
   "metadata": {
    "collapsed": true
   },
   "outputs": [],
   "source": [
    "frame2['debt'] = val"
   ]
  },
  {
   "cell_type": "code",
   "execution_count": 74,
   "metadata": {
    "collapsed": true
   },
   "outputs": [],
   "source": [
    "frame2['eastern'] = frame2['cities'] == 'Seoul'"
   ]
  },
  {
   "cell_type": "code",
   "execution_count": 75,
   "metadata": {
    "collapsed": false
   },
   "outputs": [
    {
     "data": {
      "text/html": [
       "<div>\n",
       "<table border=\"1\" class=\"dataframe\">\n",
       "  <thead>\n",
       "    <tr style=\"text-align: right;\">\n",
       "      <th></th>\n",
       "      <th>year</th>\n",
       "      <th>cities</th>\n",
       "      <th>pop</th>\n",
       "      <th>debt</th>\n",
       "      <th>eastern</th>\n",
       "    </tr>\n",
       "  </thead>\n",
       "  <tbody>\n",
       "    <tr>\n",
       "      <th>one</th>\n",
       "      <td>2000</td>\n",
       "      <td>Seoul</td>\n",
       "      <td>8.0</td>\n",
       "      <td>NaN</td>\n",
       "      <td>True</td>\n",
       "    </tr>\n",
       "    <tr>\n",
       "      <th>two</th>\n",
       "      <td>2001</td>\n",
       "      <td>Seoul</td>\n",
       "      <td>8.2</td>\n",
       "      <td>-1.2</td>\n",
       "      <td>True</td>\n",
       "    </tr>\n",
       "    <tr>\n",
       "      <th>three</th>\n",
       "      <td>2002</td>\n",
       "      <td>Seoul</td>\n",
       "      <td>8.4</td>\n",
       "      <td>NaN</td>\n",
       "      <td>True</td>\n",
       "    </tr>\n",
       "    <tr>\n",
       "      <th>four</th>\n",
       "      <td>2001</td>\n",
       "      <td>Busan</td>\n",
       "      <td>3.0</td>\n",
       "      <td>NaN</td>\n",
       "      <td>False</td>\n",
       "    </tr>\n",
       "    <tr>\n",
       "      <th>five</th>\n",
       "      <td>2002</td>\n",
       "      <td>Busan</td>\n",
       "      <td>3.2</td>\n",
       "      <td>NaN</td>\n",
       "      <td>False</td>\n",
       "    </tr>\n",
       "  </tbody>\n",
       "</table>\n",
       "</div>"
      ],
      "text/plain": [
       "       year cities  pop  debt eastern\n",
       "one    2000  Seoul  8.0   NaN    True\n",
       "two    2001  Seoul  8.2  -1.2    True\n",
       "three  2002  Seoul  8.4   NaN    True\n",
       "four   2001  Busan  3.0   NaN   False\n",
       "five   2002  Busan  3.2   NaN   False"
      ]
     },
     "execution_count": 75,
     "metadata": {},
     "output_type": "execute_result"
    }
   ],
   "source": [
    "frame2"
   ]
  },
  {
   "cell_type": "code",
   "execution_count": 76,
   "metadata": {
    "collapsed": true
   },
   "outputs": [],
   "source": [
    "del frame2['eastern']"
   ]
  },
  {
   "cell_type": "code",
   "execution_count": 77,
   "metadata": {
    "collapsed": false
   },
   "outputs": [
    {
     "data": {
      "text/html": [
       "<div>\n",
       "<table border=\"1\" class=\"dataframe\">\n",
       "  <thead>\n",
       "    <tr style=\"text-align: right;\">\n",
       "      <th></th>\n",
       "      <th>year</th>\n",
       "      <th>cities</th>\n",
       "      <th>pop</th>\n",
       "      <th>debt</th>\n",
       "    </tr>\n",
       "  </thead>\n",
       "  <tbody>\n",
       "    <tr>\n",
       "      <th>one</th>\n",
       "      <td>2000</td>\n",
       "      <td>Seoul</td>\n",
       "      <td>8.0</td>\n",
       "      <td>NaN</td>\n",
       "    </tr>\n",
       "    <tr>\n",
       "      <th>two</th>\n",
       "      <td>2001</td>\n",
       "      <td>Seoul</td>\n",
       "      <td>8.2</td>\n",
       "      <td>-1.2</td>\n",
       "    </tr>\n",
       "    <tr>\n",
       "      <th>three</th>\n",
       "      <td>2002</td>\n",
       "      <td>Seoul</td>\n",
       "      <td>8.4</td>\n",
       "      <td>NaN</td>\n",
       "    </tr>\n",
       "    <tr>\n",
       "      <th>four</th>\n",
       "      <td>2001</td>\n",
       "      <td>Busan</td>\n",
       "      <td>3.0</td>\n",
       "      <td>NaN</td>\n",
       "    </tr>\n",
       "    <tr>\n",
       "      <th>five</th>\n",
       "      <td>2002</td>\n",
       "      <td>Busan</td>\n",
       "      <td>3.2</td>\n",
       "      <td>NaN</td>\n",
       "    </tr>\n",
       "  </tbody>\n",
       "</table>\n",
       "</div>"
      ],
      "text/plain": [
       "       year cities  pop  debt\n",
       "one    2000  Seoul  8.0   NaN\n",
       "two    2001  Seoul  8.2  -1.2\n",
       "three  2002  Seoul  8.4   NaN\n",
       "four   2001  Busan  3.0   NaN\n",
       "five   2002  Busan  3.2   NaN"
      ]
     },
     "execution_count": 77,
     "metadata": {},
     "output_type": "execute_result"
    }
   ],
   "source": [
    "frame2"
   ]
  },
  {
   "cell_type": "markdown",
   "metadata": {},
   "source": [
    "# Indexing, Selection and Filtering"
   ]
  },
  {
   "cell_type": "code",
   "execution_count": 78,
   "metadata": {
    "collapsed": true
   },
   "outputs": [],
   "source": [
    "obj = Series(np.arange(4), index = ['a','b','c','d'])"
   ]
  },
  {
   "cell_type": "code",
   "execution_count": 79,
   "metadata": {
    "collapsed": false
   },
   "outputs": [
    {
     "data": {
      "text/plain": [
       "a    0\n",
       "b    1\n",
       "c    2\n",
       "d    3\n",
       "dtype: int32"
      ]
     },
     "execution_count": 79,
     "metadata": {},
     "output_type": "execute_result"
    }
   ],
   "source": [
    "obj"
   ]
  },
  {
   "cell_type": "code",
   "execution_count": 80,
   "metadata": {
    "collapsed": false
   },
   "outputs": [
    {
     "data": {
      "text/plain": [
       "c    2\n",
       "d    3\n",
       "dtype: int32"
      ]
     },
     "execution_count": 80,
     "metadata": {},
     "output_type": "execute_result"
    }
   ],
   "source": [
    "obj[2:4]"
   ]
  },
  {
   "cell_type": "code",
   "execution_count": 81,
   "metadata": {
    "collapsed": false
   },
   "outputs": [
    {
     "data": {
      "text/plain": [
       "b    1\n",
       "a    0\n",
       "d    3\n",
       "dtype: int32"
      ]
     },
     "execution_count": 81,
     "metadata": {},
     "output_type": "execute_result"
    }
   ],
   "source": [
    "obj[['b','a','d']]"
   ]
  },
  {
   "cell_type": "code",
   "execution_count": 82,
   "metadata": {
    "collapsed": false
   },
   "outputs": [
    {
     "data": {
      "text/plain": [
       "b    1\n",
       "d    3\n",
       "dtype: int32"
      ]
     },
     "execution_count": 82,
     "metadata": {},
     "output_type": "execute_result"
    }
   ],
   "source": [
    "obj[[1,3]]"
   ]
  },
  {
   "cell_type": "code",
   "execution_count": 84,
   "metadata": {
    "collapsed": true
   },
   "outputs": [],
   "source": [
    "data = DataFrame(np.arange(16).reshape ((4,4)),\n",
    "        index = ['Seoul','Busan','Gwangju','Daejon'],\n",
    "    columns = ['one','two','three','four'])"
   ]
  },
  {
   "cell_type": "code",
   "execution_count": 85,
   "metadata": {
    "collapsed": false
   },
   "outputs": [
    {
     "data": {
      "text/html": [
       "<div>\n",
       "<table border=\"1\" class=\"dataframe\">\n",
       "  <thead>\n",
       "    <tr style=\"text-align: right;\">\n",
       "      <th></th>\n",
       "      <th>one</th>\n",
       "      <th>two</th>\n",
       "      <th>three</th>\n",
       "      <th>four</th>\n",
       "    </tr>\n",
       "  </thead>\n",
       "  <tbody>\n",
       "    <tr>\n",
       "      <th>Seoul</th>\n",
       "      <td>0</td>\n",
       "      <td>1</td>\n",
       "      <td>2</td>\n",
       "      <td>3</td>\n",
       "    </tr>\n",
       "    <tr>\n",
       "      <th>Busan</th>\n",
       "      <td>4</td>\n",
       "      <td>5</td>\n",
       "      <td>6</td>\n",
       "      <td>7</td>\n",
       "    </tr>\n",
       "    <tr>\n",
       "      <th>Gwangju</th>\n",
       "      <td>8</td>\n",
       "      <td>9</td>\n",
       "      <td>10</td>\n",
       "      <td>11</td>\n",
       "    </tr>\n",
       "    <tr>\n",
       "      <th>Daejon</th>\n",
       "      <td>12</td>\n",
       "      <td>13</td>\n",
       "      <td>14</td>\n",
       "      <td>15</td>\n",
       "    </tr>\n",
       "  </tbody>\n",
       "</table>\n",
       "</div>"
      ],
      "text/plain": [
       "         one  two  three  four\n",
       "Seoul      0    1      2     3\n",
       "Busan      4    5      6     7\n",
       "Gwangju    8    9     10    11\n",
       "Daejon    12   13     14    15"
      ]
     },
     "execution_count": 85,
     "metadata": {},
     "output_type": "execute_result"
    }
   ],
   "source": [
    "data"
   ]
  },
  {
   "cell_type": "code",
   "execution_count": 86,
   "metadata": {
    "collapsed": false
   },
   "outputs": [
    {
     "data": {
      "text/plain": [
       "Seoul       1\n",
       "Busan       5\n",
       "Gwangju     9\n",
       "Daejon     13\n",
       "Name: two, dtype: int32"
      ]
     },
     "execution_count": 86,
     "metadata": {},
     "output_type": "execute_result"
    }
   ],
   "source": [
    "data ['two']"
   ]
  },
  {
   "cell_type": "code",
   "execution_count": 87,
   "metadata": {
    "collapsed": false
   },
   "outputs": [
    {
     "data": {
      "text/html": [
       "<div>\n",
       "<table border=\"1\" class=\"dataframe\">\n",
       "  <thead>\n",
       "    <tr style=\"text-align: right;\">\n",
       "      <th></th>\n",
       "      <th>three</th>\n",
       "    </tr>\n",
       "  </thead>\n",
       "  <tbody>\n",
       "    <tr>\n",
       "      <th>Seoul</th>\n",
       "      <td>2</td>\n",
       "    </tr>\n",
       "    <tr>\n",
       "      <th>Busan</th>\n",
       "      <td>6</td>\n",
       "    </tr>\n",
       "    <tr>\n",
       "      <th>Gwangju</th>\n",
       "      <td>10</td>\n",
       "    </tr>\n",
       "    <tr>\n",
       "      <th>Daejon</th>\n",
       "      <td>14</td>\n",
       "    </tr>\n",
       "  </tbody>\n",
       "</table>\n",
       "</div>"
      ],
      "text/plain": [
       "         three\n",
       "Seoul        2\n",
       "Busan        6\n",
       "Gwangju     10\n",
       "Daejon      14"
      ]
     },
     "execution_count": 87,
     "metadata": {},
     "output_type": "execute_result"
    }
   ],
   "source": [
    "data[['three']]"
   ]
  },
  {
   "cell_type": "code",
   "execution_count": 88,
   "metadata": {
    "collapsed": false
   },
   "outputs": [
    {
     "data": {
      "text/html": [
       "<div>\n",
       "<table border=\"1\" class=\"dataframe\">\n",
       "  <thead>\n",
       "    <tr style=\"text-align: right;\">\n",
       "      <th></th>\n",
       "      <th>one</th>\n",
       "      <th>two</th>\n",
       "      <th>three</th>\n",
       "      <th>four</th>\n",
       "    </tr>\n",
       "  </thead>\n",
       "  <tbody>\n",
       "    <tr>\n",
       "      <th>Seoul</th>\n",
       "      <td>0</td>\n",
       "      <td>1</td>\n",
       "      <td>2</td>\n",
       "      <td>3</td>\n",
       "    </tr>\n",
       "    <tr>\n",
       "      <th>Busan</th>\n",
       "      <td>4</td>\n",
       "      <td>5</td>\n",
       "      <td>6</td>\n",
       "      <td>7</td>\n",
       "    </tr>\n",
       "  </tbody>\n",
       "</table>\n",
       "</div>"
      ],
      "text/plain": [
       "       one  two  three  four\n",
       "Seoul    0    1      2     3\n",
       "Busan    4    5      6     7"
      ]
     },
     "execution_count": 88,
     "metadata": {},
     "output_type": "execute_result"
    }
   ],
   "source": [
    "data[:2]"
   ]
  },
  {
   "cell_type": "code",
   "execution_count": 89,
   "metadata": {
    "collapsed": false
   },
   "outputs": [
    {
     "ename": "NameError",
     "evalue": "name 'Gwangju' is not defined",
     "output_type": "error",
     "traceback": [
      "\u001b[0;31m---------------------------------------------------------------------------\u001b[0m",
      "\u001b[0;31mNameError\u001b[0m                                 Traceback (most recent call last)",
      "\u001b[0;32m<ipython-input-89-71b1e5f09a47>\u001b[0m in \u001b[0;36m<module>\u001b[0;34m()\u001b[0m\n\u001b[0;32m----> 1\u001b[0;31m \u001b[0mdata\u001b[0m\u001b[1;33m[\u001b[0m\u001b[1;33m:\u001b[0m\u001b[0mGwangju\u001b[0m\u001b[1;33m]\u001b[0m\u001b[1;33m\u001b[0m\u001b[0m\n\u001b[0m",
      "\u001b[0;31mNameError\u001b[0m: name 'Gwangju' is not defined"
     ]
    }
   ],
   "source": [
    "data[:Gwangju]"
   ]
  },
  {
   "cell_type": "code",
   "execution_count": 90,
   "metadata": {
    "collapsed": false
   },
   "outputs": [
    {
     "data": {
      "text/html": [
       "<div>\n",
       "<table border=\"1\" class=\"dataframe\">\n",
       "  <thead>\n",
       "    <tr style=\"text-align: right;\">\n",
       "      <th></th>\n",
       "      <th>one</th>\n",
       "      <th>two</th>\n",
       "      <th>three</th>\n",
       "      <th>four</th>\n",
       "    </tr>\n",
       "  </thead>\n",
       "  <tbody>\n",
       "    <tr>\n",
       "      <th>Seoul</th>\n",
       "      <td>0</td>\n",
       "      <td>1</td>\n",
       "      <td>2</td>\n",
       "      <td>3</td>\n",
       "    </tr>\n",
       "    <tr>\n",
       "      <th>Busan</th>\n",
       "      <td>4</td>\n",
       "      <td>5</td>\n",
       "      <td>6</td>\n",
       "      <td>7</td>\n",
       "    </tr>\n",
       "    <tr>\n",
       "      <th>Gwangju</th>\n",
       "      <td>8</td>\n",
       "      <td>9</td>\n",
       "      <td>10</td>\n",
       "      <td>11</td>\n",
       "    </tr>\n",
       "  </tbody>\n",
       "</table>\n",
       "</div>"
      ],
      "text/plain": [
       "         one  two  three  four\n",
       "Seoul      0    1      2     3\n",
       "Busan      4    5      6     7\n",
       "Gwangju    8    9     10    11"
      ]
     },
     "execution_count": 90,
     "metadata": {},
     "output_type": "execute_result"
    }
   ],
   "source": [
    "data[:'Gwangju']"
   ]
  },
  {
   "cell_type": "code",
   "execution_count": 91,
   "metadata": {
    "collapsed": false
   },
   "outputs": [
    {
     "data": {
      "text/html": [
       "<div>\n",
       "<table border=\"1\" class=\"dataframe\">\n",
       "  <thead>\n",
       "    <tr style=\"text-align: right;\">\n",
       "      <th></th>\n",
       "      <th>one</th>\n",
       "      <th>two</th>\n",
       "      <th>three</th>\n",
       "      <th>four</th>\n",
       "    </tr>\n",
       "  </thead>\n",
       "  <tbody>\n",
       "    <tr>\n",
       "      <th>Busan</th>\n",
       "      <td>4</td>\n",
       "      <td>5</td>\n",
       "      <td>6</td>\n",
       "      <td>7</td>\n",
       "    </tr>\n",
       "    <tr>\n",
       "      <th>Gwangju</th>\n",
       "      <td>8</td>\n",
       "      <td>9</td>\n",
       "      <td>10</td>\n",
       "      <td>11</td>\n",
       "    </tr>\n",
       "    <tr>\n",
       "      <th>Daejon</th>\n",
       "      <td>12</td>\n",
       "      <td>13</td>\n",
       "      <td>14</td>\n",
       "      <td>15</td>\n",
       "    </tr>\n",
       "  </tbody>\n",
       "</table>\n",
       "</div>"
      ],
      "text/plain": [
       "         one  two  three  four\n",
       "Busan      4    5      6     7\n",
       "Gwangju    8    9     10    11\n",
       "Daejon    12   13     14    15"
      ]
     },
     "execution_count": 91,
     "metadata": {},
     "output_type": "execute_result"
    }
   ],
   "source": [
    "data [data['three']>5]"
   ]
  },
  {
   "cell_type": "code",
   "execution_count": 92,
   "metadata": {
    "collapsed": false
   },
   "outputs": [
    {
     "data": {
      "text/html": [
       "<div>\n",
       "<table border=\"1\" class=\"dataframe\">\n",
       "  <thead>\n",
       "    <tr style=\"text-align: right;\">\n",
       "      <th></th>\n",
       "      <th>one</th>\n",
       "      <th>two</th>\n",
       "      <th>three</th>\n",
       "      <th>four</th>\n",
       "    </tr>\n",
       "  </thead>\n",
       "  <tbody>\n",
       "    <tr>\n",
       "      <th>Seoul</th>\n",
       "      <td>True</td>\n",
       "      <td>True</td>\n",
       "      <td>True</td>\n",
       "      <td>True</td>\n",
       "    </tr>\n",
       "    <tr>\n",
       "      <th>Busan</th>\n",
       "      <td>True</td>\n",
       "      <td>False</td>\n",
       "      <td>False</td>\n",
       "      <td>False</td>\n",
       "    </tr>\n",
       "    <tr>\n",
       "      <th>Gwangju</th>\n",
       "      <td>False</td>\n",
       "      <td>False</td>\n",
       "      <td>False</td>\n",
       "      <td>False</td>\n",
       "    </tr>\n",
       "    <tr>\n",
       "      <th>Daejon</th>\n",
       "      <td>False</td>\n",
       "      <td>False</td>\n",
       "      <td>False</td>\n",
       "      <td>False</td>\n",
       "    </tr>\n",
       "  </tbody>\n",
       "</table>\n",
       "</div>"
      ],
      "text/plain": [
       "           one    two  three   four\n",
       "Seoul     True   True   True   True\n",
       "Busan     True  False  False  False\n",
       "Gwangju  False  False  False  False\n",
       "Daejon   False  False  False  False"
      ]
     },
     "execution_count": 92,
     "metadata": {},
     "output_type": "execute_result"
    }
   ],
   "source": [
    "data < 5"
   ]
  },
  {
   "cell_type": "code",
   "execution_count": 93,
   "metadata": {
    "collapsed": true
   },
   "outputs": [],
   "source": [
    "data[data < 5] = 0  #replacing values less than 5 as 0"
   ]
  },
  {
   "cell_type": "code",
   "execution_count": 94,
   "metadata": {
    "collapsed": false
   },
   "outputs": [
    {
     "data": {
      "text/html": [
       "<div>\n",
       "<table border=\"1\" class=\"dataframe\">\n",
       "  <thead>\n",
       "    <tr style=\"text-align: right;\">\n",
       "      <th></th>\n",
       "      <th>one</th>\n",
       "      <th>two</th>\n",
       "      <th>three</th>\n",
       "      <th>four</th>\n",
       "    </tr>\n",
       "  </thead>\n",
       "  <tbody>\n",
       "    <tr>\n",
       "      <th>Seoul</th>\n",
       "      <td>0</td>\n",
       "      <td>0</td>\n",
       "      <td>0</td>\n",
       "      <td>0</td>\n",
       "    </tr>\n",
       "    <tr>\n",
       "      <th>Busan</th>\n",
       "      <td>0</td>\n",
       "      <td>5</td>\n",
       "      <td>6</td>\n",
       "      <td>7</td>\n",
       "    </tr>\n",
       "    <tr>\n",
       "      <th>Gwangju</th>\n",
       "      <td>8</td>\n",
       "      <td>9</td>\n",
       "      <td>10</td>\n",
       "      <td>11</td>\n",
       "    </tr>\n",
       "    <tr>\n",
       "      <th>Daejon</th>\n",
       "      <td>12</td>\n",
       "      <td>13</td>\n",
       "      <td>14</td>\n",
       "      <td>15</td>\n",
       "    </tr>\n",
       "  </tbody>\n",
       "</table>\n",
       "</div>"
      ],
      "text/plain": [
       "         one  two  three  four\n",
       "Seoul      0    0      0     0\n",
       "Busan      0    5      6     7\n",
       "Gwangju    8    9     10    11\n",
       "Daejon    12   13     14    15"
      ]
     },
     "execution_count": 94,
     "metadata": {},
     "output_type": "execute_result"
    }
   ],
   "source": [
    "data"
   ]
  },
  {
   "cell_type": "code",
   "execution_count": 95,
   "metadata": {
    "collapsed": false
   },
   "outputs": [
    {
     "data": {
      "text/plain": [
       "one      0\n",
       "two      5\n",
       "three    6\n",
       "four     7\n",
       "Name: Busan, dtype: int32"
      ]
     },
     "execution_count": 95,
     "metadata": {},
     "output_type": "execute_result"
    }
   ],
   "source": [
    "data.ix['Busan']"
   ]
  },
  {
   "cell_type": "code",
   "execution_count": 96,
   "metadata": {
    "collapsed": false
   },
   "outputs": [
    {
     "data": {
      "text/plain": [
       "two      5\n",
       "three    6\n",
       "Name: Busan, dtype: int32"
      ]
     },
     "execution_count": 96,
     "metadata": {},
     "output_type": "execute_result"
    }
   ],
   "source": [
    "data.ix['Busan',['two','three']]"
   ]
  },
  {
   "cell_type": "code",
   "execution_count": 97,
   "metadata": {
    "collapsed": false
   },
   "outputs": [
    {
     "data": {
      "text/html": [
       "<div>\n",
       "<table border=\"1\" class=\"dataframe\">\n",
       "  <thead>\n",
       "    <tr style=\"text-align: right;\">\n",
       "      <th></th>\n",
       "      <th>four</th>\n",
       "      <th>one</th>\n",
       "      <th>two</th>\n",
       "    </tr>\n",
       "  </thead>\n",
       "  <tbody>\n",
       "    <tr>\n",
       "      <th>Busan</th>\n",
       "      <td>7</td>\n",
       "      <td>0</td>\n",
       "      <td>5</td>\n",
       "    </tr>\n",
       "    <tr>\n",
       "      <th>Gwangju</th>\n",
       "      <td>11</td>\n",
       "      <td>8</td>\n",
       "      <td>9</td>\n",
       "    </tr>\n",
       "  </tbody>\n",
       "</table>\n",
       "</div>"
      ],
      "text/plain": [
       "         four  one  two\n",
       "Busan       7    0    5\n",
       "Gwangju    11    8    9"
      ]
     },
     "execution_count": 97,
     "metadata": {},
     "output_type": "execute_result"
    }
   ],
   "source": [
    "data.ix[['Busan','Gwangju'],[3,0,1]]"
   ]
  },
  {
   "cell_type": "code",
   "execution_count": 98,
   "metadata": {
    "collapsed": false
   },
   "outputs": [
    {
     "data": {
      "text/plain": [
       "one       8\n",
       "two       9\n",
       "three    10\n",
       "four     11\n",
       "Name: Gwangju, dtype: int32"
      ]
     },
     "execution_count": 98,
     "metadata": {},
     "output_type": "execute_result"
    }
   ],
   "source": [
    "data.ix[2]"
   ]
  },
  {
   "cell_type": "code",
   "execution_count": 99,
   "metadata": {
    "collapsed": false
   },
   "outputs": [
    {
     "data": {
      "text/plain": [
       "Seoul      0\n",
       "Busan      5\n",
       "Gwangju    9\n",
       "Name: two, dtype: int32"
      ]
     },
     "execution_count": 99,
     "metadata": {},
     "output_type": "execute_result"
    }
   ],
   "source": [
    "data.ix[:'Gwangju','two']"
   ]
  },
  {
   "cell_type": "code",
   "execution_count": 100,
   "metadata": {
    "collapsed": false
   },
   "outputs": [
    {
     "data": {
      "text/html": [
       "<div>\n",
       "<table border=\"1\" class=\"dataframe\">\n",
       "  <thead>\n",
       "    <tr style=\"text-align: right;\">\n",
       "      <th></th>\n",
       "      <th>one</th>\n",
       "      <th>two</th>\n",
       "      <th>three</th>\n",
       "    </tr>\n",
       "  </thead>\n",
       "  <tbody>\n",
       "    <tr>\n",
       "      <th>Busan</th>\n",
       "      <td>0</td>\n",
       "      <td>5</td>\n",
       "      <td>6</td>\n",
       "    </tr>\n",
       "    <tr>\n",
       "      <th>Gwangju</th>\n",
       "      <td>8</td>\n",
       "      <td>9</td>\n",
       "      <td>10</td>\n",
       "    </tr>\n",
       "    <tr>\n",
       "      <th>Daejon</th>\n",
       "      <td>12</td>\n",
       "      <td>13</td>\n",
       "      <td>14</td>\n",
       "    </tr>\n",
       "  </tbody>\n",
       "</table>\n",
       "</div>"
      ],
      "text/plain": [
       "         one  two  three\n",
       "Busan      0    5      6\n",
       "Gwangju    8    9     10\n",
       "Daejon    12   13     14"
      ]
     },
     "execution_count": 100,
     "metadata": {},
     "output_type": "execute_result"
    }
   ],
   "source": [
    "data.ix[data.three > 5, :3] #want to know the index where column are greater than 5"
   ]
  },
  {
   "cell_type": "markdown",
   "metadata": {},
   "source": [
    "# Function application and mapping"
   ]
  },
  {
   "cell_type": "code",
   "execution_count": 101,
   "metadata": {
    "collapsed": true
   },
   "outputs": [],
   "source": [
    "frame = DataFrame (np.random.randn(4,3),\n",
    "                  columns = list('bde'),\n",
    "                  index = ['Seoul','Busan','Gwangju','Daejon'])"
   ]
  },
  {
   "cell_type": "code",
   "execution_count": 102,
   "metadata": {
    "collapsed": false
   },
   "outputs": [
    {
     "data": {
      "text/html": [
       "<div>\n",
       "<table border=\"1\" class=\"dataframe\">\n",
       "  <thead>\n",
       "    <tr style=\"text-align: right;\">\n",
       "      <th></th>\n",
       "      <th>b</th>\n",
       "      <th>d</th>\n",
       "      <th>e</th>\n",
       "    </tr>\n",
       "  </thead>\n",
       "  <tbody>\n",
       "    <tr>\n",
       "      <th>Seoul</th>\n",
       "      <td>0.436784</td>\n",
       "      <td>-0.187088</td>\n",
       "      <td>-2.662755</td>\n",
       "    </tr>\n",
       "    <tr>\n",
       "      <th>Busan</th>\n",
       "      <td>-0.289674</td>\n",
       "      <td>-1.909138</td>\n",
       "      <td>1.232503</td>\n",
       "    </tr>\n",
       "    <tr>\n",
       "      <th>Gwangju</th>\n",
       "      <td>0.398965</td>\n",
       "      <td>0.710530</td>\n",
       "      <td>1.178969</td>\n",
       "    </tr>\n",
       "    <tr>\n",
       "      <th>Daejon</th>\n",
       "      <td>-0.279881</td>\n",
       "      <td>0.277009</td>\n",
       "      <td>-0.981770</td>\n",
       "    </tr>\n",
       "  </tbody>\n",
       "</table>\n",
       "</div>"
      ],
      "text/plain": [
       "                b         d         e\n",
       "Seoul    0.436784 -0.187088 -2.662755\n",
       "Busan   -0.289674 -1.909138  1.232503\n",
       "Gwangju  0.398965  0.710530  1.178969\n",
       "Daejon  -0.279881  0.277009 -0.981770"
      ]
     },
     "execution_count": 102,
     "metadata": {},
     "output_type": "execute_result"
    }
   ],
   "source": [
    "frame"
   ]
  },
  {
   "cell_type": "code",
   "execution_count": 103,
   "metadata": {
    "collapsed": false
   },
   "outputs": [
    {
     "data": {
      "text/html": [
       "<div>\n",
       "<table border=\"1\" class=\"dataframe\">\n",
       "  <thead>\n",
       "    <tr style=\"text-align: right;\">\n",
       "      <th></th>\n",
       "      <th>b</th>\n",
       "      <th>d</th>\n",
       "      <th>e</th>\n",
       "    </tr>\n",
       "  </thead>\n",
       "  <tbody>\n",
       "    <tr>\n",
       "      <th>Seoul</th>\n",
       "      <td>0.436784</td>\n",
       "      <td>0.187088</td>\n",
       "      <td>2.662755</td>\n",
       "    </tr>\n",
       "    <tr>\n",
       "      <th>Busan</th>\n",
       "      <td>0.289674</td>\n",
       "      <td>1.909138</td>\n",
       "      <td>1.232503</td>\n",
       "    </tr>\n",
       "    <tr>\n",
       "      <th>Gwangju</th>\n",
       "      <td>0.398965</td>\n",
       "      <td>0.710530</td>\n",
       "      <td>1.178969</td>\n",
       "    </tr>\n",
       "    <tr>\n",
       "      <th>Daejon</th>\n",
       "      <td>0.279881</td>\n",
       "      <td>0.277009</td>\n",
       "      <td>0.981770</td>\n",
       "    </tr>\n",
       "  </tbody>\n",
       "</table>\n",
       "</div>"
      ],
      "text/plain": [
       "                b         d         e\n",
       "Seoul    0.436784  0.187088  2.662755\n",
       "Busan    0.289674  1.909138  1.232503\n",
       "Gwangju  0.398965  0.710530  1.178969\n",
       "Daejon   0.279881  0.277009  0.981770"
      ]
     },
     "execution_count": 103,
     "metadata": {},
     "output_type": "execute_result"
    }
   ],
   "source": [
    "np.abs(frame)"
   ]
  },
  {
   "cell_type": "code",
   "execution_count": 104,
   "metadata": {
    "collapsed": true
   },
   "outputs": [],
   "source": [
    "f = lambda x: x.max() - x.min()   #same as f(x)"
   ]
  },
  {
   "cell_type": "code",
   "execution_count": 105,
   "metadata": {
    "collapsed": false
   },
   "outputs": [
    {
     "data": {
      "text/plain": [
       "b    0.726458\n",
       "d    2.619669\n",
       "e    3.895258\n",
       "dtype: float64"
      ]
     },
     "execution_count": 105,
     "metadata": {},
     "output_type": "execute_result"
    }
   ],
   "source": [
    "frame.apply(f)"
   ]
  },
  {
   "cell_type": "code",
   "execution_count": 108,
   "metadata": {
    "collapsed": true
   },
   "outputs": [],
   "source": [
    "def f(x):\n",
    "    return Series([x.min(), x.max()], index = ['min','max'])"
   ]
  },
  {
   "cell_type": "code",
   "execution_count": 109,
   "metadata": {
    "collapsed": false
   },
   "outputs": [
    {
     "data": {
      "text/html": [
       "<div>\n",
       "<table border=\"1\" class=\"dataframe\">\n",
       "  <thead>\n",
       "    <tr style=\"text-align: right;\">\n",
       "      <th></th>\n",
       "      <th>b</th>\n",
       "      <th>d</th>\n",
       "      <th>e</th>\n",
       "    </tr>\n",
       "  </thead>\n",
       "  <tbody>\n",
       "    <tr>\n",
       "      <th>min</th>\n",
       "      <td>-0.289674</td>\n",
       "      <td>-1.909138</td>\n",
       "      <td>-2.662755</td>\n",
       "    </tr>\n",
       "    <tr>\n",
       "      <th>max</th>\n",
       "      <td>0.436784</td>\n",
       "      <td>0.710530</td>\n",
       "      <td>1.232503</td>\n",
       "    </tr>\n",
       "  </tbody>\n",
       "</table>\n",
       "</div>"
      ],
      "text/plain": [
       "            b         d         e\n",
       "min -0.289674 -1.909138 -2.662755\n",
       "max  0.436784  0.710530  1.232503"
      ]
     },
     "execution_count": 109,
     "metadata": {},
     "output_type": "execute_result"
    }
   ],
   "source": [
    "frame.apply(f)"
   ]
  },
  {
   "cell_type": "code",
   "execution_count": 110,
   "metadata": {
    "collapsed": true
   },
   "outputs": [],
   "source": [
    "format = lambda x: '%.2f' % x  #to show resutls upto just 2 decimal points"
   ]
  },
  {
   "cell_type": "code",
   "execution_count": 111,
   "metadata": {
    "collapsed": false
   },
   "outputs": [
    {
     "data": {
      "text/html": [
       "<div>\n",
       "<table border=\"1\" class=\"dataframe\">\n",
       "  <thead>\n",
       "    <tr style=\"text-align: right;\">\n",
       "      <th></th>\n",
       "      <th>b</th>\n",
       "      <th>d</th>\n",
       "      <th>e</th>\n",
       "    </tr>\n",
       "  </thead>\n",
       "  <tbody>\n",
       "    <tr>\n",
       "      <th>Seoul</th>\n",
       "      <td>0.44</td>\n",
       "      <td>-0.19</td>\n",
       "      <td>-2.66</td>\n",
       "    </tr>\n",
       "    <tr>\n",
       "      <th>Busan</th>\n",
       "      <td>-0.29</td>\n",
       "      <td>-1.91</td>\n",
       "      <td>1.23</td>\n",
       "    </tr>\n",
       "    <tr>\n",
       "      <th>Gwangju</th>\n",
       "      <td>0.40</td>\n",
       "      <td>0.71</td>\n",
       "      <td>1.18</td>\n",
       "    </tr>\n",
       "    <tr>\n",
       "      <th>Daejon</th>\n",
       "      <td>-0.28</td>\n",
       "      <td>0.28</td>\n",
       "      <td>-0.98</td>\n",
       "    </tr>\n",
       "  </tbody>\n",
       "</table>\n",
       "</div>"
      ],
      "text/plain": [
       "             b      d      e\n",
       "Seoul     0.44  -0.19  -2.66\n",
       "Busan    -0.29  -1.91   1.23\n",
       "Gwangju   0.40   0.71   1.18\n",
       "Daejon   -0.28   0.28  -0.98"
      ]
     },
     "execution_count": 111,
     "metadata": {},
     "output_type": "execute_result"
    }
   ],
   "source": [
    "frame.applymap(format)"
   ]
  },
  {
   "cell_type": "code",
   "execution_count": 112,
   "metadata": {
    "collapsed": false
   },
   "outputs": [
    {
     "data": {
      "text/plain": [
       "Seoul      -2.66\n",
       "Busan       1.23\n",
       "Gwangju     1.18\n",
       "Daejon     -0.98\n",
       "Name: e, dtype: object"
      ]
     },
     "execution_count": 112,
     "metadata": {},
     "output_type": "execute_result"
    }
   ],
   "source": [
    "frame['e'].map(format)"
   ]
  },
  {
   "cell_type": "markdown",
   "metadata": {},
   "source": [
    "# Sorting and ranking"
   ]
  },
  {
   "cell_type": "code",
   "execution_count": 115,
   "metadata": {
    "collapsed": true
   },
   "outputs": [],
   "source": [
    "obj = Series (range(4), index = ['d','b','c','a'])"
   ]
  },
  {
   "cell_type": "code",
   "execution_count": 116,
   "metadata": {
    "collapsed": false
   },
   "outputs": [
    {
     "data": {
      "text/plain": [
       "a    3\n",
       "b    1\n",
       "c    2\n",
       "d    0\n",
       "dtype: int32"
      ]
     },
     "execution_count": 116,
     "metadata": {},
     "output_type": "execute_result"
    }
   ],
   "source": [
    "obj.sort_index()"
   ]
  },
  {
   "cell_type": "code",
   "execution_count": 117,
   "metadata": {
    "collapsed": false
   },
   "outputs": [
    {
     "ename": "TypeError",
     "evalue": "__init__() got an unexpected keyword argument 'colums'",
     "output_type": "error",
     "traceback": [
      "\u001b[0;31m---------------------------------------------------------------------------\u001b[0m",
      "\u001b[0;31mTypeError\u001b[0m                                 Traceback (most recent call last)",
      "\u001b[0;32m<ipython-input-117-3ddb373ca80d>\u001b[0m in \u001b[0;36m<module>\u001b[0;34m()\u001b[0m\n\u001b[0;32m----> 1\u001b[0;31m \u001b[0mframe\u001b[0m \u001b[1;33m=\u001b[0m \u001b[0mDataFrame\u001b[0m\u001b[1;33m(\u001b[0m\u001b[0mnp\u001b[0m\u001b[1;33m.\u001b[0m\u001b[0marange\u001b[0m\u001b[1;33m(\u001b[0m\u001b[1;36m8\u001b[0m\u001b[1;33m)\u001b[0m\u001b[1;33m.\u001b[0m\u001b[0mreshape\u001b[0m\u001b[1;33m(\u001b[0m\u001b[1;33m(\u001b[0m\u001b[1;36m2\u001b[0m\u001b[1;33m,\u001b[0m\u001b[1;36m4\u001b[0m\u001b[1;33m)\u001b[0m\u001b[1;33m)\u001b[0m\u001b[1;33m,\u001b[0m \u001b[0mindex\u001b[0m \u001b[1;33m=\u001b[0m \u001b[1;33m[\u001b[0m\u001b[1;34m'three'\u001b[0m\u001b[1;33m,\u001b[0m\u001b[1;34m'one'\u001b[0m\u001b[1;33m]\u001b[0m\u001b[1;33m,\u001b[0m \u001b[0mcolums\u001b[0m \u001b[1;33m=\u001b[0m \u001b[1;33m[\u001b[0m\u001b[1;34m'd'\u001b[0m\u001b[1;33m,\u001b[0m\u001b[1;34m'b'\u001b[0m\u001b[1;33m,\u001b[0m\u001b[1;34m'c'\u001b[0m\u001b[1;33m,\u001b[0m\u001b[1;34m'a'\u001b[0m\u001b[1;33m]\u001b[0m\u001b[1;33m)\u001b[0m\u001b[1;33m\u001b[0m\u001b[0m\n\u001b[0m",
      "\u001b[0;31mTypeError\u001b[0m: __init__() got an unexpected keyword argument 'colums'"
     ]
    }
   ],
   "source": [
    "frame = DataFrame(np.arange(8).reshape((2,4)), index = ['three','one'], colums = ['d','b','c','a'])"
   ]
  },
  {
   "cell_type": "code",
   "execution_count": 118,
   "metadata": {
    "collapsed": true
   },
   "outputs": [],
   "source": [
    "frame = DataFrame(np.arange(8).reshape((2,4)), index = ['three','one'], columns = ['d','b','c','a'])"
   ]
  },
  {
   "cell_type": "code",
   "execution_count": 119,
   "metadata": {
    "collapsed": false
   },
   "outputs": [
    {
     "ename": "AttributeError",
     "evalue": "'DataFrame' object has no attribute 'sort_ndex'",
     "output_type": "error",
     "traceback": [
      "\u001b[0;31m---------------------------------------------------------------------------\u001b[0m",
      "\u001b[0;31mAttributeError\u001b[0m                            Traceback (most recent call last)",
      "\u001b[0;32m<ipython-input-119-952690a9fa78>\u001b[0m in \u001b[0;36m<module>\u001b[0;34m()\u001b[0m\n\u001b[0;32m----> 1\u001b[0;31m \u001b[0mframe\u001b[0m\u001b[1;33m.\u001b[0m\u001b[0msort_ndex\u001b[0m\u001b[1;33m(\u001b[0m\u001b[1;33m)\u001b[0m\u001b[1;33m\u001b[0m\u001b[0m\n\u001b[0m",
      "\u001b[0;32mC:\\ProgramData\\Anaconda3\\lib\\site-packages\\pandas\\core\\generic.py\u001b[0m in \u001b[0;36m__getattr__\u001b[0;34m(self, name)\u001b[0m\n\u001b[1;32m   2742\u001b[0m             \u001b[1;32mif\u001b[0m \u001b[0mname\u001b[0m \u001b[1;32min\u001b[0m \u001b[0mself\u001b[0m\u001b[1;33m.\u001b[0m\u001b[0m_info_axis\u001b[0m\u001b[1;33m:\u001b[0m\u001b[1;33m\u001b[0m\u001b[0m\n\u001b[1;32m   2743\u001b[0m                 \u001b[1;32mreturn\u001b[0m \u001b[0mself\u001b[0m\u001b[1;33m[\u001b[0m\u001b[0mname\u001b[0m\u001b[1;33m]\u001b[0m\u001b[1;33m\u001b[0m\u001b[0m\n\u001b[0;32m-> 2744\u001b[0;31m             \u001b[1;32mreturn\u001b[0m \u001b[0mobject\u001b[0m\u001b[1;33m.\u001b[0m\u001b[0m__getattribute__\u001b[0m\u001b[1;33m(\u001b[0m\u001b[0mself\u001b[0m\u001b[1;33m,\u001b[0m \u001b[0mname\u001b[0m\u001b[1;33m)\u001b[0m\u001b[1;33m\u001b[0m\u001b[0m\n\u001b[0m\u001b[1;32m   2745\u001b[0m \u001b[1;33m\u001b[0m\u001b[0m\n\u001b[1;32m   2746\u001b[0m     \u001b[1;32mdef\u001b[0m \u001b[0m__setattr__\u001b[0m\u001b[1;33m(\u001b[0m\u001b[0mself\u001b[0m\u001b[1;33m,\u001b[0m \u001b[0mname\u001b[0m\u001b[1;33m,\u001b[0m \u001b[0mvalue\u001b[0m\u001b[1;33m)\u001b[0m\u001b[1;33m:\u001b[0m\u001b[1;33m\u001b[0m\u001b[0m\n",
      "\u001b[0;31mAttributeError\u001b[0m: 'DataFrame' object has no attribute 'sort_ndex'"
     ]
    }
   ],
   "source": [
    "frame.sort_ndex()"
   ]
  },
  {
   "cell_type": "code",
   "execution_count": 120,
   "metadata": {
    "collapsed": false
   },
   "outputs": [
    {
     "data": {
      "text/html": [
       "<div>\n",
       "<table border=\"1\" class=\"dataframe\">\n",
       "  <thead>\n",
       "    <tr style=\"text-align: right;\">\n",
       "      <th></th>\n",
       "      <th>d</th>\n",
       "      <th>b</th>\n",
       "      <th>c</th>\n",
       "      <th>a</th>\n",
       "    </tr>\n",
       "  </thead>\n",
       "  <tbody>\n",
       "    <tr>\n",
       "      <th>one</th>\n",
       "      <td>4</td>\n",
       "      <td>5</td>\n",
       "      <td>6</td>\n",
       "      <td>7</td>\n",
       "    </tr>\n",
       "    <tr>\n",
       "      <th>three</th>\n",
       "      <td>0</td>\n",
       "      <td>1</td>\n",
       "      <td>2</td>\n",
       "      <td>3</td>\n",
       "    </tr>\n",
       "  </tbody>\n",
       "</table>\n",
       "</div>"
      ],
      "text/plain": [
       "       d  b  c  a\n",
       "one    4  5  6  7\n",
       "three  0  1  2  3"
      ]
     },
     "execution_count": 120,
     "metadata": {},
     "output_type": "execute_result"
    }
   ],
   "source": [
    "frame.sort_index() #sorting on the basis of row in alphabetically order"
   ]
  },
  {
   "cell_type": "code",
   "execution_count": 121,
   "metadata": {
    "collapsed": false
   },
   "outputs": [
    {
     "data": {
      "text/html": [
       "<div>\n",
       "<table border=\"1\" class=\"dataframe\">\n",
       "  <thead>\n",
       "    <tr style=\"text-align: right;\">\n",
       "      <th></th>\n",
       "      <th>a</th>\n",
       "      <th>b</th>\n",
       "      <th>c</th>\n",
       "      <th>d</th>\n",
       "    </tr>\n",
       "  </thead>\n",
       "  <tbody>\n",
       "    <tr>\n",
       "      <th>three</th>\n",
       "      <td>3</td>\n",
       "      <td>1</td>\n",
       "      <td>2</td>\n",
       "      <td>0</td>\n",
       "    </tr>\n",
       "    <tr>\n",
       "      <th>one</th>\n",
       "      <td>7</td>\n",
       "      <td>5</td>\n",
       "      <td>6</td>\n",
       "      <td>4</td>\n",
       "    </tr>\n",
       "  </tbody>\n",
       "</table>\n",
       "</div>"
      ],
      "text/plain": [
       "       a  b  c  d\n",
       "three  3  1  2  0\n",
       "one    7  5  6  4"
      ]
     },
     "execution_count": 121,
     "metadata": {},
     "output_type": "execute_result"
    }
   ],
   "source": [
    "frame.sort_index(axis = 1)"
   ]
  },
  {
   "cell_type": "code",
   "execution_count": 122,
   "metadata": {
    "collapsed": false
   },
   "outputs": [
    {
     "ename": "TypeError",
     "evalue": "Index(...) must be called with a collection of some kind, 7 was passed",
     "output_type": "error",
     "traceback": [
      "\u001b[0;31m---------------------------------------------------------------------------\u001b[0m",
      "\u001b[0;31mTypeError\u001b[0m                                 Traceback (most recent call last)",
      "\u001b[0;32m<ipython-input-122-1694644339f5>\u001b[0m in \u001b[0;36m<module>\u001b[0;34m()\u001b[0m\n\u001b[0;32m----> 1\u001b[0;31m \u001b[0mobj\u001b[0m \u001b[1;33m=\u001b[0m \u001b[0mSeries\u001b[0m\u001b[1;33m(\u001b[0m\u001b[1;33m[\u001b[0m\u001b[1;36m4\u001b[0m\u001b[1;33m,\u001b[0m\u001b[0mnp\u001b[0m\u001b[1;33m.\u001b[0m\u001b[0mnan\u001b[0m\u001b[1;33m]\u001b[0m\u001b[1;33m,\u001b[0m\u001b[1;36m7\u001b[0m\u001b[1;33m,\u001b[0m\u001b[0mnp\u001b[0m\u001b[1;33m.\u001b[0m\u001b[0mnan\u001b[0m\u001b[1;33m,\u001b[0m\u001b[1;33m-\u001b[0m\u001b[1;36m1\u001b[0m\u001b[1;33m,\u001b[0m\u001b[1;36m2\u001b[0m\u001b[1;33m)\u001b[0m \u001b[1;31m#in series we can based on values, and np.nan means NULL Values\u001b[0m\u001b[1;33m\u001b[0m\u001b[0m\n\u001b[0m",
      "\u001b[0;32mC:\\ProgramData\\Anaconda3\\lib\\site-packages\\pandas\\core\\series.py\u001b[0m in \u001b[0;36m__init__\u001b[0;34m(self, data, index, dtype, name, copy, fastpath)\u001b[0m\n\u001b[1;32m    150\u001b[0m \u001b[1;33m\u001b[0m\u001b[0m\n\u001b[1;32m    151\u001b[0m             \u001b[1;32mif\u001b[0m \u001b[0mindex\u001b[0m \u001b[1;32mis\u001b[0m \u001b[1;32mnot\u001b[0m \u001b[1;32mNone\u001b[0m\u001b[1;33m:\u001b[0m\u001b[1;33m\u001b[0m\u001b[0m\n\u001b[0;32m--> 152\u001b[0;31m                 \u001b[0mindex\u001b[0m \u001b[1;33m=\u001b[0m \u001b[0m_ensure_index\u001b[0m\u001b[1;33m(\u001b[0m\u001b[0mindex\u001b[0m\u001b[1;33m)\u001b[0m\u001b[1;33m\u001b[0m\u001b[0m\n\u001b[0m\u001b[1;32m    153\u001b[0m \u001b[1;33m\u001b[0m\u001b[0m\n\u001b[1;32m    154\u001b[0m             \u001b[1;32mif\u001b[0m \u001b[0mdata\u001b[0m \u001b[1;32mis\u001b[0m \u001b[1;32mNone\u001b[0m\u001b[1;33m:\u001b[0m\u001b[1;33m\u001b[0m\u001b[0m\n",
      "\u001b[0;32mC:\\ProgramData\\Anaconda3\\lib\\site-packages\\pandas\\indexes\\base.py\u001b[0m in \u001b[0;36m_ensure_index\u001b[0;34m(index_like, copy)\u001b[0m\n\u001b[1;32m   3663\u001b[0m             \u001b[0mindex_like\u001b[0m \u001b[1;33m=\u001b[0m \u001b[0mcopy\u001b[0m\u001b[1;33m(\u001b[0m\u001b[0mindex_like\u001b[0m\u001b[1;33m)\u001b[0m\u001b[1;33m\u001b[0m\u001b[0m\n\u001b[1;32m   3664\u001b[0m \u001b[1;33m\u001b[0m\u001b[0m\n\u001b[0;32m-> 3665\u001b[0;31m     \u001b[1;32mreturn\u001b[0m \u001b[0mIndex\u001b[0m\u001b[1;33m(\u001b[0m\u001b[0mindex_like\u001b[0m\u001b[1;33m)\u001b[0m\u001b[1;33m\u001b[0m\u001b[0m\n\u001b[0m\u001b[1;32m   3666\u001b[0m \u001b[1;33m\u001b[0m\u001b[0m\n\u001b[1;32m   3667\u001b[0m \u001b[1;33m\u001b[0m\u001b[0m\n",
      "\u001b[0;32mC:\\ProgramData\\Anaconda3\\lib\\site-packages\\pandas\\indexes\\base.py\u001b[0m in \u001b[0;36m__new__\u001b[0;34m(cls, data, dtype, copy, name, fastpath, tupleize_cols, **kwargs)\u001b[0m\n\u001b[1;32m    291\u001b[0m                          **kwargs)\n\u001b[1;32m    292\u001b[0m         \u001b[1;32melif\u001b[0m \u001b[0mdata\u001b[0m \u001b[1;32mis\u001b[0m \u001b[1;32mNone\u001b[0m \u001b[1;32mor\u001b[0m \u001b[0mis_scalar\u001b[0m\u001b[1;33m(\u001b[0m\u001b[0mdata\u001b[0m\u001b[1;33m)\u001b[0m\u001b[1;33m:\u001b[0m\u001b[1;33m\u001b[0m\u001b[0m\n\u001b[0;32m--> 293\u001b[0;31m             \u001b[0mcls\u001b[0m\u001b[1;33m.\u001b[0m\u001b[0m_scalar_data_error\u001b[0m\u001b[1;33m(\u001b[0m\u001b[0mdata\u001b[0m\u001b[1;33m)\u001b[0m\u001b[1;33m\u001b[0m\u001b[0m\n\u001b[0m\u001b[1;32m    294\u001b[0m         \u001b[1;32melse\u001b[0m\u001b[1;33m:\u001b[0m\u001b[1;33m\u001b[0m\u001b[0m\n\u001b[1;32m    295\u001b[0m             if (tupleize_cols and isinstance(data, list) and data and\n",
      "\u001b[0;32mC:\\ProgramData\\Anaconda3\\lib\\site-packages\\pandas\\indexes\\base.py\u001b[0m in \u001b[0;36m_scalar_data_error\u001b[0;34m(cls, data)\u001b[0m\n\u001b[1;32m    581\u001b[0m         raise TypeError('{0}(...) must be called with a collection of some '\n\u001b[1;32m    582\u001b[0m                         'kind, {1} was passed'.format(cls.__name__,\n\u001b[0;32m--> 583\u001b[0;31m                                                       repr(data)))\n\u001b[0m\u001b[1;32m    584\u001b[0m \u001b[1;33m\u001b[0m\u001b[0m\n\u001b[1;32m    585\u001b[0m     \u001b[1;33m@\u001b[0m\u001b[0mclassmethod\u001b[0m\u001b[1;33m\u001b[0m\u001b[0m\n",
      "\u001b[0;31mTypeError\u001b[0m: Index(...) must be called with a collection of some kind, 7 was passed"
     ]
    }
   ],
   "source": [
    "obj = Series([4,np.nan],7,np.nan,-1,2) #in series we can based on values, and np.nan means NULL Values"
   ]
  },
  {
   "cell_type": "code",
   "execution_count": 123,
   "metadata": {
    "collapsed": true
   },
   "outputs": [],
   "source": [
    "obj = Series([4,np.nan,7,np.nan,-1,2]) #in series we can based on values, and np.nan means NULL Values"
   ]
  },
  {
   "cell_type": "code",
   "execution_count": 124,
   "metadata": {
    "collapsed": false
   },
   "outputs": [
    {
     "data": {
      "text/plain": [
       "0    4.0\n",
       "1    NaN\n",
       "2    7.0\n",
       "3    NaN\n",
       "4   -1.0\n",
       "5    2.0\n",
       "dtype: float64"
      ]
     },
     "execution_count": 124,
     "metadata": {},
     "output_type": "execute_result"
    }
   ],
   "source": [
    "obj"
   ]
  },
  {
   "cell_type": "code",
   "execution_count": 125,
   "metadata": {
    "collapsed": false
   },
   "outputs": [
    {
     "data": {
      "text/plain": [
       "4   -1.0\n",
       "5    2.0\n",
       "0    4.0\n",
       "2    7.0\n",
       "1    NaN\n",
       "3    NaN\n",
       "dtype: float64"
      ]
     },
     "execution_count": 125,
     "metadata": {},
     "output_type": "execute_result"
    }
   ],
   "source": [
    "obj.sort_values()"
   ]
  },
  {
   "cell_type": "code",
   "execution_count": 126,
   "metadata": {
    "collapsed": true
   },
   "outputs": [],
   "source": [
    "#frame = DataFrame({'b' : [4,7,-3,2],'a':[0,1,0,1]})"
   ]
  },
  {
   "cell_type": "code",
   "execution_count": 127,
   "metadata": {
    "collapsed": false
   },
   "outputs": [
    {
     "data": {
      "text/html": [
       "<div>\n",
       "<table border=\"1\" class=\"dataframe\">\n",
       "  <thead>\n",
       "    <tr style=\"text-align: right;\">\n",
       "      <th></th>\n",
       "      <th>d</th>\n",
       "      <th>b</th>\n",
       "      <th>c</th>\n",
       "      <th>a</th>\n",
       "    </tr>\n",
       "  </thead>\n",
       "  <tbody>\n",
       "    <tr>\n",
       "      <th>three</th>\n",
       "      <td>0</td>\n",
       "      <td>1</td>\n",
       "      <td>2</td>\n",
       "      <td>3</td>\n",
       "    </tr>\n",
       "    <tr>\n",
       "      <th>one</th>\n",
       "      <td>4</td>\n",
       "      <td>5</td>\n",
       "      <td>6</td>\n",
       "      <td>7</td>\n",
       "    </tr>\n",
       "  </tbody>\n",
       "</table>\n",
       "</div>"
      ],
      "text/plain": [
       "       d  b  c  a\n",
       "three  0  1  2  3\n",
       "one    4  5  6  7"
      ]
     },
     "execution_count": 127,
     "metadata": {},
     "output_type": "execute_result"
    }
   ],
   "source": [
    "frame.sort_values(by='b')"
   ]
  },
  {
   "cell_type": "code",
   "execution_count": 128,
   "metadata": {
    "collapsed": false
   },
   "outputs": [
    {
     "data": {
      "text/html": [
       "<div>\n",
       "<table border=\"1\" class=\"dataframe\">\n",
       "  <thead>\n",
       "    <tr style=\"text-align: right;\">\n",
       "      <th></th>\n",
       "      <th>d</th>\n",
       "      <th>b</th>\n",
       "      <th>c</th>\n",
       "      <th>a</th>\n",
       "    </tr>\n",
       "  </thead>\n",
       "  <tbody>\n",
       "    <tr>\n",
       "      <th>three</th>\n",
       "      <td>0</td>\n",
       "      <td>1</td>\n",
       "      <td>2</td>\n",
       "      <td>3</td>\n",
       "    </tr>\n",
       "    <tr>\n",
       "      <th>one</th>\n",
       "      <td>4</td>\n",
       "      <td>5</td>\n",
       "      <td>6</td>\n",
       "      <td>7</td>\n",
       "    </tr>\n",
       "  </tbody>\n",
       "</table>\n",
       "</div>"
      ],
      "text/plain": [
       "       d  b  c  a\n",
       "three  0  1  2  3\n",
       "one    4  5  6  7"
      ]
     },
     "execution_count": 128,
     "metadata": {},
     "output_type": "execute_result"
    }
   ],
   "source": [
    "frame.sort_values(by = ['a','b'])"
   ]
  },
  {
   "cell_type": "code",
   "execution_count": 129,
   "metadata": {
    "collapsed": true
   },
   "outputs": [],
   "source": [
    "frame = DataFrame({'b' : [4,7,-3,2],'a':[0,1,0,1]})"
   ]
  },
  {
   "cell_type": "code",
   "execution_count": 130,
   "metadata": {
    "collapsed": false
   },
   "outputs": [
    {
     "data": {
      "text/html": [
       "<div>\n",
       "<table border=\"1\" class=\"dataframe\">\n",
       "  <thead>\n",
       "    <tr style=\"text-align: right;\">\n",
       "      <th></th>\n",
       "      <th>a</th>\n",
       "      <th>b</th>\n",
       "    </tr>\n",
       "  </thead>\n",
       "  <tbody>\n",
       "    <tr>\n",
       "      <th>2</th>\n",
       "      <td>0</td>\n",
       "      <td>-3</td>\n",
       "    </tr>\n",
       "    <tr>\n",
       "      <th>3</th>\n",
       "      <td>1</td>\n",
       "      <td>2</td>\n",
       "    </tr>\n",
       "    <tr>\n",
       "      <th>0</th>\n",
       "      <td>0</td>\n",
       "      <td>4</td>\n",
       "    </tr>\n",
       "    <tr>\n",
       "      <th>1</th>\n",
       "      <td>1</td>\n",
       "      <td>7</td>\n",
       "    </tr>\n",
       "  </tbody>\n",
       "</table>\n",
       "</div>"
      ],
      "text/plain": [
       "   a  b\n",
       "2  0 -3\n",
       "3  1  2\n",
       "0  0  4\n",
       "1  1  7"
      ]
     },
     "execution_count": 130,
     "metadata": {},
     "output_type": "execute_result"
    }
   ],
   "source": [
    "frame.sort_values(by='b')"
   ]
  },
  {
   "cell_type": "code",
   "execution_count": 131,
   "metadata": {
    "collapsed": false
   },
   "outputs": [
    {
     "data": {
      "text/html": [
       "<div>\n",
       "<table border=\"1\" class=\"dataframe\">\n",
       "  <thead>\n",
       "    <tr style=\"text-align: right;\">\n",
       "      <th></th>\n",
       "      <th>a</th>\n",
       "      <th>b</th>\n",
       "    </tr>\n",
       "  </thead>\n",
       "  <tbody>\n",
       "    <tr>\n",
       "      <th>2</th>\n",
       "      <td>0</td>\n",
       "      <td>-3</td>\n",
       "    </tr>\n",
       "    <tr>\n",
       "      <th>0</th>\n",
       "      <td>0</td>\n",
       "      <td>4</td>\n",
       "    </tr>\n",
       "    <tr>\n",
       "      <th>3</th>\n",
       "      <td>1</td>\n",
       "      <td>2</td>\n",
       "    </tr>\n",
       "    <tr>\n",
       "      <th>1</th>\n",
       "      <td>1</td>\n",
       "      <td>7</td>\n",
       "    </tr>\n",
       "  </tbody>\n",
       "</table>\n",
       "</div>"
      ],
      "text/plain": [
       "   a  b\n",
       "2  0 -3\n",
       "0  0  4\n",
       "3  1  2\n",
       "1  1  7"
      ]
     },
     "execution_count": 131,
     "metadata": {},
     "output_type": "execute_result"
    }
   ],
   "source": [
    "frame.sort_values(by = ['a','b'])"
   ]
  },
  {
   "cell_type": "markdown",
   "metadata": {},
   "source": [
    "# Summarizing and COmputing Descriptive Statistics"
   ]
  },
  {
   "cell_type": "code",
   "execution_count": 132,
   "metadata": {
    "collapsed": false
   },
   "outputs": [
    {
     "ename": "SyntaxError",
     "evalue": "invalid syntax (<ipython-input-132-9a41502eaef2>, line 1)",
     "output_type": "error",
     "traceback": [
      "\u001b[0;36m  File \u001b[0;32m\"<ipython-input-132-9a41502eaef2>\"\u001b[0;36m, line \u001b[0;32m1\u001b[0m\n\u001b[0;31m    df = DataFrame([[1.4,np.nan],[7.1,-4.5],[np.nan, np.nan],[o.75,-1.3]],\u001b[0m\n\u001b[0m                                                                 ^\u001b[0m\n\u001b[0;31mSyntaxError\u001b[0m\u001b[0;31m:\u001b[0m invalid syntax\n"
     ]
    }
   ],
   "source": [
    "df = DataFrame([[1.4,np.nan],[7.1,-4.5],[np.nan, np.nan],[o.75,-1.3]],\n",
    "              index = ['a','b','c','d'],\n",
    "              columns = ['one','two'])"
   ]
  },
  {
   "cell_type": "code",
   "execution_count": 133,
   "metadata": {
    "collapsed": true
   },
   "outputs": [],
   "source": [
    "df = DataFrame([[1.4,np.nan],[7.1,-4.5],[np.nan, np.nan],[0.75,-1.3]],\n",
    "              index = ['a','b','c','d'],\n",
    "              columns = ['one','two'])"
   ]
  },
  {
   "cell_type": "code",
   "execution_count": 134,
   "metadata": {
    "collapsed": false
   },
   "outputs": [
    {
     "data": {
      "text/html": [
       "<div>\n",
       "<table border=\"1\" class=\"dataframe\">\n",
       "  <thead>\n",
       "    <tr style=\"text-align: right;\">\n",
       "      <th></th>\n",
       "      <th>one</th>\n",
       "      <th>two</th>\n",
       "    </tr>\n",
       "  </thead>\n",
       "  <tbody>\n",
       "    <tr>\n",
       "      <th>a</th>\n",
       "      <td>1.40</td>\n",
       "      <td>NaN</td>\n",
       "    </tr>\n",
       "    <tr>\n",
       "      <th>b</th>\n",
       "      <td>7.10</td>\n",
       "      <td>-4.5</td>\n",
       "    </tr>\n",
       "    <tr>\n",
       "      <th>c</th>\n",
       "      <td>NaN</td>\n",
       "      <td>NaN</td>\n",
       "    </tr>\n",
       "    <tr>\n",
       "      <th>d</th>\n",
       "      <td>0.75</td>\n",
       "      <td>-1.3</td>\n",
       "    </tr>\n",
       "  </tbody>\n",
       "</table>\n",
       "</div>"
      ],
      "text/plain": [
       "    one  two\n",
       "a  1.40  NaN\n",
       "b  7.10 -4.5\n",
       "c   NaN  NaN\n",
       "d  0.75 -1.3"
      ]
     },
     "execution_count": 134,
     "metadata": {},
     "output_type": "execute_result"
    }
   ],
   "source": [
    "df"
   ]
  },
  {
   "cell_type": "code",
   "execution_count": 135,
   "metadata": {
    "collapsed": false
   },
   "outputs": [
    {
     "data": {
      "text/plain": [
       "one    9.25\n",
       "two   -5.80\n",
       "dtype: float64"
      ]
     },
     "execution_count": 135,
     "metadata": {},
     "output_type": "execute_result"
    }
   ],
   "source": [
    "df.sum() #summing columns"
   ]
  },
  {
   "cell_type": "code",
   "execution_count": 136,
   "metadata": {
    "collapsed": false
   },
   "outputs": [
    {
     "data": {
      "text/plain": [
       "a    1.40\n",
       "b    2.60\n",
       "c    0.00\n",
       "d   -0.55\n",
       "dtype: float64"
      ]
     },
     "execution_count": 136,
     "metadata": {},
     "output_type": "execute_result"
    }
   ],
   "source": [
    "df.sum(axis =1 ) #summing rows"
   ]
  },
  {
   "cell_type": "code",
   "execution_count": 137,
   "metadata": {
    "collapsed": false
   },
   "outputs": [
    {
     "data": {
      "text/plain": [
       "a      NaN\n",
       "b    1.300\n",
       "c      NaN\n",
       "d   -0.275\n",
       "dtype: float64"
      ]
     },
     "execution_count": 137,
     "metadata": {},
     "output_type": "execute_result"
    }
   ],
   "source": [
    "df.mean(axis = 1, skipna = False) #skip not available and exclude NA values and dont calculate mean for that row"
   ]
  },
  {
   "cell_type": "code",
   "execution_count": 138,
   "metadata": {
    "collapsed": false
   },
   "outputs": [
    {
     "data": {
      "text/plain": [
       "a    1.400\n",
       "b    1.300\n",
       "c      NaN\n",
       "d   -0.275\n",
       "dtype: float64"
      ]
     },
     "execution_count": 138,
     "metadata": {},
     "output_type": "execute_result"
    }
   ],
   "source": [
    "df.mean(axis = 1, skipna = True)"
   ]
  },
  {
   "cell_type": "code",
   "execution_count": 139,
   "metadata": {
    "collapsed": false
   },
   "outputs": [
    {
     "data": {
      "text/plain": [
       "one    b\n",
       "two    d\n",
       "dtype: object"
      ]
     },
     "execution_count": 139,
     "metadata": {},
     "output_type": "execute_result"
    }
   ],
   "source": [
    "df.idxmax() #which column gives the maximum value"
   ]
  },
  {
   "cell_type": "code",
   "execution_count": 140,
   "metadata": {
    "collapsed": false
   },
   "outputs": [
    {
     "data": {
      "text/html": [
       "<div>\n",
       "<table border=\"1\" class=\"dataframe\">\n",
       "  <thead>\n",
       "    <tr style=\"text-align: right;\">\n",
       "      <th></th>\n",
       "      <th>one</th>\n",
       "      <th>two</th>\n",
       "    </tr>\n",
       "  </thead>\n",
       "  <tbody>\n",
       "    <tr>\n",
       "      <th>a</th>\n",
       "      <td>1.40</td>\n",
       "      <td>NaN</td>\n",
       "    </tr>\n",
       "    <tr>\n",
       "      <th>b</th>\n",
       "      <td>8.50</td>\n",
       "      <td>-4.5</td>\n",
       "    </tr>\n",
       "    <tr>\n",
       "      <th>c</th>\n",
       "      <td>NaN</td>\n",
       "      <td>NaN</td>\n",
       "    </tr>\n",
       "    <tr>\n",
       "      <th>d</th>\n",
       "      <td>9.25</td>\n",
       "      <td>-5.8</td>\n",
       "    </tr>\n",
       "  </tbody>\n",
       "</table>\n",
       "</div>"
      ],
      "text/plain": [
       "    one  two\n",
       "a  1.40  NaN\n",
       "b  8.50 -4.5\n",
       "c   NaN  NaN\n",
       "d  9.25 -5.8"
      ]
     },
     "execution_count": 140,
     "metadata": {},
     "output_type": "execute_result"
    }
   ],
   "source": [
    "df.cumsum()"
   ]
  },
  {
   "cell_type": "code",
   "execution_count": 141,
   "metadata": {
    "collapsed": false
   },
   "outputs": [
    {
     "data": {
      "text/html": [
       "<div>\n",
       "<table border=\"1\" class=\"dataframe\">\n",
       "  <thead>\n",
       "    <tr style=\"text-align: right;\">\n",
       "      <th></th>\n",
       "      <th>one</th>\n",
       "      <th>two</th>\n",
       "    </tr>\n",
       "  </thead>\n",
       "  <tbody>\n",
       "    <tr>\n",
       "      <th>count</th>\n",
       "      <td>3.000000</td>\n",
       "      <td>2.000000</td>\n",
       "    </tr>\n",
       "    <tr>\n",
       "      <th>mean</th>\n",
       "      <td>3.083333</td>\n",
       "      <td>-2.900000</td>\n",
       "    </tr>\n",
       "    <tr>\n",
       "      <th>std</th>\n",
       "      <td>3.493685</td>\n",
       "      <td>2.262742</td>\n",
       "    </tr>\n",
       "    <tr>\n",
       "      <th>min</th>\n",
       "      <td>0.750000</td>\n",
       "      <td>-4.500000</td>\n",
       "    </tr>\n",
       "    <tr>\n",
       "      <th>25%</th>\n",
       "      <td>1.075000</td>\n",
       "      <td>-3.700000</td>\n",
       "    </tr>\n",
       "    <tr>\n",
       "      <th>50%</th>\n",
       "      <td>1.400000</td>\n",
       "      <td>-2.900000</td>\n",
       "    </tr>\n",
       "    <tr>\n",
       "      <th>75%</th>\n",
       "      <td>4.250000</td>\n",
       "      <td>-2.100000</td>\n",
       "    </tr>\n",
       "    <tr>\n",
       "      <th>max</th>\n",
       "      <td>7.100000</td>\n",
       "      <td>-1.300000</td>\n",
       "    </tr>\n",
       "  </tbody>\n",
       "</table>\n",
       "</div>"
      ],
      "text/plain": [
       "            one       two\n",
       "count  3.000000  2.000000\n",
       "mean   3.083333 -2.900000\n",
       "std    3.493685  2.262742\n",
       "min    0.750000 -4.500000\n",
       "25%    1.075000 -3.700000\n",
       "50%    1.400000 -2.900000\n",
       "75%    4.250000 -2.100000\n",
       "max    7.100000 -1.300000"
      ]
     },
     "execution_count": 141,
     "metadata": {},
     "output_type": "execute_result"
    }
   ],
   "source": [
    "df.describe()"
   ]
  },
  {
   "cell_type": "code",
   "execution_count": 142,
   "metadata": {
    "collapsed": true
   },
   "outputs": [],
   "source": [
    "obj = Series (['a','a','b','c']*4)"
   ]
  },
  {
   "cell_type": "code",
   "execution_count": 143,
   "metadata": {
    "collapsed": false
   },
   "outputs": [
    {
     "data": {
      "text/plain": [
       "count     16\n",
       "unique     3\n",
       "top        a\n",
       "freq       8\n",
       "dtype: object"
      ]
     },
     "execution_count": 143,
     "metadata": {},
     "output_type": "execute_result"
    }
   ],
   "source": [
    "obj.describe()"
   ]
  },
  {
   "cell_type": "code",
   "execution_count": 144,
   "metadata": {
    "collapsed": false
   },
   "outputs": [
    {
     "data": {
      "text/plain": [
       "0     a\n",
       "1     a\n",
       "2     b\n",
       "3     c\n",
       "4     a\n",
       "5     a\n",
       "6     b\n",
       "7     c\n",
       "8     a\n",
       "9     a\n",
       "10    b\n",
       "11    c\n",
       "12    a\n",
       "13    a\n",
       "14    b\n",
       "15    c\n",
       "dtype: object"
      ]
     },
     "execution_count": 144,
     "metadata": {},
     "output_type": "execute_result"
    }
   ],
   "source": [
    "obj"
   ]
  },
  {
   "cell_type": "markdown",
   "metadata": {},
   "source": [
    "# Correlation and Covariance"
   ]
  },
  {
   "cell_type": "code",
   "execution_count": 145,
   "metadata": {
    "collapsed": false
   },
   "outputs": [
    {
     "ename": "ImportError",
     "evalue": "The pandas.io.data module is moved to a separate package (pandas-datareader). After installing the pandas-datareader package (https://github.com/pandas-dev/pandas-datareader), you can change the import ``from pandas.io import data, wb`` to ``from pandas_datareader import data, wb``.",
     "output_type": "error",
     "traceback": [
      "\u001b[0;31m---------------------------------------------------------------------------\u001b[0m",
      "\u001b[0;31mImportError\u001b[0m                               Traceback (most recent call last)",
      "\u001b[0;32m<ipython-input-145-5f115002d3f2>\u001b[0m in \u001b[0;36m<module>\u001b[0;34m()\u001b[0m\n\u001b[0;32m----> 1\u001b[0;31m \u001b[1;32mimport\u001b[0m \u001b[0mpandas\u001b[0m\u001b[1;33m.\u001b[0m\u001b[0mio\u001b[0m\u001b[1;33m.\u001b[0m\u001b[0mdata\u001b[0m \u001b[1;32mas\u001b[0m \u001b[0mweb\u001b[0m\u001b[1;33m\u001b[0m\u001b[0m\n\u001b[0m",
      "\u001b[0;32mC:\\ProgramData\\Anaconda3\\lib\\site-packages\\pandas\\io\\data.py\u001b[0m in \u001b[0;36m<module>\u001b[0;34m()\u001b[0m\n\u001b[1;32m      1\u001b[0m raise ImportError(\n\u001b[0;32m----> 2\u001b[0;31m     \u001b[1;34m\"The pandas.io.data module is moved to a separate package \"\u001b[0m\u001b[1;33m\u001b[0m\u001b[0m\n\u001b[0m\u001b[1;32m      3\u001b[0m     \u001b[1;34m\"(pandas-datareader). After installing the pandas-datareader package \"\u001b[0m\u001b[1;33m\u001b[0m\u001b[0m\n\u001b[1;32m      4\u001b[0m     \u001b[1;34m\"(https://github.com/pandas-dev/pandas-datareader), you can change \"\u001b[0m\u001b[1;33m\u001b[0m\u001b[0m\n\u001b[1;32m      5\u001b[0m     \u001b[1;34m\"the import ``from pandas.io import data, wb`` to \"\u001b[0m\u001b[1;33m\u001b[0m\u001b[0m\n",
      "\u001b[0;31mImportError\u001b[0m: The pandas.io.data module is moved to a separate package (pandas-datareader). After installing the pandas-datareader package (https://github.com/pandas-dev/pandas-datareader), you can change the import ``from pandas.io import data, wb`` to ``from pandas_datareader import data, wb``."
     ]
    }
   ],
   "source": [
    "import pandas.io.data as web"
   ]
  },
  {
   "cell_type": "code",
   "execution_count": 1,
   "metadata": {
    "collapsed": false
   },
   "outputs": [
    {
     "ename": "SyntaxError",
     "evalue": "invalid syntax (<ipython-input-1-c4074e5146ce>, line 1)",
     "output_type": "error",
     "traceback": [
      "\u001b[0;36m  File \u001b[0;32m\"<ipython-input-1-c4074e5146ce>\"\u001b[0;36m, line \u001b[0;32m1\u001b[0m\n\u001b[0;31m    import pandas-reader.io.data as web\u001b[0m\n\u001b[0m                 ^\u001b[0m\n\u001b[0;31mSyntaxError\u001b[0m\u001b[0;31m:\u001b[0m invalid syntax\n"
     ]
    }
   ],
   "source": [
    "import pandas-reader.io.data as web"
   ]
  },
  {
   "cell_type": "code",
   "execution_count": 2,
   "metadata": {
    "collapsed": true
   },
   "outputs": [],
   "source": [
    "from pandas_datareader import data as web"
   ]
  },
  {
   "cell_type": "code",
   "execution_count": 3,
   "metadata": {
    "collapsed": true
   },
   "outputs": [],
   "source": [
    "all_data = {}"
   ]
  },
  {
   "cell_type": "code",
   "execution_count": 4,
   "metadata": {
    "collapsed": false
   },
   "outputs": [],
   "source": [
    "for ticker in ['AAPL','IBM','MSFT','GOOG']:\n",
    "    all_data[ticker] = web.get_data_yahoo(ticker, '1/1/2000','1/1/2010')"
   ]
  },
  {
   "cell_type": "code",
   "execution_count": 5,
   "metadata": {
    "collapsed": false
   },
   "outputs": [
    {
     "data": {
      "text/plain": [
       "{'AAPL':                   Open        High         Low       Close     Volume  \\\n",
       " Date                                                                    \n",
       " 2000-01-03  104.874997  112.499998  101.687501  111.937502  133949200   \n",
       " 2000-01-04  108.250001  110.625002  101.187503  102.500003  128094400   \n",
       " 2000-01-05  103.749998  110.562497  103.000001  103.999997  194580400   \n",
       " 2000-01-06  106.124999  106.999999   94.999998   94.999998  191993200   \n",
       " 2000-01-07   96.499999  101.000002   95.500003   99.500001  115183600   \n",
       " 2000-01-10  101.999998  102.249997   94.749999   97.750001  126266000   \n",
       " 2000-01-11   95.937503   99.374998   90.500002   92.750000  110387200   \n",
       " 2000-01-12   94.999998   95.500003   86.499997   87.187503  244017200   \n",
       " 2000-01-13   94.484299   98.749997   92.500001   96.749998  258171200   \n",
       " 2000-01-14   99.999999  102.249997   99.374998  100.437499   97594000   \n",
       " 2000-01-18  101.000002  106.000003  100.437499  103.937499  114794400   \n",
       " 2000-01-19  105.625001  108.749999  103.375003  106.562499  149410800   \n",
       " 2000-01-20  115.500000  121.500004  113.499994  113.499994  457783200   \n",
       " 2000-01-21  114.249998  114.249998  110.187502  111.312501  123981200   \n",
       " 2000-01-24  108.437502  112.750004  105.125003  106.250002  110219200   \n",
       " 2000-01-25  105.000000  113.125006  102.375000  112.250006  124286400   \n",
       " 2000-01-26  110.000001  114.187500  109.750002  110.187502   91789600   \n",
       " 2000-01-27  108.812497  112.999996  106.999999  110.000001   85036000   \n",
       " 2000-01-28  108.187503  110.875001  100.625000  101.625003  105837200   \n",
       " 2000-01-31  101.000002  103.875001   94.500000  103.749998  175420000   \n",
       " 2000-02-01  103.999997  105.000000   99.999999  100.249998   79508800   \n",
       " 2000-02-02  100.750003  102.125001   96.999997   98.812502  116048800   \n",
       " 2000-02-03  100.312503  104.250003  100.249998  103.312498  118798400   \n",
       " 2000-02-04  103.937499  110.000001  103.625002  108.000002  106330000   \n",
       " 2000-02-07  108.000002  114.249998  105.937498  114.062504  110266800   \n",
       " 2000-02-08  114.000006  116.124994  111.250003  114.875006  102160800   \n",
       " 2000-02-09  114.125002  117.125004  112.437500  112.624994   74841200   \n",
       " 2000-02-10  112.875000  113.874996  110.000001  113.499994   75745600   \n",
       " 2000-02-11  113.625004  114.125002  108.250001  108.749999   53062800   \n",
       " 2000-02-14  109.312502  115.875002  108.625003  115.812504   91884800   \n",
       " ...                ...         ...         ...         ...        ...   \n",
       " 2009-11-18  206.540001  206.999998  203.999996  205.960001   93580200   \n",
       " 2009-11-19  204.609997  204.609997  199.799994  200.509996  135581600   \n",
       " 2009-11-20  199.150005  200.389994  197.760000  199.919996  101666600   \n",
       " 2009-11-23  203.000000  206.000002  202.949999  205.879999  118724200   \n",
       " 2009-11-24  205.330000  205.879999  202.899998  204.440006   79609600   \n",
       " 2009-11-25  205.400002  205.649994  203.760004  204.190001   71613500   \n",
       " 2009-11-27  199.219994  202.959999  198.370001  200.589998   73814300   \n",
       " 2009-11-30  201.109997  201.679996  198.769997  199.909996  106214500   \n",
       " 2009-12-01  202.239996  202.769995  196.830006  196.969995  116440800   \n",
       " 2009-12-02  198.960001  201.420004  195.749994  196.230005  178815000   \n",
       " 2009-12-03  197.420006  198.980001  196.270006  196.479998  112179900   \n",
       " 2009-12-04  199.700005  199.879995  190.280003  193.320005  206721200   \n",
       " 2009-12-07  193.320005  193.770002  188.680006  188.949999  178689700   \n",
       " 2009-12-08  189.359995  192.349997  188.700006  189.870007  172599700   \n",
       " 2009-12-09  191.279999  198.159996  190.310003  197.800001  171195500   \n",
       " 2009-12-10  199.500000  199.700005  196.120003  196.429996  122417400   \n",
       " 2009-12-11  197.780001  198.000006  193.429995  194.669996  107443700   \n",
       " 2009-12-14  195.369999  197.430006  192.560001  196.979996  123947600   \n",
       " 2009-12-15  195.829996  197.509995  193.270004  194.169998  104864900   \n",
       " 2009-12-16  195.100006  196.499998  194.549994  195.030005   88246200   \n",
       " 2009-12-17  194.260000  195.000004  191.000006  191.859999   97209700   \n",
       " 2009-12-18  193.170002  195.500002  192.600002  195.430000  152192600   \n",
       " 2009-12-21  196.050001  199.750006  195.670006  198.229998  152976600   \n",
       " 2009-12-22  199.439999  200.850004  198.659994  200.360006   87378900   \n",
       " 2009-12-23  201.199999  202.379999  200.810003  202.100006   86381400   \n",
       " 2009-12-24  203.549999  209.349998  203.349995  209.040005  125222300   \n",
       " 2009-12-28  211.719999  213.949997  209.610004  211.609997  161141400   \n",
       " 2009-12-29  212.629993  212.719995  208.729998  209.100006  111301400   \n",
       " 2009-12-30  208.830000  212.000006  208.310001  211.639997  103021100   \n",
       " 2009-12-31  213.130005  213.349997  210.559999  210.730003   88102700   \n",
       " \n",
       "             Adj Close  \n",
       " Date                   \n",
       " 2000-01-03   3.625643  \n",
       " 2000-01-04   3.319964  \n",
       " 2000-01-05   3.368548  \n",
       " 2000-01-06   3.077039  \n",
       " 2000-01-07   3.222794  \n",
       " 2000-01-10   3.166112  \n",
       " 2000-01-11   3.004162  \n",
       " 2000-01-12   2.823993  \n",
       " 2000-01-13   3.133722  \n",
       " 2000-01-14   3.253159  \n",
       " 2000-01-18   3.366524  \n",
       " 2000-01-19   3.451547  \n",
       " 2000-01-20   3.676252  \n",
       " 2000-01-21   3.605399  \n",
       " 2000-01-24   3.441426  \n",
       " 2000-01-25   3.635765  \n",
       " 2000-01-26   3.568961  \n",
       " 2000-01-27   3.562888  \n",
       " 2000-01-28   3.291622  \n",
       " 2000-01-31   3.360451  \n",
       " 2000-02-01   3.247086  \n",
       " 2000-02-02   3.200526  \n",
       " 2000-02-03   3.346280  \n",
       " 2000-02-04   3.498108  \n",
       " 2000-02-07   3.694472  \n",
       " 2000-02-08   3.720789  \n",
       " 2000-02-09   3.647911  \n",
       " 2000-02-10   3.676252  \n",
       " 2000-02-11   3.522400  \n",
       " 2000-02-14   3.751154  \n",
       " ...               ...  \n",
       " 2009-11-18  26.684085  \n",
       " 2009-11-19  25.977985  \n",
       " 2009-11-20  25.901545  \n",
       " 2009-11-23  26.673720  \n",
       " 2009-11-24  26.487155  \n",
       " 2009-11-25  26.454765  \n",
       " 2009-11-27  25.988350  \n",
       " 2009-11-30  25.900249  \n",
       " 2009-12-01  25.519344  \n",
       " 2009-12-02  25.423471  \n",
       " 2009-12-03  25.455860  \n",
       " 2009-12-04  25.046453  \n",
       " 2009-12-07  24.480277  \n",
       " 2009-12-08  24.599473  \n",
       " 2009-12-09  25.626879  \n",
       " 2009-12-10  25.449382  \n",
       " 2009-12-11  25.221357  \n",
       " 2009-12-14  25.520640  \n",
       " 2009-12-15  25.156578  \n",
       " 2009-12-16  25.268000  \n",
       " 2009-12-17  24.857295  \n",
       " 2009-12-18  25.319823  \n",
       " 2009-12-21  25.682589  \n",
       " 2009-12-22  25.958552  \n",
       " 2009-12-23  26.183986  \n",
       " 2009-12-24  27.083129  \n",
       " 2009-12-28  27.416096  \n",
       " 2009-12-29  27.090903  \n",
       " 2009-12-30  27.419983  \n",
       " 2009-12-31  27.302085  \n",
       " \n",
       " [2515 rows x 6 columns],\n",
       " 'GOOG':                   Open        High         Low       Close    Volume  \\\n",
       " Date                                                                   \n",
       " 2004-08-19  100.000168  104.060182   95.960165  100.340176  44871300   \n",
       " 2004-08-20  101.010175  109.080187  100.500174  108.310183  22942800   \n",
       " 2004-08-23  110.750191  113.480193  109.050183  109.400185  18342800   \n",
       " 2004-08-24  111.240189  111.600192  103.570177  104.870176  15319700   \n",
       " 2004-08-25  104.960181  108.000187  103.880180  106.000184   9232100   \n",
       " 2004-08-26  104.950180  107.950188  104.660179  107.910182   7128600   \n",
       " 2004-08-27  108.100185  108.620186  105.690180  106.150181   6241200   \n",
       " 2004-08-30  105.280178  105.490184  102.010172  102.010172   5221400   \n",
       " 2004-08-31  102.300173  103.710180  102.160177  102.370175   4941200   \n",
       " 2004-09-01  102.700174  102.970180   99.670169  100.250171   9181600   \n",
       " 2004-09-02   99.190173  102.370175   98.940170  101.510173  15190400   \n",
       " 2004-09-03  100.950174  101.740174   99.320168  100.010169   5176800   \n",
       " 2004-09-07  101.010175  102.000178   99.610169  101.580175   5875200   \n",
       " 2004-09-08  100.740176  103.030180  100.500174  102.300173   5009200   \n",
       " 2004-09-09  102.530174  102.710175  101.000173  102.310174   4080900   \n",
       " 2004-09-10  101.600178  106.560183  101.300176  105.330177   8740200   \n",
       " 2004-09-13  106.630185  108.410189  106.460185  107.500188   7881300   \n",
       " 2004-09-14  107.450181  112.000192  106.790184  111.490192  10880300   \n",
       " 2004-09-15  110.560189  114.230195  110.200186  112.000192  10763900   \n",
       " 2004-09-16  112.340192  115.800201  111.650191  113.970198   9310200   \n",
       " 2004-09-17  114.420198  117.490200  113.550195  117.490200   9517400   \n",
       " 2004-09-20  116.950204  121.600205  116.770202  119.360208  10679200   \n",
       " 2004-09-21  119.810208  120.420206  117.510203  117.840202   7263000   \n",
       " 2004-09-22  117.400203  119.670204  116.810200  118.380206   7617100   \n",
       " 2004-09-23  118.840207  122.630207  117.020198  120.820207   8576100   \n",
       " 2004-09-24  120.940208  124.100214  119.760209  119.830203   9166700   \n",
       " 2004-09-27  119.560205  120.880207  117.800204  118.260205   7099600   \n",
       " 2004-09-28  121.300211  127.400217  120.210209  126.860221  17009400   \n",
       " 2004-09-29  126.700214  135.020238  126.230220  131.080225  30661400   \n",
       " 2004-09-30  129.900219  132.300222  129.000219  129.600224  13823300   \n",
       " ...                ...         ...         ...         ...       ...   \n",
       " 2009-11-18  576.650986  578.781014  572.071009  576.650986   3110700   \n",
       " 2009-11-19  573.770964  574.001010  570.000959  572.991012   4352200   \n",
       " 2009-11-20  569.500983  571.600992  569.401000  569.960954   4027400   \n",
       " 2009-11-23  576.490965  586.601001  575.860987  582.350992   5114000   \n",
       " 2009-11-24  582.521000  584.290979  576.541017  583.091001   3222400   \n",
       " 2009-11-25  586.411021  587.061033  582.691008  585.740976   2933300   \n",
       " 2009-11-27  572.000985  582.461022  570.970952  579.760994   2779500   \n",
       " 2009-11-30  580.631004  583.670987  577.111018  583.001004   3463000   \n",
       " 2009-12-01  588.131009  591.220983  583.001004  589.871030   4657900   \n",
       " 2009-12-02  591.000984  593.010996  586.220980  587.511017   3338800   \n",
       " 2009-12-03  589.041025  591.451030  585.001029  585.740976   2868000   \n",
       " 2009-12-04  593.021043  594.831028  579.181007  585.011015   5046000   \n",
       " 2009-12-07  584.211030  588.691024  581.000978  586.250999   3284500   \n",
       " 2009-12-08  583.500979  590.661030  582.000991  587.050985   3059300   \n",
       " 2009-12-09  587.501031  589.330988  583.580990  589.020992   3575200   \n",
       " 2009-12-10  590.441031  594.711011  590.411011  591.501021   3349000   \n",
       " 2009-12-11  594.680992  594.751017  587.731016  590.510994   3452800   \n",
       " 2009-12-14  595.351037  597.310996  592.611003  595.730996   3841100   \n",
       " 2009-12-15  593.301020  596.381008  590.990998  593.140998   4577800   \n",
       " 2009-12-16  598.601033  600.371012  596.641012  597.761042   5639800   \n",
       " 2009-12-17  596.441047  597.641025  593.760990  593.941045   5297300   \n",
       " 2009-12-18  596.031006  598.931001  595.001035  596.421013   7089400   \n",
       " 2009-12-21  597.611006  599.841017  595.671019  598.681044   5161600   \n",
       " 2009-12-22  601.341005  601.501027  598.851051  601.121006   3775600   \n",
       " 2009-12-23  603.501053  612.871081  602.851041  611.681027   4160800   \n",
       " 2009-12-24  612.931058  619.521047  612.271061  618.481090   1723800   \n",
       " 2009-12-28  621.661061  625.991080  618.481090  622.871087   3408400   \n",
       " 2009-12-29  624.741049  624.841093  618.291049  619.401092   2860200   \n",
       " 2009-12-30  618.501062  622.731037  618.011072  622.731037   2942100   \n",
       " 2009-12-31  624.751096  625.401047  619.981079  619.981079   2448700   \n",
       " \n",
       "              Adj Close  \n",
       " Date                    \n",
       " 2004-08-19   50.119968  \n",
       " 2004-08-20   54.100990  \n",
       " 2004-08-23   54.645447  \n",
       " 2004-08-24   52.382705  \n",
       " 2004-08-25   52.947145  \n",
       " 2004-08-26   53.901190  \n",
       " 2004-08-27   53.022069  \n",
       " 2004-08-30   50.954132  \n",
       " 2004-08-31   51.133953  \n",
       " 2004-09-01   50.075011  \n",
       " 2004-09-02   50.704382  \n",
       " 2004-09-03   49.955130  \n",
       " 2004-09-07   50.739348  \n",
       " 2004-09-08   51.098988  \n",
       " 2004-09-09   51.103983  \n",
       " 2004-09-10   52.612476  \n",
       " 2004-09-13   53.696398  \n",
       " 2004-09-14   55.689407  \n",
       " 2004-09-15   55.944152  \n",
       " 2004-09-16   56.928171  \n",
       " 2004-09-17   58.686414  \n",
       " 2004-09-20   59.620484  \n",
       " 2004-09-21   58.861240  \n",
       " 2004-09-22   59.130972  \n",
       " 2004-09-23   60.349754  \n",
       " 2004-09-24   59.855246  \n",
       " 2004-09-27   59.071031  \n",
       " 2004-09-28   63.366744  \n",
       " 2004-09-29   65.474638  \n",
       " 2004-09-30   64.735377  \n",
       " ...                ...  \n",
       " 2009-11-18  288.037456  \n",
       " 2009-11-19  286.209296  \n",
       " 2009-11-20  284.695781  \n",
       " 2009-11-23  290.884611  \n",
       " 2009-11-24  291.254246  \n",
       " 2009-11-25  292.577910  \n",
       " 2009-11-27  289.590906  \n",
       " 2009-11-30  291.209293  \n",
       " 2009-12-01  294.640874  \n",
       " 2009-12-02  293.462046  \n",
       " 2009-12-03  292.577910  \n",
       " 2009-12-04  292.213294  \n",
       " 2009-12-07  292.832667  \n",
       " 2009-12-08  293.232260  \n",
       " 2009-12-09  294.216280  \n",
       " 2009-12-10  295.455055  \n",
       " 2009-12-11  294.960537  \n",
       " 2009-12-14  297.567930  \n",
       " 2009-12-15  296.274225  \n",
       " 2009-12-16  298.581939  \n",
       " 2009-12-17  296.673849  \n",
       " 2009-12-18  297.912594  \n",
       " 2009-12-21  299.041480  \n",
       " 2009-12-22  300.260243  \n",
       " 2009-12-23  305.534978  \n",
       " 2009-12-24  308.931613  \n",
       " 2009-12-28  311.124419  \n",
       " 2009-12-29  309.391155  \n",
       " 2009-12-30  311.054464  \n",
       " 2009-12-31  309.680858  \n",
       " \n",
       " [1353 rows x 6 columns],\n",
       " 'IBM':                   Open        High         Low       Close    Volume  \\\n",
       " Date                                                                   \n",
       " 2000-01-03  112.437500  116.000000  111.875000  116.000000  10347700   \n",
       " 2000-01-04  114.000000  114.500000  110.875000  112.062500   8227800   \n",
       " 2000-01-05  112.937500  119.750000  112.125000  116.000000  12733200   \n",
       " 2000-01-06  118.000000  118.937500  113.500000  114.000000   7971900   \n",
       " 2000-01-07  117.250000  117.937500  110.625000  113.500000  11856700   \n",
       " 2000-01-10  117.250000  119.375000  115.375000  118.000000   8540500   \n",
       " 2000-01-11  117.875000  121.125000  116.625000  119.000000   7873300   \n",
       " 2000-01-12  119.625000  122.000000  118.250000  119.500000   6803800   \n",
       " 2000-01-13  119.937500  121.000000  115.750000  118.250000   8489700   \n",
       " 2000-01-14  120.937500  123.312500  117.500000  119.625000  10956600   \n",
       " 2000-01-18  119.687500  119.750000  115.000000  115.750000   7643900   \n",
       " 2000-01-19  115.562500  122.000000  112.687500  119.500000   8634500   \n",
       " 2000-01-20  123.000000  124.750000  119.000000  119.000000  17783400   \n",
       " 2000-01-21  121.875000  123.000000  119.937500  121.500000   7868700   \n",
       " 2000-01-24  121.875000  122.875000  116.562500  121.500000   6499200   \n",
       " 2000-01-25  116.750000  119.500000  116.000000  119.125000   6936900   \n",
       " 2000-01-26  119.062500  119.937500  116.000000  116.750000   4895100   \n",
       " 2000-01-27  118.000000  118.437500  111.625000  113.500000   8324600   \n",
       " 2000-01-28  112.750000  114.187500  110.062500  111.562500   6669400   \n",
       " 2000-01-31  111.375000  112.812500  109.625000  112.250000   6202700   \n",
       " 2000-02-01  112.375000  113.437500  109.125000  110.000000   7304700   \n",
       " 2000-02-02  112.000000  115.812500  110.375000  113.500000   7707700   \n",
       " 2000-02-03  115.000000  117.500000  114.062500  117.125000   6213800   \n",
       " 2000-02-04  118.187500  118.437500  114.812500  115.625000   5405300   \n",
       " 2000-02-07  116.000000  116.875000  113.125000  114.125000   5779500   \n",
       " 2000-02-08  116.937500  119.000000  116.187500  118.812500   5464300   \n",
       " 2000-02-09  119.000000  119.750000  117.000000  117.375000   5374700   \n",
       " 2000-02-10  117.687500  119.125000  116.875000  119.125000   4446600   \n",
       " 2000-02-11  119.062500  119.437500  114.562500  115.375000   5749400   \n",
       " 2000-02-14  116.000000  116.375000  114.500000  116.062500   4544000   \n",
       " ...                ...         ...         ...         ...       ...   \n",
       " 2009-11-18  128.050003  128.350006  127.550003  128.149994   3970100   \n",
       " 2009-11-19  127.279999  127.839996  126.510002  127.540001   5308400   \n",
       " 2009-11-20  127.169998  127.690002  126.459999  126.959999   5354200   \n",
       " 2009-11-23  127.699997  128.940002  127.650002  128.199997   7003500   \n",
       " 2009-11-24  127.900002  128.320007  127.139999  127.930000   4816500   \n",
       " 2009-11-25  127.879997  128.220001  127.080002  127.279999   3967700   \n",
       " 2009-11-27  124.589996  126.620003  124.260002  125.699997   3319200   \n",
       " 2009-11-30  125.120003  126.599998  124.919998  126.349998   6302700   \n",
       " 2009-12-01  127.290001  128.389999  126.849998  127.940002   6578600   \n",
       " 2009-12-02  127.320000  128.389999  127.160004  127.209999   4597900   \n",
       " 2009-12-03  127.599998  128.470001  127.250000  127.550003   5760000   \n",
       " 2009-12-04  128.399994  128.899994  126.000000  127.250000   7068500   \n",
       " 2009-12-07  126.879997  127.529999  126.589996  127.040001   4144400   \n",
       " 2009-12-08  126.970001  127.349998  126.160004  126.800003   5351400   \n",
       " 2009-12-09  126.699997  128.389999  126.110001  128.389999   6071900   \n",
       " 2009-12-10  128.130005  129.470001  128.089996  129.339996   7077800   \n",
       " 2009-12-11  129.009995  129.770004  128.710007  129.679993   6597200   \n",
       " 2009-12-14  129.649994  129.979996  129.600006  129.929993   5201300   \n",
       " 2009-12-15  129.460007  129.860001  127.940002  128.490005   7862600   \n",
       " 2009-12-16  128.740005  129.600006  128.350006  128.710007   6372500   \n",
       " 2009-12-17  128.000000  128.559998  127.120003  127.400002   5909500   \n",
       " 2009-12-18  127.970001  128.389999  127.000000  127.910004   9106600   \n",
       " 2009-12-21  127.800003  128.940002  127.680000  128.649994   4772500   \n",
       " 2009-12-22  129.300003  129.979996  129.190002  129.929993   5535500   \n",
       " 2009-12-23  129.699997  130.000000  129.300003  130.000000   4127600   \n",
       " 2009-12-24  129.889999  130.570007  129.479996  130.570007   4265100   \n",
       " 2009-12-28  130.990005  132.309998  130.720001  132.309998   5800400   \n",
       " 2009-12-29  132.279999  132.369995  131.800003  131.850006   4184200   \n",
       " 2009-12-30  131.229996  132.679993  130.679993  132.570007   3867000   \n",
       " 2009-12-31  132.410004  132.850006  130.750000  130.899994   4223400   \n",
       " \n",
       "              Adj Close  \n",
       " Date                    \n",
       " 2000-01-03   87.761136  \n",
       " 2000-01-04   84.782175  \n",
       " 2000-01-05   87.761136  \n",
       " 2000-01-06   86.248013  \n",
       " 2000-01-07   85.869732  \n",
       " 2000-01-10   89.274259  \n",
       " 2000-01-11   90.030821  \n",
       " 2000-01-12   90.409101  \n",
       " 2000-01-13   89.463399  \n",
       " 2000-01-14   90.503672  \n",
       " 2000-01-18   87.571996  \n",
       " 2000-01-19   90.409101  \n",
       " 2000-01-20   90.030821  \n",
       " 2000-01-21   91.922224  \n",
       " 2000-01-24   91.922224  \n",
       " 2000-01-25   90.125391  \n",
       " 2000-01-26   88.328557  \n",
       " 2000-01-27   85.869732  \n",
       " 2000-01-28   84.403894  \n",
       " 2000-01-31   84.924030  \n",
       " 2000-02-01   83.221767  \n",
       " 2000-02-02   85.869732  \n",
       " 2000-02-03   88.612268  \n",
       " 2000-02-04   87.477425  \n",
       " 2000-02-07   86.342583  \n",
       " 2000-02-08   89.983585  \n",
       " 2000-02-09   88.894883  \n",
       " 2000-02-10   90.220259  \n",
       " 2000-02-11   87.380167  \n",
       " 2000-02-14   87.900851  \n",
       " ...                ...  \n",
       " 2009-11-18  107.788225  \n",
       " 2009-11-19  107.275154  \n",
       " 2009-11-20  106.787309  \n",
       " 2009-11-23  107.830283  \n",
       " 2009-11-24  107.603186  \n",
       " 2009-11-25  107.056463  \n",
       " 2009-11-27  105.727508  \n",
       " 2009-11-30  106.274231  \n",
       " 2009-12-01  107.611599  \n",
       " 2009-12-02  106.997586  \n",
       " 2009-12-03  107.283567  \n",
       " 2009-12-04  107.031231  \n",
       " 2009-12-07  106.854599  \n",
       " 2009-12-08  106.652734  \n",
       " 2009-12-09  107.990096  \n",
       " 2009-12-10  108.789148  \n",
       " 2009-12-11  109.075122  \n",
       " 2009-12-14  109.285399  \n",
       " 2009-12-15  108.074212  \n",
       " 2009-12-16  108.259257  \n",
       " 2009-12-17  107.157399  \n",
       " 2009-12-18  107.586367  \n",
       " 2009-12-21  108.208780  \n",
       " 2009-12-22  109.285399  \n",
       " 2009-12-23  109.344283  \n",
       " 2009-12-24  109.823722  \n",
       " 2009-12-28  111.287245  \n",
       " 2009-12-29  110.900342  \n",
       " 2009-12-30  111.505942  \n",
       " 2009-12-31  110.101277  \n",
       " \n",
       " [2515 rows x 6 columns],\n",
       " 'MSFT':                   Open        High         Low       Close     Volume  \\\n",
       " Date                                                                    \n",
       " 2000-01-03  117.375000  118.625000  112.000000  116.562500   53228400   \n",
       " 2000-01-04  113.562500  117.125000  112.250000  112.625000   54119000   \n",
       " 2000-01-05  111.125000  116.375000  109.375000  113.812500   64059600   \n",
       " 2000-01-06  112.187500  113.875000  108.375000  110.000000   54976600   \n",
       " 2000-01-07  108.625000  112.250000  107.312500  111.437500   62013600   \n",
       " 2000-01-10  113.437500  113.687500  111.375000  112.250000   44963600   \n",
       " 2000-01-11  111.500000  114.250000  108.687500  109.375000   46743600   \n",
       " 2000-01-12  108.500000  108.875000  104.437500  105.812500   66532400   \n",
       " 2000-01-13  104.375000  108.625000  101.500000  107.812500   83144000   \n",
       " 2000-01-14  107.187500  113.937500  105.750000  112.250000   73416400   \n",
       " 2000-01-18  111.812500  116.500000  111.750000  115.312500   81483600   \n",
       " 2000-01-19  110.500000  111.500000  106.000000  107.000000   97568200   \n",
       " 2000-01-20  107.062500  109.687500  105.875000  106.000000   56349800   \n",
       " 2000-01-21  107.000000  107.250000  103.250000  103.750000   68416200   \n",
       " 2000-01-24  103.796799  105.687500  100.812500  101.250000   63597600   \n",
       " 2000-01-25  101.000000  103.875000   99.562500  102.812500   59823200   \n",
       " 2000-01-26  102.437500  103.500000   99.125000   99.375000   49365000   \n",
       " 2000-01-27   99.890602  101.187500   97.250000   98.750000   63654800   \n",
       " 2000-01-28   98.125000  100.250000   97.250000   98.250000   58225400   \n",
       " 2000-01-31   97.625000   98.187500   94.875000   97.875000   73194200   \n",
       " 2000-02-01   98.500000  103.250000   97.687500  102.937500   70196600   \n",
       " 2000-02-02  102.437500  103.937500  100.500000  100.812500   49915600   \n",
       " 2000-02-03  102.062500  104.187500  100.125000  103.625000   49186000   \n",
       " 2000-02-04  104.375000  108.000000  104.140602  106.562500   55365400   \n",
       " 2000-02-07  106.812500  106.875000  104.250000  106.625000   40005800   \n",
       " 2000-02-08  106.437500  110.000000  106.437500  109.937500   56229000   \n",
       " 2000-02-09  109.437500  109.437500  103.875000  104.000000   55090000   \n",
       " 2000-02-10  103.890602  106.562500  102.500000  106.000000   54527800   \n",
       " 2000-02-11  104.875000  104.875000   99.125000   99.937500  115559000   \n",
       " 2000-02-14  101.234299  101.750000   99.062500   99.625000   81028600   \n",
       " ...                ...         ...         ...         ...        ...   \n",
       " 2009-11-18   30.000000   30.139999   29.809999   30.110001   59431200   \n",
       " 2009-11-19   29.990000   30.000000   29.700001   29.780001   51967700   \n",
       " 2009-11-20   29.660000   29.770000   29.430000   29.620001   42647100   \n",
       " 2009-11-23   29.840000   30.010000   29.700001   29.940001   41832700   \n",
       " 2009-11-24   29.950001   29.990000   29.750000   29.910000   37341400   \n",
       " 2009-11-25   29.809999   29.860001   29.580000   29.790001   32033500   \n",
       " 2009-11-27   29.110001   29.389999   28.750000   29.219999   29357900   \n",
       " 2009-11-30   29.150000   29.450001   29.000000   29.410000   44172000   \n",
       " 2009-12-01   29.520000   30.049999   29.410000   30.010000   49904200   \n",
       " 2009-12-02   29.900000   29.990000   29.650000   29.780001   36308600   \n",
       " 2009-12-03   29.840000   30.200001   29.760000   29.830000   43095200   \n",
       " 2009-12-04   30.049999   30.370001   29.830000   29.980000   58810700   \n",
       " 2009-12-07   29.780001   30.080000   29.680000   29.790001   38082700   \n",
       " 2009-12-08   29.520000   29.740000   29.379999   29.570000   37402200   \n",
       " 2009-12-09   29.469999   29.809999   29.250000   29.709999   44713300   \n",
       " 2009-12-10   29.709999   29.959999   29.660000   29.870001   45940200   \n",
       " 2009-12-11   29.969999   30.000000   29.790001   29.850000   43744200   \n",
       " 2009-12-14   29.910000   30.160000   29.900000   30.110001   34651200   \n",
       " 2009-12-15   29.889999   30.209999   29.879999   30.020000   49473200   \n",
       " 2009-12-16   30.070000   30.410000   30.040001   30.100000   55737800   \n",
       " 2009-12-17   29.950001   29.959999   29.570000   29.600000   43691200   \n",
       " 2009-12-18   29.840000   30.450001   29.799999   30.360001   94118000   \n",
       " 2009-12-21   30.400000   30.840000   30.370001   30.520000   40129100   \n",
       " 2009-12-22   30.600000   30.930000   30.540001   30.820000   36321000   \n",
       " 2009-12-23   30.709999   30.950001   30.690001   30.920000   28362700   \n",
       " 2009-12-24   30.879999   31.000000   30.760000   31.000000   11083900   \n",
       " 2009-12-28   31.000000   31.180000   30.889999   31.170000   25384000   \n",
       " 2009-12-29   31.350000   31.500000   31.230000   31.389999   29716200   \n",
       " 2009-12-30   31.150000   31.290001   30.799999   30.959999   42006200   \n",
       " 2009-12-31   30.980000   30.990000   30.480000   30.480000   31929700   \n",
       " \n",
       "             Adj Close  \n",
       " Date                   \n",
       " 2000-01-03  39.334630  \n",
       " 2000-01-04  38.005900  \n",
       " 2000-01-05  38.406628  \n",
       " 2000-01-06  37.120080  \n",
       " 2000-01-07  37.605172  \n",
       " 2000-01-10  37.879354  \n",
       " 2000-01-11  36.909170  \n",
       " 2000-01-12  35.706986  \n",
       " 2000-01-13  36.381897  \n",
       " 2000-01-14  37.879354  \n",
       " 2000-01-18  38.912811  \n",
       " 2000-01-19  36.107714  \n",
       " 2000-01-20  35.770259  \n",
       " 2000-01-21  35.010985  \n",
       " 2000-01-24  34.167346  \n",
       " 2000-01-25  34.694620  \n",
       " 2000-01-26  33.534618  \n",
       " 2000-01-27  33.323708  \n",
       " 2000-01-28  33.154981  \n",
       " 2000-01-31  33.028435  \n",
       " 2000-02-01  34.736802  \n",
       " 2000-02-02  34.019710  \n",
       " 2000-02-03  34.968803  \n",
       " 2000-02-04  35.960077  \n",
       " 2000-02-07  35.981168  \n",
       " 2000-02-08  37.098989  \n",
       " 2000-02-09  35.095348  \n",
       " 2000-02-10  35.770259  \n",
       " 2000-02-11  33.724436  \n",
       " 2000-02-14  33.618982  \n",
       " ...               ...  \n",
       " 2009-11-18  24.861895  \n",
       " 2009-11-19  24.589414  \n",
       " 2009-11-20  24.457301  \n",
       " 2009-11-23  24.721526  \n",
       " 2009-11-24  24.696754  \n",
       " 2009-11-25  24.597671  \n",
       " 2009-11-27  24.127019  \n",
       " 2009-11-30  24.283903  \n",
       " 2009-12-01  24.779325  \n",
       " 2009-12-02  24.589414  \n",
       " 2009-12-03  24.630698  \n",
       " 2009-12-04  24.754553  \n",
       " 2009-12-07  24.597671  \n",
       " 2009-12-08  24.416015  \n",
       " 2009-12-09  24.531613  \n",
       " 2009-12-10  24.663727  \n",
       " 2009-12-11  24.647212  \n",
       " 2009-12-14  24.861895  \n",
       " 2009-12-15  24.787582  \n",
       " 2009-12-16  24.853638  \n",
       " 2009-12-17  24.440787  \n",
       " 2009-12-18  25.068321  \n",
       " 2009-12-21  25.200433  \n",
       " 2009-12-22  25.448143  \n",
       " 2009-12-23  25.530714  \n",
       " 2009-12-24  25.596770  \n",
       " 2009-12-28  25.737139  \n",
       " 2009-12-29  25.918793  \n",
       " 2009-12-30  25.563741  \n",
       " 2009-12-31  25.167404  \n",
       " \n",
       " [2515 rows x 6 columns]}"
      ]
     },
     "execution_count": 5,
     "metadata": {},
     "output_type": "execute_result"
    }
   ],
   "source": [
    "all_data"
   ]
  },
  {
   "cell_type": "code",
   "execution_count": 150,
   "metadata": {
    "collapsed": false
   },
   "outputs": [
    {
     "ename": "NameError",
     "evalue": "name 'web' is not defined",
     "output_type": "error",
     "traceback": [
      "\u001b[0;31m---------------------------------------------------------------------------\u001b[0m",
      "\u001b[0;31mNameError\u001b[0m                                 Traceback (most recent call last)",
      "\u001b[0;32m<ipython-input-150-30ef2561e895>\u001b[0m in \u001b[0;36m<module>\u001b[0;34m()\u001b[0m\n\u001b[1;32m      1\u001b[0m \u001b[1;32mfor\u001b[0m \u001b[0mticker\u001b[0m \u001b[1;32min\u001b[0m \u001b[1;33m[\u001b[0m\u001b[1;34m'AAPL'\u001b[0m\u001b[1;33m,\u001b[0m\u001b[1;34m'IBM'\u001b[0m\u001b[1;33m,\u001b[0m\u001b[1;34m'MSFT'\u001b[0m\u001b[1;33m,\u001b[0m\u001b[1;34m'GOOG'\u001b[0m\u001b[1;33m]\u001b[0m\u001b[1;33m:\u001b[0m\u001b[1;33m\u001b[0m\u001b[0m\n\u001b[0;32m----> 2\u001b[0;31m     \u001b[0mall_data\u001b[0m\u001b[1;33m[\u001b[0m\u001b[0mticker\u001b[0m\u001b[1;33m]\u001b[0m \u001b[1;33m=\u001b[0m \u001b[0mweb\u001b[0m\u001b[1;33m.\u001b[0m\u001b[0mget_data_yahoo\u001b[0m\u001b[1;33m(\u001b[0m\u001b[0mticker\u001b[0m\u001b[1;33m,\u001b[0m \u001b[1;34m'1/1/2000'\u001b[0m\u001b[1;33m,\u001b[0m\u001b[1;34m'1/1/2010'\u001b[0m\u001b[1;33m)\u001b[0m\u001b[1;33m\u001b[0m\u001b[0m\n\u001b[0m",
      "\u001b[0;31mNameError\u001b[0m: name 'web' is not defined"
     ]
    }
   ],
   "source": [
    "for ticker in ['AAPL','IBM','MSFT','GOOG']:\n",
    "    all_data[ticker] = web.get_data_yahoo(ticker, '1/1/2000','1/1/2010')"
   ]
  },
  {
   "cell_type": "code",
   "execution_count": null,
   "metadata": {
    "collapsed": true
   },
   "outputs": [],
   "source": []
  }
 ],
 "metadata": {
  "kernelspec": {
   "display_name": "Python 3",
   "language": "python",
   "name": "python3"
  },
  "language_info": {
   "codemirror_mode": {
    "name": "ipython",
    "version": 3
   },
   "file_extension": ".py",
   "mimetype": "text/x-python",
   "name": "python",
   "nbconvert_exporter": "python",
   "pygments_lexer": "ipython3",
   "version": "3.6.0"
  }
 },
 "nbformat": 4,
 "nbformat_minor": 0
}
