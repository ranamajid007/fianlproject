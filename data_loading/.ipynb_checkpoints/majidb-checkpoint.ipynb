{
 "cells": [
  {
   "cell_type": "code",
   "execution_count": 1,
   "metadata": {
    "collapsed": false
   },
   "outputs": [
    {
     "ename": "FileNotFoundError",
     "evalue": "[Errno 2] No such file or directory: 'books.xml'",
     "output_type": "error",
     "traceback": [
      "\u001b[0;31m---------------------------------------------------------------------------\u001b[0m",
      "\u001b[0;31mFileNotFoundError\u001b[0m                         Traceback (most recent call last)",
      "\u001b[0;32m<ipython-input-1-3c037455e191>\u001b[0m in \u001b[0;36m<module>\u001b[0;34m()\u001b[0m\n\u001b[1;32m      2\u001b[0m \u001b[1;32mfrom\u001b[0m \u001b[0mlxml\u001b[0m \u001b[1;32mimport\u001b[0m \u001b[0metree\u001b[0m\u001b[1;33m\u001b[0m\u001b[0m\n\u001b[1;32m      3\u001b[0m \u001b[1;33m\u001b[0m\u001b[0m\n\u001b[0;32m----> 4\u001b[0;31m \u001b[0mf\u001b[0m \u001b[1;33m=\u001b[0m \u001b[0mopen\u001b[0m\u001b[1;33m(\u001b[0m\u001b[1;34m'books.xml'\u001b[0m\u001b[1;33m)\u001b[0m\u001b[1;33m.\u001b[0m\u001b[0mread\u001b[0m\u001b[1;33m(\u001b[0m\u001b[1;33m)\u001b[0m\u001b[1;33m\u001b[0m\u001b[0m\n\u001b[0m\u001b[1;32m      5\u001b[0m \u001b[0mxml_data\u001b[0m \u001b[1;33m=\u001b[0m \u001b[0metree\u001b[0m\u001b[1;33m.\u001b[0m\u001b[0mfromstring\u001b[0m\u001b[1;33m(\u001b[0m\u001b[0mf\u001b[0m\u001b[1;33m)\u001b[0m\u001b[1;33m\u001b[0m\u001b[0m\n\u001b[1;32m      6\u001b[0m \u001b[1;33m\u001b[0m\u001b[0m\n",
      "\u001b[0;31mFileNotFoundError\u001b[0m: [Errno 2] No such file or directory: 'books.xml'"
     ]
    }
   ],
   "source": [
    "from pandas import DataFrame\n",
    "from lxml import etree\n",
    "\n",
    "f = open('books.xml').read()\n",
    "xml_data = etree.fromstring(f)\n",
    "\n",
    "\n",
    "lst = []\n",
    "columns = []\n",
    "idx = 0\n",
    "for book in xml_data:\n",
    "    row = []\n",
    "    for tag in book:\n",
    "        if idx == 0: # only take first item to extract column names\n",
    "            columns.append(tag.tag)\n",
    "        row.append(tag.text.strip())\n",
    "\n",
    "    idx += 1\n",
    "    lst.append(row)\n",
    "\n",
    "df = DataFrame(lst, columns=columns)"
   ]
  },
  {
   "cell_type": "markdown",
   "metadata": {},
   "source": [
    "### How many books are there in the catalog?"
   ]
  },
  {
   "cell_type": "code",
   "execution_count": 47,
   "metadata": {
    "collapsed": false
   },
   "outputs": [
    {
     "name": "stdout",
     "output_type": "stream",
     "text": [
      "Total: 12\n"
     ]
    }
   ],
   "source": [
    "print('Total: ' + str(len(df))) # assuming no duplicate entry"
   ]
  },
  {
   "cell_type": "markdown",
   "metadata": {},
   "source": [
    "### Show the books which have price higher than $10!"
   ]
  },
  {
   "cell_type": "code",
   "execution_count": 48,
   "metadata": {
    "collapsed": false
   },
   "outputs": [
    {
     "data": {
      "text/html": [
       "<div>\n",
       "<table border=\"1\" class=\"dataframe\">\n",
       "  <thead>\n",
       "    <tr style=\"text-align: right;\">\n",
       "      <th></th>\n",
       "      <th>author</th>\n",
       "      <th>title</th>\n",
       "      <th>genre</th>\n",
       "      <th>price</th>\n",
       "      <th>publish_date</th>\n",
       "      <th>description</th>\n",
       "    </tr>\n",
       "  </thead>\n",
       "  <tbody>\n",
       "    <tr>\n",
       "      <th>0</th>\n",
       "      <td>Gambardella, Matthew</td>\n",
       "      <td>XML Developer's Guide</td>\n",
       "      <td>Computer</td>\n",
       "      <td>44.95</td>\n",
       "      <td>2000-10-01</td>\n",
       "      <td>An in-depth look at creating applications \\n  ...</td>\n",
       "    </tr>\n",
       "    <tr>\n",
       "      <th>9</th>\n",
       "      <td>O'Brien, Tim</td>\n",
       "      <td>Microsoft .NET: The Programming Bible</td>\n",
       "      <td>Computer</td>\n",
       "      <td>36.95</td>\n",
       "      <td>2000-12-09</td>\n",
       "      <td>Microsoft's .NET initiative is explored in \\n ...</td>\n",
       "    </tr>\n",
       "    <tr>\n",
       "      <th>10</th>\n",
       "      <td>O'Brien, Tim</td>\n",
       "      <td>MSXML3: A Comprehensive Guide</td>\n",
       "      <td>Computer</td>\n",
       "      <td>36.95</td>\n",
       "      <td>2000-12-01</td>\n",
       "      <td>The Microsoft MSXML3 parser is covered in \\n  ...</td>\n",
       "    </tr>\n",
       "    <tr>\n",
       "      <th>11</th>\n",
       "      <td>Galos, Mike</td>\n",
       "      <td>Visual Studio 7: A Comprehensive Guide</td>\n",
       "      <td>Computer</td>\n",
       "      <td>49.95</td>\n",
       "      <td>2001-04-16</td>\n",
       "      <td>Microsoft Visual Studio 7 is explored in depth...</td>\n",
       "    </tr>\n",
       "  </tbody>\n",
       "</table>\n",
       "</div>"
      ],
      "text/plain": [
       "                  author                                   title     genre  \\\n",
       "0   Gambardella, Matthew                   XML Developer's Guide  Computer   \n",
       "9           O'Brien, Tim   Microsoft .NET: The Programming Bible  Computer   \n",
       "10          O'Brien, Tim           MSXML3: A Comprehensive Guide  Computer   \n",
       "11           Galos, Mike  Visual Studio 7: A Comprehensive Guide  Computer   \n",
       "\n",
       "    price publish_date                                        description  \n",
       "0   44.95   2000-10-01  An in-depth look at creating applications \\n  ...  \n",
       "9   36.95   2000-12-09  Microsoft's .NET initiative is explored in \\n ...  \n",
       "10  36.95   2000-12-01  The Microsoft MSXML3 parser is covered in \\n  ...  \n",
       "11  49.95   2001-04-16  Microsoft Visual Studio 7 is explored in depth...  "
      ]
     },
     "execution_count": 48,
     "metadata": {},
     "output_type": "execute_result"
    }
   ],
   "source": [
    "df[df['price'].map(lambda x:float(x)) > 10]"
   ]
  },
  {
   "cell_type": "markdown",
   "metadata": {},
   "source": [
    "### Suppose I want to buy books which price is not more than $10. How many books are there?"
   ]
  },
  {
   "cell_type": "code",
   "execution_count": 49,
   "metadata": {
    "collapsed": false
   },
   "outputs": [
    {
     "name": "stdout",
     "output_type": "stream",
     "text": [
      "books with price not more than $10: 8\n"
     ]
    }
   ],
   "source": [
    "# Simply subtract the total number with the the number of books with price > $10\n",
    "print('books with price not more than $10: '+str(len(df)-len(df[df['price'].map(lambda x:float(x)) > 10])))"
   ]
  },
  {
   "cell_type": "markdown",
   "metadata": {},
   "source": [
    "### Show the maximum of book price!"
   ]
  },
  {
   "cell_type": "code",
   "execution_count": 53,
   "metadata": {
    "collapsed": false
   },
   "outputs": [
    {
     "data": {
      "text/plain": [
       "'49.95'"
      ]
     },
     "execution_count": 53,
     "metadata": {},
     "output_type": "execute_result"
    }
   ],
   "source": [
    "\"%.2f\" % df['price'].map(lambda x:float(x)).describe()['max']"
   ]
  },
  {
   "cell_type": "markdown",
   "metadata": {},
   "source": [
    "### Show the minimum of book price!"
   ]
  },
  {
   "cell_type": "code",
   "execution_count": 52,
   "metadata": {
    "collapsed": false
   },
   "outputs": [
    {
     "data": {
      "text/plain": [
       "'4.95'"
      ]
     },
     "execution_count": 52,
     "metadata": {},
     "output_type": "execute_result"
    }
   ],
   "source": [
    "\"%.2f\" % df['price'].map(lambda x:float(x)).describe()['min']"
   ]
  },
  {
   "cell_type": "markdown",
   "metadata": {},
   "source": [
    "### Are there any books which have been published at the same date? Show your result!"
   ]
  },
  {
   "cell_type": "markdown",
   "metadata": {},
   "source": [
    "Yes. First, sort the DataFrame by \"publish_date\". Then, set multiple index (i.e., hierarchical index) of the DataFrame to \"publish_date\" and \"title\". We can see below that there are two book titles with date 2000-11-02."
   ]
  },
  {
   "cell_type": "code",
   "execution_count": 54,
   "metadata": {
    "collapsed": false
   },
   "outputs": [
    {
     "data": {
      "text/html": [
       "<div>\n",
       "<table border=\"1\" class=\"dataframe\">\n",
       "  <thead>\n",
       "    <tr style=\"text-align: right;\">\n",
       "      <th></th>\n",
       "      <th></th>\n",
       "      <th>author</th>\n",
       "      <th>genre</th>\n",
       "      <th>price</th>\n",
       "      <th>description</th>\n",
       "    </tr>\n",
       "    <tr>\n",
       "      <th>publish_date</th>\n",
       "      <th>title</th>\n",
       "      <th></th>\n",
       "      <th></th>\n",
       "      <th></th>\n",
       "      <th></th>\n",
       "    </tr>\n",
       "  </thead>\n",
       "  <tbody>\n",
       "    <tr>\n",
       "      <th>2000-09-02</th>\n",
       "      <th>Lover Birds</th>\n",
       "      <td>Randall, Cynthia</td>\n",
       "      <td>Romance</td>\n",
       "      <td>4.95</td>\n",
       "      <td>When Carla meets Paul at an ornithology \\n    ...</td>\n",
       "    </tr>\n",
       "    <tr>\n",
       "      <th>2000-10-01</th>\n",
       "      <th>XML Developer's Guide</th>\n",
       "      <td>Gambardella, Matthew</td>\n",
       "      <td>Computer</td>\n",
       "      <td>44.95</td>\n",
       "      <td>An in-depth look at creating applications \\n  ...</td>\n",
       "    </tr>\n",
       "    <tr>\n",
       "      <th rowspan=\"2\" valign=\"top\">2000-11-02</th>\n",
       "      <th>Splish Splash</th>\n",
       "      <td>Thurman, Paula</td>\n",
       "      <td>Romance</td>\n",
       "      <td>4.95</td>\n",
       "      <td>A deep sea diver finds true love twenty \\n    ...</td>\n",
       "    </tr>\n",
       "    <tr>\n",
       "      <th>Paradox Lost</th>\n",
       "      <td>Kress, Peter</td>\n",
       "      <td>Science Fiction</td>\n",
       "      <td>6.95</td>\n",
       "      <td>After an inadvertant trip through a Heisenberg...</td>\n",
       "    </tr>\n",
       "    <tr>\n",
       "      <th>2000-11-17</th>\n",
       "      <th>Maeve Ascendant</th>\n",
       "      <td>Corets, Eva</td>\n",
       "      <td>Fantasy</td>\n",
       "      <td>5.95</td>\n",
       "      <td>After the collapse of a nanotechnology \\n     ...</td>\n",
       "    </tr>\n",
       "    <tr>\n",
       "      <th>2000-12-01</th>\n",
       "      <th>MSXML3: A Comprehensive Guide</th>\n",
       "      <td>O'Brien, Tim</td>\n",
       "      <td>Computer</td>\n",
       "      <td>36.95</td>\n",
       "      <td>The Microsoft MSXML3 parser is covered in \\n  ...</td>\n",
       "    </tr>\n",
       "    <tr>\n",
       "      <th>2000-12-06</th>\n",
       "      <th>Creepy Crawlies</th>\n",
       "      <td>Knorr, Stefan</td>\n",
       "      <td>Horror</td>\n",
       "      <td>4.95</td>\n",
       "      <td>An anthology of horror stories about roaches,\\...</td>\n",
       "    </tr>\n",
       "    <tr>\n",
       "      <th>2000-12-09</th>\n",
       "      <th>Microsoft .NET: The Programming Bible</th>\n",
       "      <td>O'Brien, Tim</td>\n",
       "      <td>Computer</td>\n",
       "      <td>36.95</td>\n",
       "      <td>Microsoft's .NET initiative is explored in \\n ...</td>\n",
       "    </tr>\n",
       "    <tr>\n",
       "      <th>2000-12-16</th>\n",
       "      <th>Midnight Rain</th>\n",
       "      <td>Ralls, Kim</td>\n",
       "      <td>Fantasy</td>\n",
       "      <td>5.95</td>\n",
       "      <td>A former architect battles corporate zombies, ...</td>\n",
       "    </tr>\n",
       "    <tr>\n",
       "      <th>2001-03-10</th>\n",
       "      <th>Oberon's Legacy</th>\n",
       "      <td>Corets, Eva</td>\n",
       "      <td>Fantasy</td>\n",
       "      <td>5.95</td>\n",
       "      <td>In post-apocalypse England, the mysterious \\n ...</td>\n",
       "    </tr>\n",
       "    <tr>\n",
       "      <th>2001-04-16</th>\n",
       "      <th>Visual Studio 7: A Comprehensive Guide</th>\n",
       "      <td>Galos, Mike</td>\n",
       "      <td>Computer</td>\n",
       "      <td>49.95</td>\n",
       "      <td>Microsoft Visual Studio 7 is explored in depth...</td>\n",
       "    </tr>\n",
       "    <tr>\n",
       "      <th>2001-09-10</th>\n",
       "      <th>The Sundered Grail</th>\n",
       "      <td>Corets, Eva</td>\n",
       "      <td>Fantasy</td>\n",
       "      <td>5.95</td>\n",
       "      <td>The two daughters of Maeve, half-sisters, \\n  ...</td>\n",
       "    </tr>\n",
       "  </tbody>\n",
       "</table>\n",
       "</div>"
      ],
      "text/plain": [
       "                                                                   author  \\\n",
       "publish_date title                                                          \n",
       "2000-09-02   Lover Birds                                 Randall, Cynthia   \n",
       "2000-10-01   XML Developer's Guide                   Gambardella, Matthew   \n",
       "2000-11-02   Splish Splash                                 Thurman, Paula   \n",
       "             Paradox Lost                                    Kress, Peter   \n",
       "2000-11-17   Maeve Ascendant                                  Corets, Eva   \n",
       "2000-12-01   MSXML3: A Comprehensive Guide                   O'Brien, Tim   \n",
       "2000-12-06   Creepy Crawlies                                Knorr, Stefan   \n",
       "2000-12-09   Microsoft .NET: The Programming Bible           O'Brien, Tim   \n",
       "2000-12-16   Midnight Rain                                     Ralls, Kim   \n",
       "2001-03-10   Oberon's Legacy                                  Corets, Eva   \n",
       "2001-04-16   Visual Studio 7: A Comprehensive Guide           Galos, Mike   \n",
       "2001-09-10   The Sundered Grail                               Corets, Eva   \n",
       "\n",
       "                                                               genre  price  \\\n",
       "publish_date title                                                            \n",
       "2000-09-02   Lover Birds                                     Romance   4.95   \n",
       "2000-10-01   XML Developer's Guide                          Computer  44.95   \n",
       "2000-11-02   Splish Splash                                   Romance   4.95   \n",
       "             Paradox Lost                            Science Fiction   6.95   \n",
       "2000-11-17   Maeve Ascendant                                 Fantasy   5.95   \n",
       "2000-12-01   MSXML3: A Comprehensive Guide                  Computer  36.95   \n",
       "2000-12-06   Creepy Crawlies                                  Horror   4.95   \n",
       "2000-12-09   Microsoft .NET: The Programming Bible          Computer  36.95   \n",
       "2000-12-16   Midnight Rain                                   Fantasy   5.95   \n",
       "2001-03-10   Oberon's Legacy                                 Fantasy   5.95   \n",
       "2001-04-16   Visual Studio 7: A Comprehensive Guide         Computer  49.95   \n",
       "2001-09-10   The Sundered Grail                              Fantasy   5.95   \n",
       "\n",
       "                                                                                           description  \n",
       "publish_date title                                                                                      \n",
       "2000-09-02   Lover Birds                             When Carla meets Paul at an ornithology \\n    ...  \n",
       "2000-10-01   XML Developer's Guide                   An in-depth look at creating applications \\n  ...  \n",
       "2000-11-02   Splish Splash                           A deep sea diver finds true love twenty \\n    ...  \n",
       "             Paradox Lost                            After an inadvertant trip through a Heisenberg...  \n",
       "2000-11-17   Maeve Ascendant                         After the collapse of a nanotechnology \\n     ...  \n",
       "2000-12-01   MSXML3: A Comprehensive Guide           The Microsoft MSXML3 parser is covered in \\n  ...  \n",
       "2000-12-06   Creepy Crawlies                         An anthology of horror stories about roaches,\\...  \n",
       "2000-12-09   Microsoft .NET: The Programming Bible   Microsoft's .NET initiative is explored in \\n ...  \n",
       "2000-12-16   Midnight Rain                           A former architect battles corporate zombies, ...  \n",
       "2001-03-10   Oberon's Legacy                         In post-apocalypse England, the mysterious \\n ...  \n",
       "2001-04-16   Visual Studio 7: A Comprehensive Guide  Microsoft Visual Studio 7 is explored in depth...  \n",
       "2001-09-10   The Sundered Grail                      The two daughters of Maeve, half-sisters, \\n  ...  "
      ]
     },
     "execution_count": 54,
     "metadata": {},
     "output_type": "execute_result"
    }
   ],
   "source": [
    "df.sort_values(by=['publish_date']).set_index(['publish_date', 'title'])"
   ]
  },
  {
   "cell_type": "markdown",
   "metadata": {},
   "source": [
    "### How many book genre are there in the catalog?"
   ]
  },
  {
   "cell_type": "code",
   "execution_count": 56,
   "metadata": {
    "collapsed": false
   },
   "outputs": [
    {
     "data": {
      "text/plain": [
       "5"
      ]
     },
     "execution_count": 56,
     "metadata": {},
     "output_type": "execute_result"
    }
   ],
   "source": [
    "len(df['genre'].unique())"
   ]
  },
  {
   "cell_type": "markdown",
   "metadata": {},
   "source": [
    "### Show the number of books according to the genre!"
   ]
  },
  {
   "cell_type": "code",
   "execution_count": 57,
   "metadata": {
    "collapsed": false
   },
   "outputs": [
    {
     "data": {
      "text/plain": [
       "Computer           4\n",
       "Fantasy            4\n",
       "Romance            2\n",
       "Horror             1\n",
       "Science Fiction    1\n",
       "Name: genre, dtype: int64"
      ]
     },
     "execution_count": 57,
     "metadata": {},
     "output_type": "execute_result"
    }
   ],
   "source": [
    "df['genre'].value_counts()"
   ]
  },
  {
   "cell_type": "markdown",
   "metadata": {},
   "source": [
    "### Show authors who have published more than 1 book!"
   ]
  },
  {
   "cell_type": "code",
   "execution_count": 58,
   "metadata": {
    "collapsed": false
   },
   "outputs": [
    {
     "data": {
      "text/plain": [
       "Corets, Eva     3\n",
       "O'Brien, Tim    2\n",
       "Name: author, dtype: int64"
      ]
     },
     "execution_count": 58,
     "metadata": {},
     "output_type": "execute_result"
    }
   ],
   "source": [
    "df['author'].value_counts()[lambda x: x > 1]"
   ]
  },
  {
   "cell_type": "markdown",
   "metadata": {},
   "source": [
    "### Do the year of 2000 have more books than the year of 2001? Show your argument!"
   ]
  },
  {
   "cell_type": "code",
   "execution_count": 60,
   "metadata": {
    "collapsed": false
   },
   "outputs": [
    {
     "name": "stdout",
     "output_type": "stream",
     "text": [
      "2000    9\n",
      "2001    3\n",
      "Name: year, dtype: int64\n"
     ]
    }
   ],
   "source": [
    "# Prepare an additional column containing year of publishing (i.e., 4 first characters from \"publish_date\")\n",
    "year = df['publish_date'].map(lambda x:x[0:4])\n",
    "\n",
    "# Assign it to \"year\" column of DataFrame\n",
    "df['year'] = year\n",
    "\n",
    "# Get the count of each distinct year\n",
    "print(df['year'].value_counts())"
   ]
  },
  {
   "cell_type": "markdown",
   "metadata": {},
   "source": [
    "So, yes. Year of 2000 has more books than year of 2001."
   ]
  },
  {
   "cell_type": "code",
   "execution_count": null,
   "metadata": {
    "collapsed": true
   },
   "outputs": [],
   "source": []
  }
 ],
 "metadata": {
  "kernelspec": {
   "display_name": "Python 3",
   "language": "python",
   "name": "python3"
  },
  "language_info": {
   "codemirror_mode": {
    "name": "ipython",
    "version": 3
   },
   "file_extension": ".py",
   "mimetype": "text/x-python",
   "name": "python",
   "nbconvert_exporter": "python",
   "pygments_lexer": "ipython3",
   "version": "3.6.0"
  }
 },
 "nbformat": 4,
 "nbformat_minor": 2
}
