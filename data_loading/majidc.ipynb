{
 "cells": [
  {
   "cell_type": "code",
   "execution_count": 2,
   "metadata": {
    "collapsed": true
   },
   "outputs": [],
   "source": [
    "import json\n",
    "data = json.loads(open('customer_info.json').read())"
   ]
  },
  {
   "cell_type": "markdown",
   "metadata": {},
   "source": [
    "### How many customers are there?"
   ]
  },
  {
   "cell_type": "code",
   "execution_count": 19,
   "metadata": {
    "collapsed": false
   },
   "outputs": [
    {
     "data": {
      "text/plain": [
       "3"
      ]
     },
     "execution_count": 19,
     "metadata": {},
     "output_type": "execute_result"
    }
   ],
   "source": [
    "len(data) # assuming no duplicate entry"
   ]
  },
  {
   "cell_type": "markdown",
   "metadata": {},
   "source": [
    "### Show customers which age is older than 27!"
   ]
  },
  {
   "cell_type": "code",
   "execution_count": 12,
   "metadata": {
    "collapsed": false
   },
   "outputs": [
    {
     "name": "stdout",
     "output_type": "stream",
     "text": [
      "Bob Johnson\n",
      "Frank Gupta\n"
     ]
    }
   ],
   "source": [
    "for cust in list(filter(lambda x:x['age'] > 27, data)):\n",
    "    print(cust['firstName'], cust['lastName'])"
   ]
  },
  {
   "cell_type": "markdown",
   "metadata": {},
   "source": [
    "### Show customers who have no home phone number!"
   ]
  },
  {
   "cell_type": "code",
   "execution_count": 13,
   "metadata": {
    "collapsed": false
   },
   "outputs": [
    {
     "name": "stdout",
     "output_type": "stream",
     "text": [
      "Frank Gupta\n"
     ]
    }
   ],
   "source": [
    "def no_home_phone_number(x):\n",
    "    found = False\n",
    "    for i in x['phoneNumber']:\n",
    "        if i['type']=='home':\n",
    "            found = True\n",
    "            break;\n",
    "    return not found\n",
    "\n",
    "for cust in filter(no_home_phone_number, data):\n",
    "    print(cust['firstName'], cust['lastName'])"
   ]
  },
  {
   "cell_type": "markdown",
   "metadata": {},
   "source": [
    "### Show customers who have no office phone number!"
   ]
  },
  {
   "cell_type": "code",
   "execution_count": 14,
   "metadata": {
    "collapsed": false
   },
   "outputs": [
    {
     "name": "stdout",
     "output_type": "stream",
     "text": [
      "John Smith\n",
      "Bob Johnson\n"
     ]
    }
   ],
   "source": [
    "def no_office_phone_number(x):\n",
    "    found = False\n",
    "    for i in x['phoneNumber']:\n",
    "        if i['type']=='office':\n",
    "            found = True\n",
    "            break;\n",
    "    return not found\n",
    "\n",
    "for cust in filter(no_office_phone_number, data):\n",
    "    print(cust['firstName'], cust['lastName'])"
   ]
  },
  {
   "cell_type": "markdown",
   "metadata": {},
   "source": [
    "### Show customers who lives in New York!"
   ]
  },
  {
   "cell_type": "code",
   "execution_count": 17,
   "metadata": {
    "collapsed": false
   },
   "outputs": [
    {
     "name": "stdout",
     "output_type": "stream",
     "text": [
      "John Smith\n",
      "Bob Johnson\n"
     ]
    }
   ],
   "source": [
    "for cust in filter(lambda x: x['address']['city'] == 'New York', data):\n",
    "    print(cust['firstName'], cust['lastName'])"
   ]
  },
  {
   "cell_type": "markdown",
   "metadata": {},
   "source": [
    "### Show customers who have credit limit more than 10000!"
   ]
  },
  {
   "cell_type": "code",
   "execution_count": 18,
   "metadata": {
    "collapsed": false
   },
   "outputs": [
    {
     "name": "stdout",
     "output_type": "stream",
     "text": [
      "Bob Johnson: 15000\n"
     ]
    }
   ],
   "source": [
    "for cust in filter(lambda x: x['creditLimit'] > 10000, data):\n",
    "    print(cust['firstName'] + \" \" + cust['lastName'] + \": \" + str(cust['creditLimit']))"
   ]
  },
  {
   "cell_type": "code",
   "execution_count": null,
   "metadata": {
    "collapsed": true
   },
   "outputs": [],
   "source": []
  }
 ],
 "metadata": {
  "kernelspec": {
   "display_name": "Python 3",
   "language": "python",
   "name": "python3"
  },
  "language_info": {
   "codemirror_mode": {
    "name": "ipython",
    "version": 3
   },
   "file_extension": ".py",
   "mimetype": "text/x-python",
   "name": "python",
   "nbconvert_exporter": "python",
   "pygments_lexer": "ipython3",
   "version": "3.6.0"
  }
 },
 "nbformat": 4,
 "nbformat_minor": 2
}
